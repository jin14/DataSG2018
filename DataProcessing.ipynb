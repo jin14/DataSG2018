{
 "cells": [
  {
   "cell_type": "code",
   "execution_count": 1,
   "metadata": {},
   "outputs": [],
   "source": [
    "import pandas as pd\n",
    "import numpy as np\n",
    "import xgboost as xgb\n",
    "from datetime import datetime, timedelta\n",
    "pd.options.display.max_columns = 99"
   ]
  },
  {
   "cell_type": "code",
   "execution_count": 2,
   "metadata": {},
   "outputs": [],
   "source": [
    "data = pd.read_csv('./data/byweek_lag.csv')\n",
    "volatile = pd.read_csv('./data/volatile.csv')"
   ]
  },
  {
   "cell_type": "code",
   "execution_count": 3,
   "metadata": {},
   "outputs": [
    {
     "data": {
      "text/html": [
       "<div>\n",
       "<style scoped>\n",
       "    .dataframe tbody tr th:only-of-type {\n",
       "        vertical-align: middle;\n",
       "    }\n",
       "\n",
       "    .dataframe tbody tr th {\n",
       "        vertical-align: top;\n",
       "    }\n",
       "\n",
       "    .dataframe thead th {\n",
       "        text-align: right;\n",
       "    }\n",
       "</style>\n",
       "<table border=\"1\" class=\"dataframe\">\n",
       "  <thead>\n",
       "    <tr style=\"text-align: right;\">\n",
       "      <th></th>\n",
       "      <th>week</th>\n",
       "      <th>CustomerIdx</th>\n",
       "      <th>IsinIdx</th>\n",
       "      <th>BuySell</th>\n",
       "      <th>CustomerInterest</th>\n",
       "      <th>TickerIdx</th>\n",
       "      <th>ActualMaturityDateKey</th>\n",
       "      <th>IssueDateKey</th>\n",
       "      <th>Seniority</th>\n",
       "      <th>Currency</th>\n",
       "      <th>ActivityGroup</th>\n",
       "      <th>Region_x</th>\n",
       "      <th>Activity</th>\n",
       "      <th>RiskCaptain</th>\n",
       "      <th>Owner</th>\n",
       "      <th>CompositeRating</th>\n",
       "      <th>IndustrySector</th>\n",
       "      <th>IndustrySubgroup</th>\n",
       "      <th>MarketIssue</th>\n",
       "      <th>IssuedAmount</th>\n",
       "      <th>CouponType</th>\n",
       "      <th>Sector</th>\n",
       "      <th>Subsector</th>\n",
       "      <th>Region_y</th>\n",
       "      <th>Country</th>\n",
       "      <th>Price</th>\n",
       "      <th>Yield</th>\n",
       "      <th>ZSpread</th>\n",
       "    </tr>\n",
       "  </thead>\n",
       "  <tbody>\n",
       "    <tr>\n",
       "      <th>0</th>\n",
       "      <td>2015-12-28</td>\n",
       "      <td>10</td>\n",
       "      <td>312</td>\n",
       "      <td>Buy</td>\n",
       "      <td>0.0</td>\n",
       "      <td>3197</td>\n",
       "      <td>20280301</td>\n",
       "      <td>20171213</td>\n",
       "      <td>SEN</td>\n",
       "      <td>USD</td>\n",
       "      <td>FLOW G10</td>\n",
       "      <td>AMERICAS</td>\n",
       "      <td>CDS AND HY</td>\n",
       "      <td>CDS AND HY</td>\n",
       "      <td>US HY YANKEE</td>\n",
       "      <td>BB-</td>\n",
       "      <td>Communications</td>\n",
       "      <td>Cable/Satellite TV</td>\n",
       "      <td>Priv placement</td>\n",
       "      <td>1.000000e+09</td>\n",
       "      <td>FIXED</td>\n",
       "      <td>Corporation</td>\n",
       "      <td>Corp - Consumer Staples</td>\n",
       "      <td>Americas</td>\n",
       "      <td>USA</td>\n",
       "      <td>NaN</td>\n",
       "      <td>NaN</td>\n",
       "      <td>NaN</td>\n",
       "    </tr>\n",
       "    <tr>\n",
       "      <th>1</th>\n",
       "      <td>2015-12-28</td>\n",
       "      <td>10</td>\n",
       "      <td>316</td>\n",
       "      <td>Sell</td>\n",
       "      <td>0.0</td>\n",
       "      <td>3099</td>\n",
       "      <td>20201125</td>\n",
       "      <td>20131125</td>\n",
       "      <td>SEN</td>\n",
       "      <td>CAD</td>\n",
       "      <td>FLOW G10</td>\n",
       "      <td>AMERICAS</td>\n",
       "      <td>CDS AND HY</td>\n",
       "      <td>CDS AND HY</td>\n",
       "      <td>US HY FIN AUTOS</td>\n",
       "      <td>BBB+</td>\n",
       "      <td>Communications</td>\n",
       "      <td>Telephone-Integrated</td>\n",
       "      <td>Global</td>\n",
       "      <td>1.000000e+09</td>\n",
       "      <td>FIXED</td>\n",
       "      <td>Corporation</td>\n",
       "      <td>Corp - Consumer Staples</td>\n",
       "      <td>Americas</td>\n",
       "      <td>USA</td>\n",
       "      <td>NaN</td>\n",
       "      <td>NaN</td>\n",
       "      <td>NaN</td>\n",
       "    </tr>\n",
       "    <tr>\n",
       "      <th>2</th>\n",
       "      <td>2015-12-28</td>\n",
       "      <td>10</td>\n",
       "      <td>2686</td>\n",
       "      <td>Sell</td>\n",
       "      <td>0.0</td>\n",
       "      <td>722</td>\n",
       "      <td>20170619</td>\n",
       "      <td>20070619</td>\n",
       "      <td>SEN</td>\n",
       "      <td>USD</td>\n",
       "      <td>SAS &amp; COVERED BONDS</td>\n",
       "      <td>USD SAS</td>\n",
       "      <td>USD SAS</td>\n",
       "      <td>USD SAS</td>\n",
       "      <td>USD SAS</td>\n",
       "      <td>AAA</td>\n",
       "      <td>Financial</td>\n",
       "      <td>Mortgage Banks</td>\n",
       "      <td>Euro mtn</td>\n",
       "      <td>1.000000e+09</td>\n",
       "      <td>FIXED</td>\n",
       "      <td>Corporation</td>\n",
       "      <td>Corp - Consumer Staples</td>\n",
       "      <td>Americas</td>\n",
       "      <td>USA</td>\n",
       "      <td>106.0530</td>\n",
       "      <td>1.3598</td>\n",
       "      <td>0.4164</td>\n",
       "    </tr>\n",
       "    <tr>\n",
       "      <th>3</th>\n",
       "      <td>2015-12-28</td>\n",
       "      <td>10</td>\n",
       "      <td>4305</td>\n",
       "      <td>Buy</td>\n",
       "      <td>0.0</td>\n",
       "      <td>24</td>\n",
       "      <td>20250728</td>\n",
       "      <td>20150728</td>\n",
       "      <td>SUB</td>\n",
       "      <td>USD</td>\n",
       "      <td>FLOW G10</td>\n",
       "      <td>AMERICAS</td>\n",
       "      <td>HG CASH</td>\n",
       "      <td>HG CASH FIN</td>\n",
       "      <td>YANKEES FIN LT2</td>\n",
       "      <td>BBB</td>\n",
       "      <td>Financial</td>\n",
       "      <td>Commer Banks Non-US</td>\n",
       "      <td>Priv placement</td>\n",
       "      <td>1.500000e+09</td>\n",
       "      <td>FIXED</td>\n",
       "      <td>Corporation</td>\n",
       "      <td>Corp - Consumer Staples</td>\n",
       "      <td>Americas</td>\n",
       "      <td>USA</td>\n",
       "      <td>100.1372</td>\n",
       "      <td>4.7316</td>\n",
       "      <td>2.7202</td>\n",
       "    </tr>\n",
       "    <tr>\n",
       "      <th>4</th>\n",
       "      <td>2015-12-28</td>\n",
       "      <td>10</td>\n",
       "      <td>4306</td>\n",
       "      <td>Sell</td>\n",
       "      <td>0.0</td>\n",
       "      <td>24</td>\n",
       "      <td>20170202</td>\n",
       "      <td>20120202</td>\n",
       "      <td>SEN</td>\n",
       "      <td>USD</td>\n",
       "      <td>FLOW G10</td>\n",
       "      <td>AMERICAS</td>\n",
       "      <td>HG CASH</td>\n",
       "      <td>HG CASH FIN</td>\n",
       "      <td>YANKEES FIN SHORT CASH</td>\n",
       "      <td>A</td>\n",
       "      <td>Financial</td>\n",
       "      <td>Money Center Banks</td>\n",
       "      <td>Priv placement</td>\n",
       "      <td>1.500000e+09</td>\n",
       "      <td>FIXED</td>\n",
       "      <td>Corporation</td>\n",
       "      <td>Corp - Consumer Staples</td>\n",
       "      <td>Americas</td>\n",
       "      <td>USA</td>\n",
       "      <td>102.8962</td>\n",
       "      <td>1.4870</td>\n",
       "      <td>0.6444</td>\n",
       "    </tr>\n",
       "  </tbody>\n",
       "</table>\n",
       "</div>"
      ],
      "text/plain": [
       "         week  CustomerIdx  IsinIdx BuySell  CustomerInterest  TickerIdx  \\\n",
       "0  2015-12-28           10      312     Buy               0.0       3197   \n",
       "1  2015-12-28           10      316    Sell               0.0       3099   \n",
       "2  2015-12-28           10     2686    Sell               0.0        722   \n",
       "3  2015-12-28           10     4305     Buy               0.0         24   \n",
       "4  2015-12-28           10     4306    Sell               0.0         24   \n",
       "\n",
       "   ActualMaturityDateKey  IssueDateKey Seniority Currency  \\\n",
       "0               20280301      20171213       SEN      USD   \n",
       "1               20201125      20131125       SEN      CAD   \n",
       "2               20170619      20070619       SEN      USD   \n",
       "3               20250728      20150728       SUB      USD   \n",
       "4               20170202      20120202       SEN      USD   \n",
       "\n",
       "         ActivityGroup  Region_x    Activity  RiskCaptain  \\\n",
       "0             FLOW G10  AMERICAS  CDS AND HY   CDS AND HY   \n",
       "1             FLOW G10  AMERICAS  CDS AND HY   CDS AND HY   \n",
       "2  SAS & COVERED BONDS   USD SAS     USD SAS      USD SAS   \n",
       "3             FLOW G10  AMERICAS     HG CASH  HG CASH FIN   \n",
       "4             FLOW G10  AMERICAS     HG CASH  HG CASH FIN   \n",
       "\n",
       "                    Owner CompositeRating  IndustrySector  \\\n",
       "0            US HY YANKEE             BB-  Communications   \n",
       "1         US HY FIN AUTOS            BBB+  Communications   \n",
       "2                 USD SAS             AAA       Financial   \n",
       "3         YANKEES FIN LT2             BBB       Financial   \n",
       "4  YANKEES FIN SHORT CASH               A       Financial   \n",
       "\n",
       "       IndustrySubgroup     MarketIssue  IssuedAmount CouponType       Sector  \\\n",
       "0    Cable/Satellite TV  Priv placement  1.000000e+09      FIXED  Corporation   \n",
       "1  Telephone-Integrated          Global  1.000000e+09      FIXED  Corporation   \n",
       "2        Mortgage Banks        Euro mtn  1.000000e+09      FIXED  Corporation   \n",
       "3   Commer Banks Non-US  Priv placement  1.500000e+09      FIXED  Corporation   \n",
       "4    Money Center Banks  Priv placement  1.500000e+09      FIXED  Corporation   \n",
       "\n",
       "                 Subsector  Region_y Country     Price   Yield  ZSpread  \n",
       "0  Corp - Consumer Staples  Americas     USA       NaN     NaN      NaN  \n",
       "1  Corp - Consumer Staples  Americas     USA       NaN     NaN      NaN  \n",
       "2  Corp - Consumer Staples  Americas     USA  106.0530  1.3598   0.4164  \n",
       "3  Corp - Consumer Staples  Americas     USA  100.1372  4.7316   2.7202  \n",
       "4  Corp - Consumer Staples  Americas     USA  102.8962  1.4870   0.6444  "
      ]
     },
     "execution_count": 3,
     "metadata": {},
     "output_type": "execute_result"
    }
   ],
   "source": [
    "data.head()"
   ]
  },
  {
   "cell_type": "code",
   "execution_count": 4,
   "metadata": {},
   "outputs": [],
   "source": [
    "def convertDatetime(x):\n",
    "    x = str(x)\n",
    "    date = x[:4] + '-' + x[4:6] + '-' + x[6:]\n",
    "    return datetime.strptime(date, '%Y-%m-%d')"
   ]
  },
  {
   "cell_type": "code",
   "execution_count": 5,
   "metadata": {},
   "outputs": [],
   "source": [
    "combined = data.merge(volatile,how='left',on='IsinIdx')"
   ]
  },
  {
   "cell_type": "code",
   "execution_count": 6,
   "metadata": {},
   "outputs": [],
   "source": [
    "def getMonths(x):\n",
    "    maturity = str(x['ActualMaturityDateKey'])\n",
    "    issue = str(x['IssueDateKey'])\n",
    "    try:\n",
    "        yeardiff = int(maturity[:4]) - int(issue[:4])\n",
    "        monthdiff = int(maturity[4:6]) - int(issue[4:6])\n",
    "        return yeardiff*12 + monthdiff\n",
    "    except:\n",
    "        return None"
   ]
  },
  {
   "cell_type": "code",
   "execution_count": 7,
   "metadata": {},
   "outputs": [],
   "source": [
    "combined['ActualMaturityDateKey'] = combined['ActualMaturityDateKey'].apply(lambda x: convertDatetime(x))"
   ]
  },
  {
   "cell_type": "code",
   "execution_count": 8,
   "metadata": {},
   "outputs": [],
   "source": [
    "combined['daysToMaturity'] = combined['ActualMaturityDateKey'] - combined['week'].apply(lambda x: datetime.strptime(x, '%Y-%m-%d'))"
   ]
  },
  {
   "cell_type": "code",
   "execution_count": 9,
   "metadata": {},
   "outputs": [],
   "source": [
    "combined['daysToMaturity'] = combined['daysToMaturity'].apply(lambda x: int(x.days))"
   ]
  },
  {
   "cell_type": "code",
   "execution_count": 10,
   "metadata": {},
   "outputs": [
    {
     "data": {
      "text/html": [
       "<div>\n",
       "<style scoped>\n",
       "    .dataframe tbody tr th:only-of-type {\n",
       "        vertical-align: middle;\n",
       "    }\n",
       "\n",
       "    .dataframe tbody tr th {\n",
       "        vertical-align: top;\n",
       "    }\n",
       "\n",
       "    .dataframe thead th {\n",
       "        text-align: right;\n",
       "    }\n",
       "</style>\n",
       "<table border=\"1\" class=\"dataframe\">\n",
       "  <thead>\n",
       "    <tr style=\"text-align: right;\">\n",
       "      <th></th>\n",
       "      <th>week</th>\n",
       "      <th>CustomerIdx</th>\n",
       "      <th>IsinIdx</th>\n",
       "      <th>BuySell</th>\n",
       "      <th>CustomerInterest</th>\n",
       "      <th>TickerIdx</th>\n",
       "      <th>ActualMaturityDateKey</th>\n",
       "      <th>IssueDateKey</th>\n",
       "      <th>Seniority</th>\n",
       "      <th>Currency</th>\n",
       "      <th>ActivityGroup</th>\n",
       "      <th>Region_x</th>\n",
       "      <th>Activity</th>\n",
       "      <th>RiskCaptain</th>\n",
       "      <th>Owner</th>\n",
       "      <th>CompositeRating</th>\n",
       "      <th>IndustrySector</th>\n",
       "      <th>IndustrySubgroup</th>\n",
       "      <th>MarketIssue</th>\n",
       "      <th>IssuedAmount</th>\n",
       "      <th>CouponType</th>\n",
       "      <th>Sector</th>\n",
       "      <th>Subsector</th>\n",
       "      <th>Region_y</th>\n",
       "      <th>Country</th>\n",
       "      <th>Price</th>\n",
       "      <th>Yield</th>\n",
       "      <th>ZSpread</th>\n",
       "      <th>volrank</th>\n",
       "      <th>daysToMaturity</th>\n",
       "    </tr>\n",
       "  </thead>\n",
       "  <tbody>\n",
       "    <tr>\n",
       "      <th>0</th>\n",
       "      <td>2015-12-28</td>\n",
       "      <td>10</td>\n",
       "      <td>312</td>\n",
       "      <td>Buy</td>\n",
       "      <td>0.0</td>\n",
       "      <td>3197</td>\n",
       "      <td>2028-03-01</td>\n",
       "      <td>20171213</td>\n",
       "      <td>SEN</td>\n",
       "      <td>USD</td>\n",
       "      <td>FLOW G10</td>\n",
       "      <td>AMERICAS</td>\n",
       "      <td>CDS AND HY</td>\n",
       "      <td>CDS AND HY</td>\n",
       "      <td>US HY YANKEE</td>\n",
       "      <td>BB-</td>\n",
       "      <td>Communications</td>\n",
       "      <td>Cable/Satellite TV</td>\n",
       "      <td>Priv placement</td>\n",
       "      <td>1.000000e+09</td>\n",
       "      <td>FIXED</td>\n",
       "      <td>Corporation</td>\n",
       "      <td>Corp - Consumer Staples</td>\n",
       "      <td>Americas</td>\n",
       "      <td>USA</td>\n",
       "      <td>NaN</td>\n",
       "      <td>NaN</td>\n",
       "      <td>NaN</td>\n",
       "      <td>low</td>\n",
       "      <td>4447</td>\n",
       "    </tr>\n",
       "    <tr>\n",
       "      <th>1</th>\n",
       "      <td>2015-12-28</td>\n",
       "      <td>10</td>\n",
       "      <td>316</td>\n",
       "      <td>Sell</td>\n",
       "      <td>0.0</td>\n",
       "      <td>3099</td>\n",
       "      <td>2020-11-25</td>\n",
       "      <td>20131125</td>\n",
       "      <td>SEN</td>\n",
       "      <td>CAD</td>\n",
       "      <td>FLOW G10</td>\n",
       "      <td>AMERICAS</td>\n",
       "      <td>CDS AND HY</td>\n",
       "      <td>CDS AND HY</td>\n",
       "      <td>US HY FIN AUTOS</td>\n",
       "      <td>BBB+</td>\n",
       "      <td>Communications</td>\n",
       "      <td>Telephone-Integrated</td>\n",
       "      <td>Global</td>\n",
       "      <td>1.000000e+09</td>\n",
       "      <td>FIXED</td>\n",
       "      <td>Corporation</td>\n",
       "      <td>Corp - Consumer Staples</td>\n",
       "      <td>Americas</td>\n",
       "      <td>USA</td>\n",
       "      <td>NaN</td>\n",
       "      <td>NaN</td>\n",
       "      <td>NaN</td>\n",
       "      <td>low</td>\n",
       "      <td>1794</td>\n",
       "    </tr>\n",
       "    <tr>\n",
       "      <th>2</th>\n",
       "      <td>2015-12-28</td>\n",
       "      <td>10</td>\n",
       "      <td>2686</td>\n",
       "      <td>Sell</td>\n",
       "      <td>0.0</td>\n",
       "      <td>722</td>\n",
       "      <td>2017-06-19</td>\n",
       "      <td>20070619</td>\n",
       "      <td>SEN</td>\n",
       "      <td>USD</td>\n",
       "      <td>SAS &amp; COVERED BONDS</td>\n",
       "      <td>USD SAS</td>\n",
       "      <td>USD SAS</td>\n",
       "      <td>USD SAS</td>\n",
       "      <td>USD SAS</td>\n",
       "      <td>AAA</td>\n",
       "      <td>Financial</td>\n",
       "      <td>Mortgage Banks</td>\n",
       "      <td>Euro mtn</td>\n",
       "      <td>1.000000e+09</td>\n",
       "      <td>FIXED</td>\n",
       "      <td>Corporation</td>\n",
       "      <td>Corp - Consumer Staples</td>\n",
       "      <td>Americas</td>\n",
       "      <td>USA</td>\n",
       "      <td>106.053</td>\n",
       "      <td>1.3598</td>\n",
       "      <td>0.4164</td>\n",
       "      <td>low</td>\n",
       "      <td>539</td>\n",
       "    </tr>\n",
       "  </tbody>\n",
       "</table>\n",
       "</div>"
      ],
      "text/plain": [
       "         week  CustomerIdx  IsinIdx BuySell  CustomerInterest  TickerIdx  \\\n",
       "0  2015-12-28           10      312     Buy               0.0       3197   \n",
       "1  2015-12-28           10      316    Sell               0.0       3099   \n",
       "2  2015-12-28           10     2686    Sell               0.0        722   \n",
       "\n",
       "  ActualMaturityDateKey  IssueDateKey Seniority Currency        ActivityGroup  \\\n",
       "0            2028-03-01      20171213       SEN      USD             FLOW G10   \n",
       "1            2020-11-25      20131125       SEN      CAD             FLOW G10   \n",
       "2            2017-06-19      20070619       SEN      USD  SAS & COVERED BONDS   \n",
       "\n",
       "   Region_x    Activity RiskCaptain            Owner CompositeRating  \\\n",
       "0  AMERICAS  CDS AND HY  CDS AND HY     US HY YANKEE             BB-   \n",
       "1  AMERICAS  CDS AND HY  CDS AND HY  US HY FIN AUTOS            BBB+   \n",
       "2   USD SAS     USD SAS     USD SAS          USD SAS             AAA   \n",
       "\n",
       "   IndustrySector      IndustrySubgroup     MarketIssue  IssuedAmount  \\\n",
       "0  Communications    Cable/Satellite TV  Priv placement  1.000000e+09   \n",
       "1  Communications  Telephone-Integrated          Global  1.000000e+09   \n",
       "2       Financial        Mortgage Banks        Euro mtn  1.000000e+09   \n",
       "\n",
       "  CouponType       Sector                Subsector  Region_y Country    Price  \\\n",
       "0      FIXED  Corporation  Corp - Consumer Staples  Americas     USA      NaN   \n",
       "1      FIXED  Corporation  Corp - Consumer Staples  Americas     USA      NaN   \n",
       "2      FIXED  Corporation  Corp - Consumer Staples  Americas     USA  106.053   \n",
       "\n",
       "    Yield  ZSpread volrank  daysToMaturity  \n",
       "0     NaN      NaN     low            4447  \n",
       "1     NaN      NaN     low            1794  \n",
       "2  1.3598   0.4164     low             539  "
      ]
     },
     "execution_count": 10,
     "metadata": {},
     "output_type": "execute_result"
    }
   ],
   "source": [
    "combined.head(3)"
   ]
  },
  {
   "cell_type": "code",
   "execution_count": 11,
   "metadata": {},
   "outputs": [],
   "source": [
    "combined['IssueDateKey'] = combined['IssueDateKey'].apply(lambda x: convertDatetime(x))\n",
    "combined['daysSinceIssue'] = combined['week'].apply(lambda x: datetime.strptime(x, '%Y-%m-%d')) - combined['IssueDateKey']\n",
    "combined['daysSinceIssue'] = combined['daysSinceIssue'].apply(lambda x: int(x.days)) "
   ]
  },
  {
   "cell_type": "code",
   "execution_count": 12,
   "metadata": {},
   "outputs": [
    {
     "data": {
      "text/plain": [
       "Index(['week', 'CustomerIdx', 'IsinIdx', 'BuySell', 'CustomerInterest',\n",
       "       'TickerIdx', 'ActualMaturityDateKey', 'IssueDateKey', 'Seniority',\n",
       "       'Currency', 'ActivityGroup', 'Region_x', 'Activity', 'RiskCaptain',\n",
       "       'Owner', 'CompositeRating', 'IndustrySector', 'IndustrySubgroup',\n",
       "       'MarketIssue', 'IssuedAmount', 'CouponType', 'Sector', 'Subsector',\n",
       "       'Region_y', 'Country', 'Price', 'Yield', 'ZSpread', 'volrank',\n",
       "       'daysToMaturity', 'daysSinceIssue'],\n",
       "      dtype='object')"
      ]
     },
     "execution_count": 12,
     "metadata": {},
     "output_type": "execute_result"
    }
   ],
   "source": [
    "combined.columns"
   ]
  },
  {
   "cell_type": "code",
   "execution_count": 17,
   "metadata": {},
   "outputs": [
    {
     "data": {
      "text/plain": [
       "0.0    4490010\n",
       "1.0    1772720\n",
       "Name: CustomerInterest, dtype: int64"
      ]
     },
     "execution_count": 17,
     "metadata": {},
     "output_type": "execute_result"
    }
   ],
   "source": [
    "combined.CustomerInterest.value_counts()"
   ]
  },
  {
   "cell_type": "code",
   "execution_count": 18,
   "metadata": {},
   "outputs": [],
   "source": [
    "combined.to_csv(\"train_test.csv\",index=False)"
   ]
  },
  {
   "cell_type": "code",
   "execution_count": 16,
   "metadata": {},
   "outputs": [
    {
     "data": {
      "image/png": "[encoded data removed]",
      "text/plain": [
       "<Figure size 640x480 with 1 Axes>"
      ]
     },
     "metadata": {},
     "output_type": "display_data"
    }
   ],
   "source": [
    "import matplotlib.pyplot as plt; plt.rcdefaults()\n",
    "import numpy as np\n",
    "import matplotlib.pyplot as plt\n",
    "\n",
    "plt.bar(combined.CustomerInterest.unique(),combined.CustomerInterest.value_counts())\n",
    "plt.show()"
   ]
  },
  {
   "cell_type": "code",
   "execution_count": 11,
   "metadata": {},
   "outputs": [],
   "source": [
    "columns = ['week','CustomerIdx','IsinIdx','BuySell' ,'daysToMaturity','daysSinceIssue', 'Seniority', 'RiskCaptain'\n",
    "           , 'CompositeRating', 'IndustrySector','MarketIssue', 'Sector', 'CouponType'\n",
    "           ,'Country', 'Price', 'Yield', 'ZSpread', 'volrank', 'CustomerInterest']"
   ]
  },
  {
   "cell_type": "code",
   "execution_count": 12,
   "metadata": {},
   "outputs": [],
   "source": [
    "features = ['BuySell' ,'daysToMaturity', 'Seniority','daysSinceIssue'\n",
    "           , 'CompositeRating', 'IndustrySector','MarketIssue', 'Sector', 'CouponType',\n",
    "           'Country', 'Price', 'Yield', 'ZSpread', 'volrank']\n",
    "\n",
    "response = ['CustomerInterest']"
   ]
  },
  {
   "cell_type": "code",
   "execution_count": 13,
   "metadata": {},
   "outputs": [],
   "source": [
    "df = combined[columns]"
   ]
  },
  {
   "cell_type": "code",
   "execution_count": 14,
   "metadata": {},
   "outputs": [],
   "source": [
    "non_numeric_cols = ['BuySell', 'Seniority', 'CompositeRating', 'volrank','IndustrySector','MarketIssue', 'Sector', 'CouponType'\n",
    "           ,'Country', 'volrank' ]"
   ]
  },
  {
   "cell_type": "code",
   "execution_count": 16,
   "metadata": {},
   "outputs": [],
   "source": [
    "numeric_cols = ['daysToMaturity', 'daysSinceIssue', 'Price', 'Yield', 'ZSpread']"
   ]
  },
  {
   "cell_type": "code",
   "execution_count": 17,
   "metadata": {},
   "outputs": [],
   "source": [
    "from sklearn.base import TransformerMixin\n",
    "class DataFrameImputer(TransformerMixin):\n",
    "    def fit(self, X, y=None):\n",
    "        self.fill = pd.Series([X[c].value_counts().index[0]\n",
    "            if X[c].dtype == np.dtype('O') else X[c].median() for c in X],\n",
    "            index=X.columns)\n",
    "        return self\n",
    "    def transform(self, X, y=None):\n",
    "        return X.fillna(self.fill)"
   ]
  },
  {
   "cell_type": "code",
   "execution_count": 18,
   "metadata": {},
   "outputs": [],
   "source": [
    "dfImputer = DataFrameImputer()"
   ]
  },
  {
   "cell_type": "code",
   "execution_count": 19,
   "metadata": {},
   "outputs": [],
   "source": [
    "X, y = df[features], df['CustomerInterest']"
   ]
  },
  {
   "cell_type": "code",
   "execution_count": 20,
   "metadata": {},
   "outputs": [],
   "source": [
    "X = dfImputer.fit_transform(X)"
   ]
  },
  {
   "cell_type": "code",
   "execution_count": 25,
   "metadata": {},
   "outputs": [],
   "source": [
    "from sklearn.preprocessing import RobustScaler\n",
    "scaler = RobustScaler(quantile_range=(25, 75))\n",
    "for feature in numeric_cols:\n",
    "    X[feature] = scaler.fit_transform(np.array(X[feature]).reshape(-1,1))"
   ]
  },
  {
   "cell_type": "code",
   "execution_count": 27,
   "metadata": {},
   "outputs": [],
   "source": [
    "from sklearn.preprocessing import LabelEncoder\n",
    "le = LabelEncoder()\n",
    "for feature in non_numeric_cols:\n",
    "    X[feature] = le.fit_transform(X[feature])\n"
   ]
  },
  {
   "cell_type": "code",
   "execution_count": 32,
   "metadata": {
    "collapsed": true
   },
   "outputs": [],
   "source": [
    "X_train, X_test = X[X['week'] < '2017-11-01'][features], X[X['week'] >= '2017-11-01'][features]\n",
    "y_train, y_test = y[y['week'] < '2017-11-01'][response], y[y['week'] >= '2017-11-01'][response]"
   ]
  },
  {
   "cell_type": "code",
   "execution_count": 33,
   "metadata": {},
   "outputs": [
    {
     "name": "stderr",
     "output_type": "stream",
     "text": [
      "/Users/jinweitan/anaconda/lib/python3.5/site-packages/sklearn/preprocessing/label.py:112: DataConversionWarning: A column-vector y was passed when a 1d array was expected. Please change the shape of y to (n_samples, ), for example using ravel().\n",
      "  y = column_or_1d(y, warn=True)\n",
      "/Users/jinweitan/anaconda/lib/python3.5/site-packages/sklearn/preprocessing/label.py:147: DataConversionWarning: A column-vector y was passed when a 1d array was expected. Please change the shape of y to (n_samples, ), for example using ravel().\n",
      "  y = column_or_1d(y, warn=True)\n"
     ]
    }
   ],
   "source": [
    "gbm = xgb.XGBClassifier(objective=\"binary:logistic\", max_depth=6, n_round=200 ,eval_metric=\"auc\", learning_rate=0.05).fit(X_train.as_matrix(), y_train)"
   ]
  },
  {
   "cell_type": "code",
   "execution_count": 34,
   "metadata": {},
   "outputs": [
    {
     "name": "stderr",
     "output_type": "stream",
     "text": [
      "/Users/jinweitan/anaconda/lib/python3.5/site-packages/sklearn/cross_validation.py:44: DeprecationWarning: This module was deprecated in version 0.18 in favor of the model_selection module into which all the refactored classes and functions are moved. Also note that the interface of the new CV iterators are different from that of this module. This module will be removed in 0.20.\n",
      "  \"This module will be removed in 0.20.\", DeprecationWarning)\n"
     ]
    },
    {
     "data": {
      "text/plain": [
       "0.81773568295736132"
      ]
     },
     "execution_count": 34,
     "metadata": {},
     "output_type": "execute_result"
    }
   ],
   "source": [
    "ypred = gbm.predict_proba(X_test.as_matrix())\n",
    "from sklearn import cross_validation, metrics\n",
    "metrics.roc_auc_score(y_test['CustomerInterest'],  ypred[:,1])"
   ]
  },
  {
   "cell_type": "code",
   "execution_count": null,
   "metadata": {
    "collapsed": true
   },
   "outputs": [],
   "source": []
  },
  {
   "cell_type": "code",
   "execution_count": null,
   "metadata": {
    "collapsed": true
   },
   "outputs": [],
   "source": []
  },
  {
   "cell_type": "code",
   "execution_count": null,
   "metadata": {
    "collapsed": true
   },
   "outputs": [],
   "source": []
  },
  {
   "cell_type": "code",
   "execution_count": 28,
   "metadata": {},
   "outputs": [],
   "source": [
    "import numpy as np\n",
    "from scipy import interp\n",
    "import matplotlib.pyplot as plt\n",
    "from itertools import cycle\n",
    "\n",
    "from sklearn.metrics import roc_curve, auc\n",
    "from sklearn.model_selection import StratifiedKFold\n",
    "from sklearn.linear_model import LogisticRegression\n",
    "from sklearn.naive_bayes import GaussianNB\n",
    "from sklearn import svm"
   ]
  },
  {
   "cell_type": "code",
   "execution_count": 29,
   "metadata": {},
   "outputs": [
    {
     "name": "stderr",
     "output_type": "stream",
     "text": [
      "/anaconda3/envs/kaggle/lib/python3.6/site-packages/ipykernel_launcher.py:1: FutureWarning: Method .as_matrix will be removed in a future version. Use .values instead.\n",
      "  \"\"\"Entry point for launching an IPython kernel.\n"
     ]
    }
   ],
   "source": [
    "X, y = X.as_matrix(), np.array(y)"
   ]
  },
  {
   "cell_type": "code",
   "execution_count": 30,
   "metadata": {},
   "outputs": [],
   "source": [
    "xgboost = xgb.XGBClassifier(objective=\"binary:logistic\", \n",
    "                               max_depth=6, n_round=100 ,eval_metric=\"auc\", learning_rate=0.01)\n",
    "\n",
    "logistic = LogisticRegression()\n",
    "gnb = GaussianNB()\n",
    "svm = svm.SVC()"
   ]
  },
  {
   "cell_type": "code",
   "execution_count": 31,
   "metadata": {},
   "outputs": [
    {
     "data": {
      "image/png": "[encoded data removed]",
      "text/plain": [
       "<Figure size 432x288 with 1 Axes>"
      ]
     },
     "metadata": {},
     "output_type": "display_data"
    }
   ],
   "source": [
    "cv = StratifiedKFold(n_splits=5)\n",
    "#classifier = xgb.XGBClassifier(objective=\"binary:logistic\", \n",
    "#                               max_depth=6, n_round=100 ,eval_metric=\"auc\", learning_rate=0.01)\n",
    "classifier = xgboost\n",
    "tprs = []\n",
    "aucs = []\n",
    "mean_fpr = np.linspace(0, 1, 100)\n",
    "\n",
    "i = 0\n",
    "for train, test in cv.split(X, y):\n",
    "    probas_ = classifier.fit(X[train], y[train]).predict_proba(X[test])\n",
    "    # Compute ROC curve and area the curve\n",
    "    fpr, tpr, thresholds = roc_curve(y[test], probas_[:, 1])\n",
    "    tprs.append(interp(mean_fpr, fpr, tpr))\n",
    "    tprs[-1][0] = 0.0\n",
    "    roc_auc = auc(fpr, tpr)\n",
    "    aucs.append(roc_auc)\n",
    "    plt.plot(fpr, tpr, lw=1, alpha=0.3,\n",
    "             label='ROC fold %d (AUC = %0.2f)' % (i, roc_auc))\n",
    "\n",
    "    i += 1\n",
    "plt.plot([0, 1], [0, 1], linestyle='--', lw=2, color='r',\n",
    "         label='Luck', alpha=.8)\n",
    "\n",
    "mean_tpr = np.mean(tprs, axis=0)\n",
    "mean_tpr[-1] = 1.0\n",
    "mean_auc = auc(mean_fpr, mean_tpr)\n",
    "std_auc = np.std(aucs)\n",
    "plt.plot(mean_fpr, mean_tpr, color='b',\n",
    "         label=r'Mean ROC (AUC = %0.2f $\\pm$ %0.2f)' % (mean_auc, std_auc),\n",
    "         lw=2, alpha=.8)\n",
    "\n",
    "std_tpr = np.std(tprs, axis=0)\n",
    "tprs_upper = np.minimum(mean_tpr + std_tpr, 1)\n",
    "tprs_lower = np.maximum(mean_tpr - std_tpr, 0)\n",
    "plt.fill_between(mean_fpr, tprs_lower, tprs_upper, color='grey', alpha=.2,\n",
    "                 label=r'$\\pm$ 1 std. dev.')\n",
    "\n",
    "plt.xlim([-0.05, 1.05])\n",
    "plt.ylim([-0.05, 1.05])\n",
    "plt.xlabel('False Positive Rate')\n",
    "plt.ylabel('True Positive Rate')\n",
    "plt.title('Receiver operating characteristic example')\n",
    "plt.legend(loc=\"lower right\")\n",
    "plt.show()"
   ]
  },
  {
   "cell_type": "code",
   "execution_count": 32,
   "metadata": {},
   "outputs": [
    {
     "data": {
      "image/png": "[encoded data removed]",
      "text/plain": [
       "<Figure size 432x288 with 1 Axes>"
      ]
     },
     "metadata": {},
     "output_type": "display_data"
    }
   ],
   "source": [
    "cv = StratifiedKFold(n_splits=5)\n",
    "#classifier = xgb.XGBClassifier(objective=\"binary:logistic\", \n",
    "#                               max_depth=6, n_round=100 ,eval_metric=\"auc\", learning_rate=0.01)\n",
    "classifier1 = xgboost\n",
    "tprs = []\n",
    "aucs = []\n",
    "mean_fpr = np.linspace(0, 1, 100)\n",
    "\n",
    "i = 0\n",
    "for train, test in cv.split(X, y):\n",
    "    probas_ = classifier1.fit(X[train], y[train]).predict_proba(X[test])\n",
    "    # Compute ROC curve and area the curve\n",
    "    fpr, tpr, thresholds = roc_curve(y[test], probas_[:, 1])\n",
    "    tprs.append(interp(mean_fpr, fpr, tpr))\n",
    "    tprs[-1][0] = 0.0\n",
    "    roc_auc = auc(fpr, tpr)\n",
    "    aucs.append(roc_auc)\n",
    "    plt.plot(fpr, tpr, lw=1, alpha=0.3,\n",
    "             label='ROC fold %d (AUC = %0.2f)' % (i, roc_auc))\n",
    "\n",
    "    i += 1\n",
    "plt.plot([0, 1], [0, 1], linestyle='--', lw=2, color='r',\n",
    "         label='Luck', alpha=.8)\n",
    "\n",
    "mean_tpr = np.mean(tprs, axis=0)\n",
    "mean_tpr[-1] = 1.0\n",
    "mean_auc = auc(mean_fpr, mean_tpr)\n",
    "std_auc = np.std(aucs)\n",
    "plt.plot(mean_fpr, mean_tpr, color='b',\n",
    "         label=r'Mean ROC (AUC = %0.2f $\\pm$ %0.2f)' % (mean_auc, std_auc),\n",
    "         lw=2, alpha=.8)\n",
    "\n",
    "std_tpr = np.std(tprs, axis=0)\n",
    "tprs_upper = np.minimum(mean_tpr + std_tpr, 1)\n",
    "tprs_lower = np.maximum(mean_tpr - std_tpr, 0)\n",
    "plt.fill_between(mean_fpr, tprs_lower, tprs_upper, color='grey', alpha=.2,\n",
    "                 label=r'$\\pm$ 1 std. dev.')\n",
    "\n",
    "plt.xlim([-0.05, 1.05])\n",
    "plt.ylim([-0.05, 1.05])\n",
    "plt.xlabel('False Positive Rate')\n",
    "plt.ylabel('True Positive Rate')\n",
    "plt.title('Receiver operating characteristic example')\n",
    "plt.legend(loc=\"lower right\")\n",
    "plt.show()"
   ]
  },
  {
   "cell_type": "code",
   "execution_count": 122,
   "metadata": {
    "collapsed": true
   },
   "outputs": [],
   "source": [
    "from sklearn.model_selection import train_test_split\n",
    "X_train, X_test, y_train, y_test = train_test_split(X_imputed, y, test_size=0.33, random_state=42)"
   ]
  },
  {
   "cell_type": "code",
   "execution_count": 86,
   "metadata": {
    "collapsed": true
   },
   "outputs": [],
   "source": [
    "y_train, y_test = np.array(y_train), np.array(y_test)"
   ]
  },
  {
   "cell_type": "code",
   "execution_count": 87,
   "metadata": {
    "collapsed": true
   },
   "outputs": [],
   "source": [
    "gbm = xgb.XGBClassifier(objective=\"binary:logistic\", max_depth=6, n_round=200 ,eval_metric=\"auc\", learning_rate=0.05).fit(X_train.as_matrix(), y_train)"
   ]
  },
  {
   "cell_type": "code",
   "execution_count": 114,
   "metadata": {
    "collapsed": true
   },
   "outputs": [],
   "source": [
    "# Gridsearch CV\n",
    "from sklearn import cross_validation, metrics   #Additional scklearn functions\n",
    "from sklearn.grid_search import GridSearchCV \n",
    "\n",
    "def modelfit(alg, dtrain, predictors, useTrainCV=True, cv_folds=5, early_stopping_rounds=50):\n",
    "    \n",
    "    if useTrainCV:\n",
    "        xgb_param = alg.get_xgb_params()\n",
    "        xgtrain = xgb.DMatrix(dtrain[predictors].values, label=dtrain['CustomerInterest'].values)\n",
    "        cvresult = xgb.cv(xgb_param, xgtrain, num_boost_round=alg.get_params()['n_estimators'], nfold=cv_folds,\n",
    "            metrics='auc', early_stopping_rounds=early_stopping_rounds, verbose_eval=True)\n",
    "        alg.set_params(n_estimators=cvresult.shape[0])\n",
    "    \n",
    "    #Fit the algorithm on the data\n",
    "    alg.fit(dtrain[predictors], dtrain['CustomerInterest'],eval_metric='auc')\n",
    "        \n",
    "    #Predict training set:\n",
    "    dtrain_predictions = alg.predict(dtrain[predictors])\n",
    "    dtrain_predprob = alg.predict_proba(dtrain[predictors])[:,1]\n",
    "        \n",
    "    #Print model report:\n",
    "    print \"\\nModel Report\"\n",
    "    print \"Accuracy : %.4g\" % metrics.accuracy_score(dtrain['CustomerInterest'].values, dtrain_predictions)\n",
    "    print \"AUC Score (Train): %f\" % metrics.roc_auc_score(dtrain['CustomerInterest'], dtrain_predprob)\n",
    "                    \n",
    "    feat_imp = pd.Series(alg.booster().get_fscore()).sort_values(ascending=False)\n",
    "    feat_imp.plot(kind='bar', title='Feature Importances')\n",
    "    plt.ylabel('Feature Importance Score')"
   ]
  },
  {
   "cell_type": "code",
   "execution_count": 105,
   "metadata": {
    "collapsed": true
   },
   "outputs": [],
   "source": [
    "features_noidx = ['BuySell', 'monthsToMaturity', 'Seniority'\n",
    "           , 'CompositeRating', 'IndustrySector','IssuedAmount', 'CouponType','volrank']"
   ]
  },
  {
   "cell_type": "code",
   "execution_count": 141,
   "metadata": {
    "collapsed": true
   },
   "outputs": [],
   "source": [
    "model =  xgb.XGBClassifier(\n",
    " learning_rate =0.05,\n",
    " n_estimators=500,\n",
    " max_depth=6,\n",
    " min_child_weight=1,\n",
    " gamma=0,\n",
    " subsample=0.8,\n",
    " colsample_bytree=0.8,\n",
    " objective= 'binary:logistic',\n",
    ")\n"
   ]
  },
  {
   "cell_type": "code",
   "execution_count": 131,
   "metadata": {
    "collapsed": true
   },
   "outputs": [],
   "source": [
    "dtrain =  pd.concat([X_train, y_train], axis=1, join_axes=[X_train.index])"
   ]
  },
  {
   "cell_type": "code",
   "execution_count": 132,
   "metadata": {},
   "outputs": [
    {
     "data": {
      "text/html": [
       "<div>\n",
       "<style>\n",
       "    .dataframe thead tr:only-child th {\n",
       "        text-align: right;\n",
       "    }\n",
       "\n",
       "    .dataframe thead th {\n",
       "        text-align: left;\n",
       "    }\n",
       "\n",
       "    .dataframe tbody tr th {\n",
       "        vertical-align: top;\n",
       "    }\n",
       "</style>\n",
       "<table border=\"1\" class=\"dataframe\">\n",
       "  <thead>\n",
       "    <tr style=\"text-align: right;\">\n",
       "      <th></th>\n",
       "      <th>CustomerIdx</th>\n",
       "      <th>IsinIdxleft</th>\n",
       "      <th>BuySell</th>\n",
       "      <th>monthsToMaturity</th>\n",
       "      <th>Seniority</th>\n",
       "      <th>CompositeRating</th>\n",
       "      <th>IndustrySector</th>\n",
       "      <th>IssuedAmount</th>\n",
       "      <th>CouponType</th>\n",
       "      <th>volrank</th>\n",
       "      <th>CustomerInterest</th>\n",
       "    </tr>\n",
       "  </thead>\n",
       "  <tbody>\n",
       "    <tr>\n",
       "      <th>3703815</th>\n",
       "      <td>1929</td>\n",
       "      <td>26561</td>\n",
       "      <td>1</td>\n",
       "      <td>96.0</td>\n",
       "      <td>5</td>\n",
       "      <td>28</td>\n",
       "      <td>7</td>\n",
       "      <td>750000000.0</td>\n",
       "      <td>0</td>\n",
       "      <td>0</td>\n",
       "      <td>0.0</td>\n",
       "    </tr>\n",
       "    <tr>\n",
       "      <th>3108448</th>\n",
       "      <td>1280</td>\n",
       "      <td>22737</td>\n",
       "      <td>0</td>\n",
       "      <td>96.0</td>\n",
       "      <td>5</td>\n",
       "      <td>28</td>\n",
       "      <td>7</td>\n",
       "      <td>750000000.0</td>\n",
       "      <td>0</td>\n",
       "      <td>0</td>\n",
       "      <td>0.0</td>\n",
       "    </tr>\n",
       "    <tr>\n",
       "      <th>246443</th>\n",
       "      <td>1486</td>\n",
       "      <td>20917</td>\n",
       "      <td>0</td>\n",
       "      <td>96.0</td>\n",
       "      <td>5</td>\n",
       "      <td>28</td>\n",
       "      <td>7</td>\n",
       "      <td>750000000.0</td>\n",
       "      <td>0</td>\n",
       "      <td>0</td>\n",
       "      <td>1.0</td>\n",
       "    </tr>\n",
       "    <tr>\n",
       "      <th>2641536</th>\n",
       "      <td>689</td>\n",
       "      <td>22532</td>\n",
       "      <td>0</td>\n",
       "      <td>96.0</td>\n",
       "      <td>5</td>\n",
       "      <td>28</td>\n",
       "      <td>7</td>\n",
       "      <td>750000000.0</td>\n",
       "      <td>0</td>\n",
       "      <td>0</td>\n",
       "      <td>0.0</td>\n",
       "    </tr>\n",
       "    <tr>\n",
       "      <th>3790759</th>\n",
       "      <td>1967</td>\n",
       "      <td>25124</td>\n",
       "      <td>1</td>\n",
       "      <td>96.0</td>\n",
       "      <td>5</td>\n",
       "      <td>28</td>\n",
       "      <td>7</td>\n",
       "      <td>750000000.0</td>\n",
       "      <td>0</td>\n",
       "      <td>0</td>\n",
       "      <td>0.0</td>\n",
       "    </tr>\n",
       "  </tbody>\n",
       "</table>\n",
       "</div>"
      ],
      "text/plain": [
       "         CustomerIdx  IsinIdxleft  BuySell  monthsToMaturity  Seniority  \\\n",
       "3703815         1929        26561        1              96.0          5   \n",
       "3108448         1280        22737        0              96.0          5   \n",
       "246443          1486        20917        0              96.0          5   \n",
       "2641536          689        22532        0              96.0          5   \n",
       "3790759         1967        25124        1              96.0          5   \n",
       "\n",
       "         CompositeRating  IndustrySector  IssuedAmount  CouponType  volrank  \\\n",
       "3703815               28               7   750000000.0           0        0   \n",
       "3108448               28               7   750000000.0           0        0   \n",
       "246443                28               7   750000000.0           0        0   \n",
       "2641536               28               7   750000000.0           0        0   \n",
       "3790759               28               7   750000000.0           0        0   \n",
       "\n",
       "         CustomerInterest  \n",
       "3703815               0.0  \n",
       "3108448               0.0  \n",
       "246443                1.0  \n",
       "2641536               0.0  \n",
       "3790759               0.0  "
      ]
     },
     "execution_count": 132,
     "metadata": {},
     "output_type": "execute_result"
    }
   ],
   "source": [
    "dtrain.head()"
   ]
  },
  {
   "cell_type": "code",
   "execution_count": 142,
   "metadata": {},
   "outputs": [
    {
     "name": "stdout",
     "output_type": "stream",
     "text": [
      "[0]\ttrain-auc:0.510996+7.09789e-05\ttest-auc:0.510995+0.000282714\n",
      "[1]\ttrain-auc:0.511006+7.02868e-05\ttest-auc:0.511005+0.000285292\n",
      "[2]\ttrain-auc:0.511006+7.04142e-05\ttest-auc:0.511006+0.00028474\n",
      "[3]\ttrain-auc:0.511007+7.05634e-05\ttest-auc:0.511007+0.000284736\n",
      "[4]\ttrain-auc:0.511007+7.09073e-05\ttest-auc:0.511008+0.000284203\n",
      "[5]\ttrain-auc:0.511007+7.09073e-05\ttest-auc:0.511008+0.000284203\n",
      "[6]\ttrain-auc:0.511007+7.09073e-05\ttest-auc:0.511008+0.000284203\n",
      "[7]\ttrain-auc:0.511007+7.09073e-05\ttest-auc:0.511008+0.000284203\n",
      "[8]\ttrain-auc:0.511007+7.09073e-05\ttest-auc:0.511008+0.000284203\n",
      "[9]\ttrain-auc:0.511007+7.09073e-05\ttest-auc:0.511008+0.000284203\n",
      "[10]\ttrain-auc:0.511007+7.09073e-05\ttest-auc:0.511008+0.000284203\n",
      "[11]\ttrain-auc:0.511007+7.09073e-05\ttest-auc:0.511008+0.000284203\n",
      "[12]\ttrain-auc:0.511007+7.09073e-05\ttest-auc:0.511008+0.000284203\n",
      "[13]\ttrain-auc:0.511007+7.09073e-05\ttest-auc:0.511008+0.000284203\n",
      "[14]\ttrain-auc:0.511007+7.09073e-05\ttest-auc:0.511008+0.000284203\n",
      "[15]\ttrain-auc:0.511007+7.09073e-05\ttest-auc:0.511008+0.000284203\n",
      "[16]\ttrain-auc:0.511007+7.09073e-05\ttest-auc:0.511008+0.000284203\n",
      "[17]\ttrain-auc:0.511007+7.09073e-05\ttest-auc:0.511008+0.000284203\n",
      "[18]\ttrain-auc:0.511007+7.09073e-05\ttest-auc:0.511008+0.000284203\n",
      "[19]\ttrain-auc:0.511007+7.09073e-05\ttest-auc:0.511008+0.000284203\n",
      "[20]\ttrain-auc:0.511007+7.09073e-05\ttest-auc:0.511008+0.000284203\n",
      "[21]\ttrain-auc:0.511007+7.09073e-05\ttest-auc:0.511008+0.000284203\n",
      "[22]\ttrain-auc:0.511007+7.09073e-05\ttest-auc:0.511008+0.000284203\n",
      "[23]\ttrain-auc:0.511007+7.09073e-05\ttest-auc:0.511008+0.000284203\n",
      "[24]\ttrain-auc:0.511007+7.09073e-05\ttest-auc:0.511008+0.000284203\n",
      "[25]\ttrain-auc:0.511007+7.09073e-05\ttest-auc:0.511008+0.000284203\n",
      "[26]\ttrain-auc:0.511007+7.09073e-05\ttest-auc:0.511008+0.000284203\n",
      "[27]\ttrain-auc:0.511007+7.09073e-05\ttest-auc:0.511008+0.000284203\n",
      "[28]\ttrain-auc:0.511007+7.09073e-05\ttest-auc:0.511008+0.000284203\n",
      "[29]\ttrain-auc:0.511007+7.09073e-05\ttest-auc:0.511008+0.000284203\n",
      "[30]\ttrain-auc:0.511007+7.09073e-05\ttest-auc:0.511008+0.000284203\n",
      "[31]\ttrain-auc:0.511007+7.09073e-05\ttest-auc:0.511008+0.000284203\n",
      "[32]\ttrain-auc:0.511007+7.09073e-05\ttest-auc:0.511008+0.000284203\n",
      "[33]\ttrain-auc:0.511007+7.09073e-05\ttest-auc:0.511008+0.000284203\n",
      "[34]\ttrain-auc:0.511007+7.09073e-05\ttest-auc:0.511008+0.000284203\n",
      "[35]\ttrain-auc:0.511007+7.09073e-05\ttest-auc:0.511008+0.000284203\n",
      "[36]\ttrain-auc:0.511007+7.09073e-05\ttest-auc:0.511008+0.000284203\n",
      "[37]\ttrain-auc:0.511007+7.09073e-05\ttest-auc:0.511008+0.000284203\n",
      "[38]\ttrain-auc:0.511007+7.09073e-05\ttest-auc:0.511008+0.000284203\n",
      "[39]\ttrain-auc:0.511007+7.09073e-05\ttest-auc:0.511008+0.000284203\n",
      "[40]\ttrain-auc:0.511007+7.09073e-05\ttest-auc:0.511008+0.000284203\n",
      "[41]\ttrain-auc:0.511007+7.09073e-05\ttest-auc:0.511008+0.000284203\n",
      "[42]\ttrain-auc:0.511007+7.09073e-05\ttest-auc:0.511008+0.000284203\n",
      "[43]\ttrain-auc:0.511007+7.09073e-05\ttest-auc:0.511008+0.000284203\n",
      "[44]\ttrain-auc:0.511007+7.09073e-05\ttest-auc:0.511008+0.000284203\n",
      "[45]\ttrain-auc:0.511007+7.09073e-05\ttest-auc:0.511008+0.000284203\n",
      "[46]\ttrain-auc:0.511007+7.09073e-05\ttest-auc:0.511008+0.000284203\n",
      "[47]\ttrain-auc:0.511007+7.09073e-05\ttest-auc:0.511008+0.000284203\n",
      "[48]\ttrain-auc:0.511007+7.09073e-05\ttest-auc:0.511008+0.000284203\n",
      "[49]\ttrain-auc:0.511007+7.09073e-05\ttest-auc:0.511008+0.000284203\n",
      "[50]\ttrain-auc:0.511007+7.09073e-05\ttest-auc:0.511008+0.000284203\n",
      "[51]\ttrain-auc:0.511007+7.09073e-05\ttest-auc:0.511008+0.000284203\n",
      "[52]\ttrain-auc:0.511007+7.09073e-05\ttest-auc:0.511008+0.000284203\n",
      "[53]\ttrain-auc:0.511007+7.09073e-05\ttest-auc:0.511008+0.000284203\n",
      "\n",
      "Model Report\n",
      "Accuracy : 0.6769\n",
      "AUC Score (Train): 0.511008\n"
     ]
    },
    {
     "ename": "TypeError",
     "evalue": "'str' object is not callable",
     "output_type": "error",
     "traceback": [
      "\u001b[0;31m---------------------------------------------------------------------------\u001b[0m",
      "\u001b[0;31mTypeError\u001b[0m                                 Traceback (most recent call last)",
      "\u001b[0;32m<ipython-input-142-0c6252eae718>\u001b[0m in \u001b[0;36m<module>\u001b[0;34m()\u001b[0m\n\u001b[0;32m----> 1\u001b[0;31m \u001b[0mmodelfit\u001b[0m\u001b[0;34m(\u001b[0m\u001b[0mmodel\u001b[0m\u001b[0;34m,\u001b[0m \u001b[0mdtrain\u001b[0m\u001b[0;34m,\u001b[0m \u001b[0mfeatures_noidx\u001b[0m\u001b[0;34m)\u001b[0m\u001b[0;34m\u001b[0m\u001b[0m\n\u001b[0m",
      "\u001b[0;32m<ipython-input-114-207cbb7dcf2e>\u001b[0m in \u001b[0;36mmodelfit\u001b[0;34m(alg, dtrain, predictors, useTrainCV, cv_folds, early_stopping_rounds)\u001b[0m\n\u001b[1;32m     24\u001b[0m     \u001b[0;32mprint\u001b[0m \u001b[0;34m\"AUC Score (Train): %f\"\u001b[0m \u001b[0;34m%\u001b[0m \u001b[0mmetrics\u001b[0m\u001b[0;34m.\u001b[0m\u001b[0mroc_auc_score\u001b[0m\u001b[0;34m(\u001b[0m\u001b[0mdtrain\u001b[0m\u001b[0;34m[\u001b[0m\u001b[0;34m'CustomerInterest'\u001b[0m\u001b[0;34m]\u001b[0m\u001b[0;34m,\u001b[0m \u001b[0mdtrain_predprob\u001b[0m\u001b[0;34m)\u001b[0m\u001b[0;34m\u001b[0m\u001b[0m\n\u001b[1;32m     25\u001b[0m \u001b[0;34m\u001b[0m\u001b[0m\n\u001b[0;32m---> 26\u001b[0;31m     \u001b[0mfeat_imp\u001b[0m \u001b[0;34m=\u001b[0m \u001b[0mpd\u001b[0m\u001b[0;34m.\u001b[0m\u001b[0mSeries\u001b[0m\u001b[0;34m(\u001b[0m\u001b[0malg\u001b[0m\u001b[0;34m.\u001b[0m\u001b[0mbooster\u001b[0m\u001b[0;34m(\u001b[0m\u001b[0;34m)\u001b[0m\u001b[0;34m.\u001b[0m\u001b[0mget_fscore\u001b[0m\u001b[0;34m(\u001b[0m\u001b[0;34m)\u001b[0m\u001b[0;34m)\u001b[0m\u001b[0;34m.\u001b[0m\u001b[0msort_values\u001b[0m\u001b[0;34m(\u001b[0m\u001b[0mascending\u001b[0m\u001b[0;34m=\u001b[0m\u001b[0mFalse\u001b[0m\u001b[0;34m)\u001b[0m\u001b[0;34m\u001b[0m\u001b[0m\n\u001b[0m\u001b[1;32m     27\u001b[0m     \u001b[0mfeat_imp\u001b[0m\u001b[0;34m.\u001b[0m\u001b[0mplot\u001b[0m\u001b[0;34m(\u001b[0m\u001b[0mkind\u001b[0m\u001b[0;34m=\u001b[0m\u001b[0;34m'bar'\u001b[0m\u001b[0;34m,\u001b[0m \u001b[0mtitle\u001b[0m\u001b[0;34m=\u001b[0m\u001b[0;34m'Feature Importances'\u001b[0m\u001b[0;34m)\u001b[0m\u001b[0;34m\u001b[0m\u001b[0m\n\u001b[1;32m     28\u001b[0m     \u001b[0mplt\u001b[0m\u001b[0;34m.\u001b[0m\u001b[0mylabel\u001b[0m\u001b[0;34m(\u001b[0m\u001b[0;34m'Feature Importance Score'\u001b[0m\u001b[0;34m)\u001b[0m\u001b[0;34m\u001b[0m\u001b[0m\n",
      "\u001b[0;31mTypeError\u001b[0m: 'str' object is not callable"
     ]
    }
   ],
   "source": [
    "modelfit(model, dtrain, features_noidx)"
   ]
  },
  {
   "cell_type": "code",
   "execution_count": 145,
   "metadata": {},
   "outputs": [
    {
     "data": {
      "text/plain": [
       "array([ 0.4595885 ,  0.4595885 ,  0.46115202, ...,  0.46115202,\n",
       "        0.4595885 ,  0.46115202], dtype=float32)"
      ]
     },
     "execution_count": 145,
     "metadata": {},
     "output_type": "execute_result"
    }
   ],
   "source": []
  },
  {
   "cell_type": "code",
   "execution_count": 146,
   "metadata": {},
   "outputs": [
    {
     "data": {
      "text/plain": [
       "0.51039018125382885"
      ]
     },
     "execution_count": 146,
     "metadata": {},
     "output_type": "execute_result"
    }
   ],
   "source": [
    "metrics.roc_auc_score(y_test['CustomerInterest'],  model.predict_proba(X_test[features_noidx])[:,1])"
   ]
  },
  {
   "cell_type": "code",
   "execution_count": 88,
   "metadata": {
    "collapsed": true
   },
   "outputs": [],
   "source": [
    "ypred = gbm.predict_proba(X_test.as_matrix())"
   ]
  },
  {
   "cell_type": "code",
   "execution_count": 89,
   "metadata": {},
   "outputs": [
    {
     "data": {
      "text/plain": [
       "array([[ 0.66675603,  0.33324394],\n",
       "       [ 0.71622753,  0.28377244],\n",
       "       [ 0.57226062,  0.42773935],\n",
       "       ..., \n",
       "       [ 0.83804631,  0.16195369],\n",
       "       [ 0.67152441,  0.32847562],\n",
       "       [ 0.43141991,  0.56858009]], dtype=float32)"
      ]
     },
     "execution_count": 89,
     "metadata": {},
     "output_type": "execute_result"
    }
   ],
   "source": [
    "ypred"
   ]
  },
  {
   "cell_type": "code",
   "execution_count": 39,
   "metadata": {
    "collapsed": true
   },
   "outputs": [],
   "source": [
    "y_test2 = [np.insert(i,0,1-i[0],axis=0) for i in y_test]"
   ]
  },
  {
   "cell_type": "code",
   "execution_count": 90,
   "metadata": {},
   "outputs": [
    {
     "data": {
      "text/plain": [
       "array([[ 1.],\n",
       "       [ 0.],\n",
       "       [ 1.],\n",
       "       ..., \n",
       "       [ 0.],\n",
       "       [ 0.],\n",
       "       [ 0.]])"
      ]
     },
     "execution_count": 90,
     "metadata": {},
     "output_type": "execute_result"
    }
   ],
   "source": [
    "y_test"
   ]
  },
  {
   "cell_type": "code",
   "execution_count": 96,
   "metadata": {
    "collapsed": true
   },
   "outputs": [],
   "source": [
    "y_test = np.array(y_test[['other','CustomerInterest']])"
   ]
  },
  {
   "cell_type": "code",
   "execution_count": 91,
   "metadata": {},
   "outputs": [
    {
     "data": {
      "text/plain": [
       "array([ 0.33324394,  0.28377244,  0.42773935, ...,  0.16195369,\n",
       "        0.32847562,  0.56858009], dtype=float32)"
      ]
     },
     "execution_count": 91,
     "metadata": {},
     "output_type": "execute_result"
    }
   ],
   "source": [
    "ypred[:,1]"
   ]
  },
  {
   "cell_type": "code",
   "execution_count": 51,
   "metadata": {
    "collapsed": true
   },
   "outputs": [],
   "source": [
    "y_test = y_test.flatten()"
   ]
  },
  {
   "cell_type": "code",
   "execution_count": 52,
   "metadata": {},
   "outputs": [
    {
     "data": {
      "text/plain": [
       "array([ 1.,  0.,  1., ...,  0.,  0.,  0.])"
      ]
     },
     "execution_count": 52,
     "metadata": {},
     "output_type": "execute_result"
    }
   ],
   "source": [
    "y_test"
   ]
  },
  {
   "cell_type": "code",
   "execution_count": 53,
   "metadata": {
    "collapsed": true
   },
   "outputs": [],
   "source": [
    "from sklearn import metrics\n",
    "fpr, tpr, thresholds = metrics.roc_curve(y_test, ypred[:,1], pos_label=2)\n"
   ]
  },
  {
   "cell_type": "code",
   "execution_count": 54,
   "metadata": {},
   "outputs": [
    {
     "data": {
      "text/plain": [
       "(array([ 0.        ,  0.21887574,  0.32698176,  1.        ]),\n",
       " array([ nan,  nan,  nan,  nan]),\n",
       " array([ 1.9966886 ,  0.99668854,  0.99668759,  0.00331077], dtype=float32))"
      ]
     },
     "execution_count": 54,
     "metadata": {},
     "output_type": "execute_result"
    }
   ],
   "source": [
    "fpr, tpr, thresholds"
   ]
  },
  {
   "cell_type": "code",
   "execution_count": 37,
   "metadata": {},
   "outputs": [
    {
     "ename": "IndexError",
     "evalue": "index 1 is out of bounds for axis 1 with size 1",
     "output_type": "error",
     "traceback": [
      "\u001b[0;31m---------------------------------------------------------------------------\u001b[0m",
      "\u001b[0;31mIndexError\u001b[0m                                Traceback (most recent call last)",
      "\u001b[0;32m<ipython-input-37-248a2405d38d>\u001b[0m in \u001b[0;36m<module>\u001b[0;34m()\u001b[0m\n\u001b[1;32m      5\u001b[0m \u001b[0mroc_auc\u001b[0m \u001b[0;34m=\u001b[0m \u001b[0mdict\u001b[0m\u001b[0;34m(\u001b[0m\u001b[0;34m)\u001b[0m\u001b[0;34m\u001b[0m\u001b[0m\n\u001b[1;32m      6\u001b[0m \u001b[0;32mfor\u001b[0m \u001b[0mi\u001b[0m \u001b[0;32min\u001b[0m \u001b[0mrange\u001b[0m\u001b[0;34m(\u001b[0m\u001b[0;36m2\u001b[0m\u001b[0;34m)\u001b[0m\u001b[0;34m:\u001b[0m\u001b[0;34m\u001b[0m\u001b[0m\n\u001b[0;32m----> 7\u001b[0;31m     \u001b[0mfpr\u001b[0m\u001b[0;34m[\u001b[0m\u001b[0mi\u001b[0m\u001b[0;34m]\u001b[0m\u001b[0;34m,\u001b[0m \u001b[0mtpr\u001b[0m\u001b[0;34m[\u001b[0m\u001b[0mi\u001b[0m\u001b[0;34m]\u001b[0m\u001b[0;34m,\u001b[0m \u001b[0m_\u001b[0m \u001b[0;34m=\u001b[0m \u001b[0mroc_curve\u001b[0m\u001b[0;34m(\u001b[0m\u001b[0my_test\u001b[0m\u001b[0;34m[\u001b[0m\u001b[0;34m:\u001b[0m\u001b[0;34m,\u001b[0m \u001b[0mi\u001b[0m\u001b[0;34m]\u001b[0m\u001b[0;34m,\u001b[0m \u001b[0mypred\u001b[0m\u001b[0;34m[\u001b[0m\u001b[0;34m:\u001b[0m\u001b[0;34m,\u001b[0m \u001b[0mi\u001b[0m\u001b[0;34m]\u001b[0m\u001b[0;34m)\u001b[0m\u001b[0;34m\u001b[0m\u001b[0m\n\u001b[0m\u001b[1;32m      8\u001b[0m     \u001b[0mroc_auc\u001b[0m\u001b[0;34m[\u001b[0m\u001b[0mi\u001b[0m\u001b[0;34m]\u001b[0m \u001b[0;34m=\u001b[0m \u001b[0mauc\u001b[0m\u001b[0;34m(\u001b[0m\u001b[0mfpr\u001b[0m\u001b[0;34m[\u001b[0m\u001b[0mi\u001b[0m\u001b[0;34m]\u001b[0m\u001b[0;34m,\u001b[0m \u001b[0mtpr\u001b[0m\u001b[0;34m[\u001b[0m\u001b[0mi\u001b[0m\u001b[0;34m]\u001b[0m\u001b[0;34m)\u001b[0m\u001b[0;34m\u001b[0m\u001b[0m\n",
      "\u001b[0;31mIndexError\u001b[0m: index 1 is out of bounds for axis 1 with size 1"
     ]
    }
   ],
   "source": [
    "from sklearn.metrics import roc_curve, auc\n",
    "\n",
    "fpr = dict()\n",
    "tpr = dict()\n",
    "roc_auc = dict()\n",
    "for i in range(2):\n",
    "    fpr[i], tpr[i], _ = roc_curve(y_test[:, i], ypred[:, i])\n",
    "    roc_auc[i] = auc(fpr[i], tpr[i])\n"
   ]
  },
  {
   "cell_type": "code",
   "execution_count": 100,
   "metadata": {},
   "outputs": [
    {
     "data": {
      "text/plain": [
       "{0: 1.0, 1: 1.0}"
      ]
     },
     "execution_count": 100,
     "metadata": {},
     "output_type": "execute_result"
    }
   ],
   "source": [
    "roc_auc"
   ]
  },
  {
   "cell_type": "code",
   "execution_count": 1,
   "metadata": {},
   "outputs": [
    {
     "ename": "NameError",
     "evalue": "name 'np' is not defined",
     "output_type": "error",
     "traceback": [
      "\u001b[0;31m---------------------------------------------------------------------------\u001b[0m",
      "\u001b[0;31mNameError\u001b[0m                                 Traceback (most recent call last)",
      "\u001b[0;32m<ipython-input-1-1069fcffcf3b>\u001b[0m in \u001b[0;36m<module>\u001b[0;34m()\u001b[0m\n\u001b[1;32m      4\u001b[0m \u001b[0mn_classes\u001b[0m\u001b[0;34m=\u001b[0m\u001b[0;36m2\u001b[0m\u001b[0;34m\u001b[0m\u001b[0m\n\u001b[1;32m      5\u001b[0m \u001b[0;31m# First aggregate all false positive rates\u001b[0m\u001b[0;34m\u001b[0m\u001b[0;34m\u001b[0m\u001b[0m\n\u001b[0;32m----> 6\u001b[0;31m \u001b[0mall_fpr\u001b[0m \u001b[0;34m=\u001b[0m \u001b[0mnp\u001b[0m\u001b[0;34m.\u001b[0m\u001b[0munique\u001b[0m\u001b[0;34m(\u001b[0m\u001b[0mnp\u001b[0m\u001b[0;34m.\u001b[0m\u001b[0mconcatenate\u001b[0m\u001b[0;34m(\u001b[0m\u001b[0;34m[\u001b[0m\u001b[0mfpr\u001b[0m\u001b[0;34m[\u001b[0m\u001b[0mi\u001b[0m\u001b[0;34m]\u001b[0m \u001b[0;32mfor\u001b[0m \u001b[0mi\u001b[0m \u001b[0;32min\u001b[0m \u001b[0mrange\u001b[0m\u001b[0;34m(\u001b[0m\u001b[0mn_classes\u001b[0m\u001b[0;34m)\u001b[0m\u001b[0;34m]\u001b[0m\u001b[0;34m)\u001b[0m\u001b[0;34m)\u001b[0m\u001b[0;34m\u001b[0m\u001b[0m\n\u001b[0m\u001b[1;32m      7\u001b[0m \u001b[0;34m\u001b[0m\u001b[0m\n\u001b[1;32m      8\u001b[0m \u001b[0;31m# Then interpolate all ROC curves at this points\u001b[0m\u001b[0;34m\u001b[0m\u001b[0;34m\u001b[0m\u001b[0m\n",
      "\u001b[0;31mNameError\u001b[0m: name 'np' is not defined"
     ]
    }
   ],
   "source": [
    "from scipy import interp\n",
    "import matplotlib.pyplot as plt\n",
    "# Compute macro-average ROC curve and ROC area\n",
    "n_classes=2\n",
    "# First aggregate all false positive rates\n",
    "all_fpr = np.unique(np.concatenate([fpr[i] for i in range(n_classes)]))\n",
    "\n",
    "# Then interpolate all ROC curves at this points\n",
    "mean_tpr = np.zeros_like(all_fpr)\n",
    "for i in range(n_classes):\n",
    "    mean_tpr += interp(all_fpr, fpr[i], tpr[i])\n",
    "\n",
    "# Finally average it and compute AUC\n",
    "mean_tpr /= n_classes\n",
    "\n",
    "fpr[\"macro\"] = all_fpr\n",
    "tpr[\"macro\"] = mean_tpr\n",
    "roc_auc[\"macro\"] = auc(fpr[\"macro\"], tpr[\"macro\"])\n",
    "\n",
    "# Plot all ROC curves\n",
    "plt.figure()\n",
    "plt.plot(fpr[\"micro\"], tpr[\"micro\"],\n",
    "         label='micro-average ROC curve (area = {0:0.2f})'\n",
    "               ''.format(roc_auc[\"micro\"]),\n",
    "         color='deeppink', linestyle=':', linewidth=4)\n",
    "\n",
    "plt.plot(fpr[\"macro\"], tpr[\"macro\"],\n",
    "         label='macro-average ROC curve (area = {0:0.2f})'\n",
    "               ''.format(roc_auc[\"macro\"]),\n",
    "         color='navy', linestyle=':', linewidth=4)\n",
    "\n",
    "colors = cycle(['aqua', 'darkorange', 'cornflowerblue'])\n",
    "for i, color in zip(range(n_classes), colors):\n",
    "    plt.plot(fpr[i], tpr[i], color=color, lw=lw,\n",
    "             label='ROC curve of class {0} (area = {1:0.2f})'\n",
    "             ''.format(i, roc_auc[i]))\n",
    "\n",
    "plt.plot([0, 1], [0, 1], 'k--', lw=lw)\n",
    "plt.xlim([0.0, 1.0])\n",
    "plt.ylim([0.0, 1.05])\n",
    "plt.xlabel('False Positive Rate')\n",
    "plt.ylabel('True Positive Rate')\n",
    "plt.title('Some extension of Receiver operating characteristic to multi-class')\n",
    "plt.legend(loc=\"lower right\")\n",
    "plt.show()"
   ]
  },
  {
   "cell_type": "markdown",
   "metadata": {
    "collapsed": true
   },
   "source": [
    "## Submission"
   ]
  },
  {
   "cell_type": "code",
   "execution_count": 60,
   "metadata": {},
   "outputs": [],
   "source": [
    "challenge = pd.read_csv('./data/Challenge_20180423.csv')\n",
    "challenge.sort_values('PredictionIdx',inplace=True)"
   ]
  },
  {
   "cell_type": "code",
   "execution_count": 61,
   "metadata": {},
   "outputs": [],
   "source": [
    "customer = pd.read_csv('./data/Customer.csv')\n",
    "isin = pd.read_csv('./data/Isin.csv')"
   ]
  },
  {
   "cell_type": "code",
   "execution_count": 62,
   "metadata": {},
   "outputs": [],
   "source": [
    "one = challenge.merge(isin, on ='IsinIdx', how='left')\n",
    "two = one.merge(customer, on='CustomerIdx', how='left')"
   ]
  },
  {
   "cell_type": "code",
   "execution_count": 63,
   "metadata": {},
   "outputs": [],
   "source": [
    "two = two.merge(volatile,how='left',on='IsinIdx')"
   ]
  },
  {
   "cell_type": "code",
   "execution_count": 106,
   "metadata": {},
   "outputs": [],
   "source": [
    "market = pd.read_csv('./data/Market.csv')\n",
    "def convertDatetime(x):\n",
    "    x = str(x)\n",
    "    date = x[:4] + '-' + x[4:6] + '-' + x[6:]\n",
    "    return datetime.strptime(date, '%Y-%m-%d')"
   ]
  },
  {
   "cell_type": "code",
   "execution_count": 107,
   "metadata": {},
   "outputs": [],
   "source": [
    "market['date'] = market['DateKey'].apply(lambda x: convertDatetime(x))\n",
    "market['week'] = market['date'].apply(lambda x: x - timedelta(days=x.weekday()))\n",
    "marketbyweek = market.drop(['DateKey','date'], axis=1)\n",
    "marketgrouped = marketbyweek.groupby(by=['week','IsinIdx'])['Price','Yield','ZSpread'].mean().reset_index()"
   ]
  },
  {
   "cell_type": "code",
   "execution_count": 108,
   "metadata": {},
   "outputs": [
    {
     "data": {
      "text/html": [
       "<div>\n",
       "<style scoped>\n",
       "    .dataframe tbody tr th:only-of-type {\n",
       "        vertical-align: middle;\n",
       "    }\n",
       "\n",
       "    .dataframe tbody tr th {\n",
       "        vertical-align: top;\n",
       "    }\n",
       "\n",
       "    .dataframe thead th {\n",
       "        text-align: right;\n",
       "    }\n",
       "</style>\n",
       "<table border=\"1\" class=\"dataframe\">\n",
       "  <thead>\n",
       "    <tr style=\"text-align: right;\">\n",
       "      <th></th>\n",
       "      <th>week</th>\n",
       "      <th>IsinIdx</th>\n",
       "      <th>Price</th>\n",
       "      <th>Yield</th>\n",
       "      <th>ZSpread</th>\n",
       "    </tr>\n",
       "  </thead>\n",
       "  <tbody>\n",
       "    <tr>\n",
       "      <th>0</th>\n",
       "      <td>2015-12-28</td>\n",
       "      <td>1</td>\n",
       "      <td>104.250</td>\n",
       "      <td>7.835</td>\n",
       "      <td>5.505</td>\n",
       "    </tr>\n",
       "    <tr>\n",
       "      <th>1</th>\n",
       "      <td>2015-12-28</td>\n",
       "      <td>7</td>\n",
       "      <td>107.500</td>\n",
       "      <td>7.520</td>\n",
       "      <td>5.541</td>\n",
       "    </tr>\n",
       "    <tr>\n",
       "      <th>2</th>\n",
       "      <td>2015-12-28</td>\n",
       "      <td>102</td>\n",
       "      <td>100.746</td>\n",
       "      <td>4.048</td>\n",
       "      <td>2.085</td>\n",
       "    </tr>\n",
       "    <tr>\n",
       "      <th>3</th>\n",
       "      <td>2015-12-28</td>\n",
       "      <td>156</td>\n",
       "      <td>98.065</td>\n",
       "      <td>3.984</td>\n",
       "      <td>2.136</td>\n",
       "    </tr>\n",
       "    <tr>\n",
       "      <th>4</th>\n",
       "      <td>2015-12-28</td>\n",
       "      <td>331</td>\n",
       "      <td>112.790</td>\n",
       "      <td>-0.752</td>\n",
       "      <td>-0.215</td>\n",
       "    </tr>\n",
       "  </tbody>\n",
       "</table>\n",
       "</div>"
      ],
      "text/plain": [
       "        week  IsinIdx    Price  Yield  ZSpread\n",
       "0 2015-12-28        1  104.250  7.835    5.505\n",
       "1 2015-12-28        7  107.500  7.520    5.541\n",
       "2 2015-12-28      102  100.746  4.048    2.085\n",
       "3 2015-12-28      156   98.065  3.984    2.136\n",
       "4 2015-12-28      331  112.790 -0.752   -0.215"
      ]
     },
     "execution_count": 108,
     "metadata": {},
     "output_type": "execute_result"
    }
   ],
   "source": [
    "marketgrouped[]"
   ]
  },
  {
   "cell_type": "code",
   "execution_count": 109,
   "metadata": {},
   "outputs": [],
   "source": [
    "market_small = marketgrouped[marketgrouped['week'] >= '2018-04-16']\n",
    "market_small['week'] = datetime.strptime('2018-04-23', '%Y-%m-%d')"
   ]
  },
  {
   "cell_type": "code",
   "execution_count": 111,
   "metadata": {},
   "outputs": [],
   "source": [
    "two['week'] = two['DateKey'].apply(lambda x: convertDatetime(x))"
   ]
  },
  {
   "cell_type": "code",
   "execution_count": 118,
   "metadata": {},
   "outputs": [],
   "source": [
    "combined = two.merge(market_small, how='left', on=['week','IsinIdx'])"
   ]
  },
  {
   "cell_type": "code",
   "execution_count": 119,
   "metadata": {},
   "outputs": [
    {
     "data": {
      "text/html": [
       "<div>\n",
       "<style scoped>\n",
       "    .dataframe tbody tr th:only-of-type {\n",
       "        vertical-align: middle;\n",
       "    }\n",
       "\n",
       "    .dataframe tbody tr th {\n",
       "        vertical-align: top;\n",
       "    }\n",
       "\n",
       "    .dataframe thead th {\n",
       "        text-align: right;\n",
       "    }\n",
       "</style>\n",
       "<table border=\"1\" class=\"dataframe\">\n",
       "  <thead>\n",
       "    <tr style=\"text-align: right;\">\n",
       "      <th></th>\n",
       "      <th>PredictionIdx</th>\n",
       "      <th>DateKey</th>\n",
       "      <th>CustomerIdx</th>\n",
       "      <th>IsinIdx</th>\n",
       "      <th>BuySell</th>\n",
       "      <th>CustomerInterest</th>\n",
       "      <th>TickerIdx</th>\n",
       "      <th>ActualMaturityDateKey</th>\n",
       "      <th>IssueDateKey</th>\n",
       "      <th>Seniority</th>\n",
       "      <th>Currency</th>\n",
       "      <th>ActivityGroup</th>\n",
       "      <th>Region_x</th>\n",
       "      <th>Activity</th>\n",
       "      <th>RiskCaptain</th>\n",
       "      <th>Owner</th>\n",
       "      <th>CompositeRating</th>\n",
       "      <th>IndustrySector</th>\n",
       "      <th>IndustrySubgroup</th>\n",
       "      <th>MarketIssue</th>\n",
       "      <th>IssuedAmount</th>\n",
       "      <th>CouponType</th>\n",
       "      <th>Sector</th>\n",
       "      <th>Subsector</th>\n",
       "      <th>Region_y</th>\n",
       "      <th>Country</th>\n",
       "      <th>volrank</th>\n",
       "      <th>week</th>\n",
       "      <th>Price</th>\n",
       "      <th>Yield</th>\n",
       "      <th>ZSpread</th>\n",
       "    </tr>\n",
       "  </thead>\n",
       "  <tbody>\n",
       "    <tr>\n",
       "      <th>0</th>\n",
       "      <td>00000aa6c4</td>\n",
       "      <td>20180423</td>\n",
       "      <td>1822</td>\n",
       "      <td>24530</td>\n",
       "      <td>Sell</td>\n",
       "      <td>NaN</td>\n",
       "      <td>3184</td>\n",
       "      <td>20260414</td>\n",
       "      <td>20160414</td>\n",
       "      <td>SEN</td>\n",
       "      <td>EUR</td>\n",
       "      <td>FLOW G10</td>\n",
       "      <td>EUROPE</td>\n",
       "      <td>INSTITUTIONAL MARKET MAKING</td>\n",
       "      <td>HIGH GRADE CORP</td>\n",
       "      <td>TMT/AUTO CASH &amp; PERPS</td>\n",
       "      <td>A</td>\n",
       "      <td>Communications</td>\n",
       "      <td>Cellular Telecom</td>\n",
       "      <td>Euro mtn</td>\n",
       "      <td>7.500000e+08</td>\n",
       "      <td>FIXED</td>\n",
       "      <td>Asset Managers &amp; Hedge Funds</td>\n",
       "      <td>Asset Mgr owned by Bank/Insur.</td>\n",
       "      <td>Europe, Middle East and Africa</td>\n",
       "      <td>ITALY</td>\n",
       "      <td>low</td>\n",
       "      <td>2018-04-23</td>\n",
       "      <td>99.9678</td>\n",
       "      <td>1.1288</td>\n",
       "      <td>0.3744</td>\n",
       "    </tr>\n",
       "    <tr>\n",
       "      <th>1</th>\n",
       "      <td>00000feadb</td>\n",
       "      <td>20180423</td>\n",
       "      <td>2792</td>\n",
       "      <td>2981</td>\n",
       "      <td>Buy</td>\n",
       "      <td>NaN</td>\n",
       "      <td>530</td>\n",
       "      <td>20191129</td>\n",
       "      <td>20121130</td>\n",
       "      <td>SEC</td>\n",
       "      <td>EUR</td>\n",
       "      <td>SAS &amp; COVERED BONDS</td>\n",
       "      <td>EUR COVERED</td>\n",
       "      <td>EUR COVERED</td>\n",
       "      <td>EUR COVERED</td>\n",
       "      <td>EUR COVERED</td>\n",
       "      <td>AAA</td>\n",
       "      <td>Financial</td>\n",
       "      <td>Finance-Mtge Loan/Banker</td>\n",
       "      <td>Euro-zone</td>\n",
       "      <td>1.000000e+09</td>\n",
       "      <td>FIXED</td>\n",
       "      <td>Banks and Intermediaries</td>\n",
       "      <td>Bank</td>\n",
       "      <td>Europe, Middle East and Africa</td>\n",
       "      <td>GERMANY</td>\n",
       "      <td>low</td>\n",
       "      <td>2018-04-23</td>\n",
       "      <td>103.3630</td>\n",
       "      <td>-0.3312</td>\n",
       "      <td>-0.1280</td>\n",
       "    </tr>\n",
       "    <tr>\n",
       "      <th>2</th>\n",
       "      <td>00003569b7</td>\n",
       "      <td>20180423</td>\n",
       "      <td>222</td>\n",
       "      <td>21439</td>\n",
       "      <td>Buy</td>\n",
       "      <td>NaN</td>\n",
       "      <td>1220</td>\n",
       "      <td>20230806</td>\n",
       "      <td>20130806</td>\n",
       "      <td>SEN</td>\n",
       "      <td>USD</td>\n",
       "      <td>FLOW LOCAL MARKET</td>\n",
       "      <td>EUROPE</td>\n",
       "      <td>LOCAL MARKET</td>\n",
       "      <td>LOCAL MARKET</td>\n",
       "      <td>EUROPE LM SK</td>\n",
       "      <td>CCC+</td>\n",
       "      <td>Utilities</td>\n",
       "      <td>Electric-Integrated</td>\n",
       "      <td>Euro mtn</td>\n",
       "      <td>1.000000e+09</td>\n",
       "      <td>FIXED</td>\n",
       "      <td>Asset Managers &amp; Hedge Funds</td>\n",
       "      <td>Asset Mgr owned by Bank/Insur.</td>\n",
       "      <td>Europe, Middle East and Africa</td>\n",
       "      <td>SWITZERLAND</td>\n",
       "      <td>low</td>\n",
       "      <td>2018-04-23</td>\n",
       "      <td>101.7500</td>\n",
       "      <td>6.3528</td>\n",
       "      <td>3.4998</td>\n",
       "    </tr>\n",
       "    <tr>\n",
       "      <th>3</th>\n",
       "      <td>00005bb063</td>\n",
       "      <td>20180423</td>\n",
       "      <td>1788</td>\n",
       "      <td>23643</td>\n",
       "      <td>Buy</td>\n",
       "      <td>NaN</td>\n",
       "      <td>3334</td>\n",
       "      <td>20230522</td>\n",
       "      <td>20150522</td>\n",
       "      <td>SEN</td>\n",
       "      <td>EUR</td>\n",
       "      <td>FLOW G10</td>\n",
       "      <td>EUROPE</td>\n",
       "      <td>INSTITUTIONAL MARKET MAKING</td>\n",
       "      <td>HIGH GRADE CORP</td>\n",
       "      <td>INDUSTRIALS/MINERS/CHEMS/PHARM</td>\n",
       "      <td>A-</td>\n",
       "      <td>Industrial</td>\n",
       "      <td>Aerospace/Defense-Equip</td>\n",
       "      <td>Euro non-dollar</td>\n",
       "      <td>7.500000e+08</td>\n",
       "      <td>FIXED</td>\n",
       "      <td>Banks and Intermediaries</td>\n",
       "      <td>Private Bank - Wealth Manager</td>\n",
       "      <td>Europe, Middle East and Africa</td>\n",
       "      <td>SWITZERLAND</td>\n",
       "      <td>low</td>\n",
       "      <td>2018-04-23</td>\n",
       "      <td>102.9570</td>\n",
       "      <td>0.6280</td>\n",
       "      <td>0.2740</td>\n",
       "    </tr>\n",
       "    <tr>\n",
       "      <th>4</th>\n",
       "      <td>0000681f81</td>\n",
       "      <td>20180423</td>\n",
       "      <td>222</td>\n",
       "      <td>20742</td>\n",
       "      <td>Sell</td>\n",
       "      <td>NaN</td>\n",
       "      <td>1524</td>\n",
       "      <td>20230630</td>\n",
       "      <td>20121120</td>\n",
       "      <td>SUB</td>\n",
       "      <td>EUR</td>\n",
       "      <td>FLOW G10</td>\n",
       "      <td>EUROPE</td>\n",
       "      <td>INSTITUTIONAL MARKET MAKING</td>\n",
       "      <td>FINANCIALS</td>\n",
       "      <td>INSCO CASH</td>\n",
       "      <td>NR</td>\n",
       "      <td>Financial</td>\n",
       "      <td>Reinsurance</td>\n",
       "      <td>Euro-zone</td>\n",
       "      <td>5.000000e+08</td>\n",
       "      <td>VARIABLE</td>\n",
       "      <td>Asset Managers &amp; Hedge Funds</td>\n",
       "      <td>Asset Mgr owned by Bank/Insur.</td>\n",
       "      <td>Europe, Middle East and Africa</td>\n",
       "      <td>SWITZERLAND</td>\n",
       "      <td>low</td>\n",
       "      <td>2018-04-23</td>\n",
       "      <td>118.5594</td>\n",
       "      <td>1.2818</td>\n",
       "      <td>0.8982</td>\n",
       "    </tr>\n",
       "  </tbody>\n",
       "</table>\n",
       "</div>"
      ],
      "text/plain": [
       "  PredictionIdx   DateKey  CustomerIdx  IsinIdx BuySell  CustomerInterest  \\\n",
       "0    00000aa6c4  20180423         1822    24530    Sell               NaN   \n",
       "1    00000feadb  20180423         2792     2981     Buy               NaN   \n",
       "2    00003569b7  20180423          222    21439     Buy               NaN   \n",
       "3    00005bb063  20180423         1788    23643     Buy               NaN   \n",
       "4    0000681f81  20180423          222    20742    Sell               NaN   \n",
       "\n",
       "   TickerIdx  ActualMaturityDateKey  IssueDateKey Seniority Currency  \\\n",
       "0       3184               20260414      20160414       SEN      EUR   \n",
       "1        530               20191129      20121130       SEC      EUR   \n",
       "2       1220               20230806      20130806       SEN      USD   \n",
       "3       3334               20230522      20150522       SEN      EUR   \n",
       "4       1524               20230630      20121120       SUB      EUR   \n",
       "\n",
       "         ActivityGroup     Region_x                     Activity  \\\n",
       "0             FLOW G10       EUROPE  INSTITUTIONAL MARKET MAKING   \n",
       "1  SAS & COVERED BONDS  EUR COVERED                  EUR COVERED   \n",
       "2    FLOW LOCAL MARKET       EUROPE                 LOCAL MARKET   \n",
       "3             FLOW G10       EUROPE  INSTITUTIONAL MARKET MAKING   \n",
       "4             FLOW G10       EUROPE  INSTITUTIONAL MARKET MAKING   \n",
       "\n",
       "       RiskCaptain                           Owner CompositeRating  \\\n",
       "0  HIGH GRADE CORP           TMT/AUTO CASH & PERPS               A   \n",
       "1      EUR COVERED                     EUR COVERED             AAA   \n",
       "2     LOCAL MARKET                    EUROPE LM SK            CCC+   \n",
       "3  HIGH GRADE CORP  INDUSTRIALS/MINERS/CHEMS/PHARM              A-   \n",
       "4       FINANCIALS                      INSCO CASH              NR   \n",
       "\n",
       "   IndustrySector          IndustrySubgroup      MarketIssue  IssuedAmount  \\\n",
       "0  Communications          Cellular Telecom         Euro mtn  7.500000e+08   \n",
       "1       Financial  Finance-Mtge Loan/Banker        Euro-zone  1.000000e+09   \n",
       "2       Utilities       Electric-Integrated         Euro mtn  1.000000e+09   \n",
       "3      Industrial   Aerospace/Defense-Equip  Euro non-dollar  7.500000e+08   \n",
       "4       Financial               Reinsurance        Euro-zone  5.000000e+08   \n",
       "\n",
       "  CouponType                        Sector                       Subsector  \\\n",
       "0      FIXED  Asset Managers & Hedge Funds  Asset Mgr owned by Bank/Insur.   \n",
       "1      FIXED      Banks and Intermediaries                            Bank   \n",
       "2      FIXED  Asset Managers & Hedge Funds  Asset Mgr owned by Bank/Insur.   \n",
       "3      FIXED      Banks and Intermediaries   Private Bank - Wealth Manager   \n",
       "4   VARIABLE  Asset Managers & Hedge Funds  Asset Mgr owned by Bank/Insur.   \n",
       "\n",
       "                         Region_y      Country volrank       week     Price  \\\n",
       "0  Europe, Middle East and Africa        ITALY     low 2018-04-23   99.9678   \n",
       "1  Europe, Middle East and Africa      GERMANY     low 2018-04-23  103.3630   \n",
       "2  Europe, Middle East and Africa  SWITZERLAND     low 2018-04-23  101.7500   \n",
       "3  Europe, Middle East and Africa  SWITZERLAND     low 2018-04-23  102.9570   \n",
       "4  Europe, Middle East and Africa  SWITZERLAND     low 2018-04-23  118.5594   \n",
       "\n",
       "    Yield  ZSpread  \n",
       "0  1.1288   0.3744  \n",
       "1 -0.3312  -0.1280  \n",
       "2  6.3528   3.4998  \n",
       "3  0.6280   0.2740  \n",
       "4  1.2818   0.8982  "
      ]
     },
     "execution_count": 119,
     "metadata": {},
     "output_type": "execute_result"
    }
   ],
   "source": [
    "combined.head()"
   ]
  },
  {
   "cell_type": "code",
   "execution_count": 120,
   "metadata": {},
   "outputs": [],
   "source": [
    "combined['ActualMaturityDateKey'] = combined['ActualMaturityDateKey'].apply(lambda x: convertDatetime(x))\n",
    "combined['week'] = combined['DateKey'].apply(lambda x: convertDatetime(x))\n",
    "combined['daysToMaturity'] = combined['ActualMaturityDateKey'] - combined['week']\n",
    "combined['daysToMaturity'] = combined['daysToMaturity'].apply(lambda x: int(x.days))"
   ]
  },
  {
   "cell_type": "code",
   "execution_count": 121,
   "metadata": {},
   "outputs": [],
   "source": [
    "combined['IssueDateKey'] = combined['IssueDateKey'].apply(lambda x: convertDatetime(x))\n",
    "combined['daysSinceIssue'] = combined['week'] - combined['IssueDateKey']\n",
    "combined['daysSinceIssue'] = combined['daysSinceIssue'].apply(lambda x: int(x.days)) "
   ]
  },
  {
   "cell_type": "code",
   "execution_count": 122,
   "metadata": {},
   "outputs": [
    {
     "data": {
      "text/html": [
       "<div>\n",
       "<style scoped>\n",
       "    .dataframe tbody tr th:only-of-type {\n",
       "        vertical-align: middle;\n",
       "    }\n",
       "\n",
       "    .dataframe tbody tr th {\n",
       "        vertical-align: top;\n",
       "    }\n",
       "\n",
       "    .dataframe thead th {\n",
       "        text-align: right;\n",
       "    }\n",
       "</style>\n",
       "<table border=\"1\" class=\"dataframe\">\n",
       "  <thead>\n",
       "    <tr style=\"text-align: right;\">\n",
       "      <th></th>\n",
       "      <th>PredictionIdx</th>\n",
       "      <th>DateKey</th>\n",
       "      <th>CustomerIdx</th>\n",
       "      <th>IsinIdx</th>\n",
       "      <th>BuySell</th>\n",
       "      <th>CustomerInterest</th>\n",
       "      <th>TickerIdx</th>\n",
       "      <th>ActualMaturityDateKey</th>\n",
       "      <th>IssueDateKey</th>\n",
       "      <th>Seniority</th>\n",
       "      <th>Currency</th>\n",
       "      <th>ActivityGroup</th>\n",
       "      <th>Region_x</th>\n",
       "      <th>Activity</th>\n",
       "      <th>RiskCaptain</th>\n",
       "      <th>Owner</th>\n",
       "      <th>CompositeRating</th>\n",
       "      <th>IndustrySector</th>\n",
       "      <th>IndustrySubgroup</th>\n",
       "      <th>MarketIssue</th>\n",
       "      <th>IssuedAmount</th>\n",
       "      <th>CouponType</th>\n",
       "      <th>Sector</th>\n",
       "      <th>Subsector</th>\n",
       "      <th>Region_y</th>\n",
       "      <th>Country</th>\n",
       "      <th>volrank</th>\n",
       "      <th>week</th>\n",
       "      <th>Price</th>\n",
       "      <th>Yield</th>\n",
       "      <th>ZSpread</th>\n",
       "      <th>daysToMaturity</th>\n",
       "      <th>daysSinceIssue</th>\n",
       "    </tr>\n",
       "  </thead>\n",
       "  <tbody>\n",
       "    <tr>\n",
       "      <th>0</th>\n",
       "      <td>00000aa6c4</td>\n",
       "      <td>20180423</td>\n",
       "      <td>1822</td>\n",
       "      <td>24530</td>\n",
       "      <td>Sell</td>\n",
       "      <td>NaN</td>\n",
       "      <td>3184</td>\n",
       "      <td>2026-04-14</td>\n",
       "      <td>2016-04-14</td>\n",
       "      <td>SEN</td>\n",
       "      <td>EUR</td>\n",
       "      <td>FLOW G10</td>\n",
       "      <td>EUROPE</td>\n",
       "      <td>INSTITUTIONAL MARKET MAKING</td>\n",
       "      <td>HIGH GRADE CORP</td>\n",
       "      <td>TMT/AUTO CASH &amp; PERPS</td>\n",
       "      <td>A</td>\n",
       "      <td>Communications</td>\n",
       "      <td>Cellular Telecom</td>\n",
       "      <td>Euro mtn</td>\n",
       "      <td>7.500000e+08</td>\n",
       "      <td>FIXED</td>\n",
       "      <td>Asset Managers &amp; Hedge Funds</td>\n",
       "      <td>Asset Mgr owned by Bank/Insur.</td>\n",
       "      <td>Europe, Middle East and Africa</td>\n",
       "      <td>ITALY</td>\n",
       "      <td>low</td>\n",
       "      <td>2018-04-23</td>\n",
       "      <td>99.9678</td>\n",
       "      <td>1.1288</td>\n",
       "      <td>0.3744</td>\n",
       "      <td>2913</td>\n",
       "      <td>739</td>\n",
       "    </tr>\n",
       "    <tr>\n",
       "      <th>1</th>\n",
       "      <td>00000feadb</td>\n",
       "      <td>20180423</td>\n",
       "      <td>2792</td>\n",
       "      <td>2981</td>\n",
       "      <td>Buy</td>\n",
       "      <td>NaN</td>\n",
       "      <td>530</td>\n",
       "      <td>2019-11-29</td>\n",
       "      <td>2012-11-30</td>\n",
       "      <td>SEC</td>\n",
       "      <td>EUR</td>\n",
       "      <td>SAS &amp; COVERED BONDS</td>\n",
       "      <td>EUR COVERED</td>\n",
       "      <td>EUR COVERED</td>\n",
       "      <td>EUR COVERED</td>\n",
       "      <td>EUR COVERED</td>\n",
       "      <td>AAA</td>\n",
       "      <td>Financial</td>\n",
       "      <td>Finance-Mtge Loan/Banker</td>\n",
       "      <td>Euro-zone</td>\n",
       "      <td>1.000000e+09</td>\n",
       "      <td>FIXED</td>\n",
       "      <td>Banks and Intermediaries</td>\n",
       "      <td>Bank</td>\n",
       "      <td>Europe, Middle East and Africa</td>\n",
       "      <td>GERMANY</td>\n",
       "      <td>low</td>\n",
       "      <td>2018-04-23</td>\n",
       "      <td>103.3630</td>\n",
       "      <td>-0.3312</td>\n",
       "      <td>-0.1280</td>\n",
       "      <td>585</td>\n",
       "      <td>1970</td>\n",
       "    </tr>\n",
       "    <tr>\n",
       "      <th>2</th>\n",
       "      <td>00003569b7</td>\n",
       "      <td>20180423</td>\n",
       "      <td>222</td>\n",
       "      <td>21439</td>\n",
       "      <td>Buy</td>\n",
       "      <td>NaN</td>\n",
       "      <td>1220</td>\n",
       "      <td>2023-08-06</td>\n",
       "      <td>2013-08-06</td>\n",
       "      <td>SEN</td>\n",
       "      <td>USD</td>\n",
       "      <td>FLOW LOCAL MARKET</td>\n",
       "      <td>EUROPE</td>\n",
       "      <td>LOCAL MARKET</td>\n",
       "      <td>LOCAL MARKET</td>\n",
       "      <td>EUROPE LM SK</td>\n",
       "      <td>CCC+</td>\n",
       "      <td>Utilities</td>\n",
       "      <td>Electric-Integrated</td>\n",
       "      <td>Euro mtn</td>\n",
       "      <td>1.000000e+09</td>\n",
       "      <td>FIXED</td>\n",
       "      <td>Asset Managers &amp; Hedge Funds</td>\n",
       "      <td>Asset Mgr owned by Bank/Insur.</td>\n",
       "      <td>Europe, Middle East and Africa</td>\n",
       "      <td>SWITZERLAND</td>\n",
       "      <td>low</td>\n",
       "      <td>2018-04-23</td>\n",
       "      <td>101.7500</td>\n",
       "      <td>6.3528</td>\n",
       "      <td>3.4998</td>\n",
       "      <td>1931</td>\n",
       "      <td>1721</td>\n",
       "    </tr>\n",
       "    <tr>\n",
       "      <th>3</th>\n",
       "      <td>00005bb063</td>\n",
       "      <td>20180423</td>\n",
       "      <td>1788</td>\n",
       "      <td>23643</td>\n",
       "      <td>Buy</td>\n",
       "      <td>NaN</td>\n",
       "      <td>3334</td>\n",
       "      <td>2023-05-22</td>\n",
       "      <td>2015-05-22</td>\n",
       "      <td>SEN</td>\n",
       "      <td>EUR</td>\n",
       "      <td>FLOW G10</td>\n",
       "      <td>EUROPE</td>\n",
       "      <td>INSTITUTIONAL MARKET MAKING</td>\n",
       "      <td>HIGH GRADE CORP</td>\n",
       "      <td>INDUSTRIALS/MINERS/CHEMS/PHARM</td>\n",
       "      <td>A-</td>\n",
       "      <td>Industrial</td>\n",
       "      <td>Aerospace/Defense-Equip</td>\n",
       "      <td>Euro non-dollar</td>\n",
       "      <td>7.500000e+08</td>\n",
       "      <td>FIXED</td>\n",
       "      <td>Banks and Intermediaries</td>\n",
       "      <td>Private Bank - Wealth Manager</td>\n",
       "      <td>Europe, Middle East and Africa</td>\n",
       "      <td>SWITZERLAND</td>\n",
       "      <td>low</td>\n",
       "      <td>2018-04-23</td>\n",
       "      <td>102.9570</td>\n",
       "      <td>0.6280</td>\n",
       "      <td>0.2740</td>\n",
       "      <td>1855</td>\n",
       "      <td>1067</td>\n",
       "    </tr>\n",
       "    <tr>\n",
       "      <th>4</th>\n",
       "      <td>0000681f81</td>\n",
       "      <td>20180423</td>\n",
       "      <td>222</td>\n",
       "      <td>20742</td>\n",
       "      <td>Sell</td>\n",
       "      <td>NaN</td>\n",
       "      <td>1524</td>\n",
       "      <td>2023-06-30</td>\n",
       "      <td>2012-11-20</td>\n",
       "      <td>SUB</td>\n",
       "      <td>EUR</td>\n",
       "      <td>FLOW G10</td>\n",
       "      <td>EUROPE</td>\n",
       "      <td>INSTITUTIONAL MARKET MAKING</td>\n",
       "      <td>FINANCIALS</td>\n",
       "      <td>INSCO CASH</td>\n",
       "      <td>NR</td>\n",
       "      <td>Financial</td>\n",
       "      <td>Reinsurance</td>\n",
       "      <td>Euro-zone</td>\n",
       "      <td>5.000000e+08</td>\n",
       "      <td>VARIABLE</td>\n",
       "      <td>Asset Managers &amp; Hedge Funds</td>\n",
       "      <td>Asset Mgr owned by Bank/Insur.</td>\n",
       "      <td>Europe, Middle East and Africa</td>\n",
       "      <td>SWITZERLAND</td>\n",
       "      <td>low</td>\n",
       "      <td>2018-04-23</td>\n",
       "      <td>118.5594</td>\n",
       "      <td>1.2818</td>\n",
       "      <td>0.8982</td>\n",
       "      <td>1894</td>\n",
       "      <td>1980</td>\n",
       "    </tr>\n",
       "  </tbody>\n",
       "</table>\n",
       "</div>"
      ],
      "text/plain": [
       "  PredictionIdx   DateKey  CustomerIdx  IsinIdx BuySell  CustomerInterest  \\\n",
       "0    00000aa6c4  20180423         1822    24530    Sell               NaN   \n",
       "1    00000feadb  20180423         2792     2981     Buy               NaN   \n",
       "2    00003569b7  20180423          222    21439     Buy               NaN   \n",
       "3    00005bb063  20180423         1788    23643     Buy               NaN   \n",
       "4    0000681f81  20180423          222    20742    Sell               NaN   \n",
       "\n",
       "   TickerIdx ActualMaturityDateKey IssueDateKey Seniority Currency  \\\n",
       "0       3184            2026-04-14   2016-04-14       SEN      EUR   \n",
       "1        530            2019-11-29   2012-11-30       SEC      EUR   \n",
       "2       1220            2023-08-06   2013-08-06       SEN      USD   \n",
       "3       3334            2023-05-22   2015-05-22       SEN      EUR   \n",
       "4       1524            2023-06-30   2012-11-20       SUB      EUR   \n",
       "\n",
       "         ActivityGroup     Region_x                     Activity  \\\n",
       "0             FLOW G10       EUROPE  INSTITUTIONAL MARKET MAKING   \n",
       "1  SAS & COVERED BONDS  EUR COVERED                  EUR COVERED   \n",
       "2    FLOW LOCAL MARKET       EUROPE                 LOCAL MARKET   \n",
       "3             FLOW G10       EUROPE  INSTITUTIONAL MARKET MAKING   \n",
       "4             FLOW G10       EUROPE  INSTITUTIONAL MARKET MAKING   \n",
       "\n",
       "       RiskCaptain                           Owner CompositeRating  \\\n",
       "0  HIGH GRADE CORP           TMT/AUTO CASH & PERPS               A   \n",
       "1      EUR COVERED                     EUR COVERED             AAA   \n",
       "2     LOCAL MARKET                    EUROPE LM SK            CCC+   \n",
       "3  HIGH GRADE CORP  INDUSTRIALS/MINERS/CHEMS/PHARM              A-   \n",
       "4       FINANCIALS                      INSCO CASH              NR   \n",
       "\n",
       "   IndustrySector          IndustrySubgroup      MarketIssue  IssuedAmount  \\\n",
       "0  Communications          Cellular Telecom         Euro mtn  7.500000e+08   \n",
       "1       Financial  Finance-Mtge Loan/Banker        Euro-zone  1.000000e+09   \n",
       "2       Utilities       Electric-Integrated         Euro mtn  1.000000e+09   \n",
       "3      Industrial   Aerospace/Defense-Equip  Euro non-dollar  7.500000e+08   \n",
       "4       Financial               Reinsurance        Euro-zone  5.000000e+08   \n",
       "\n",
       "  CouponType                        Sector                       Subsector  \\\n",
       "0      FIXED  Asset Managers & Hedge Funds  Asset Mgr owned by Bank/Insur.   \n",
       "1      FIXED      Banks and Intermediaries                            Bank   \n",
       "2      FIXED  Asset Managers & Hedge Funds  Asset Mgr owned by Bank/Insur.   \n",
       "3      FIXED      Banks and Intermediaries   Private Bank - Wealth Manager   \n",
       "4   VARIABLE  Asset Managers & Hedge Funds  Asset Mgr owned by Bank/Insur.   \n",
       "\n",
       "                         Region_y      Country volrank       week     Price  \\\n",
       "0  Europe, Middle East and Africa        ITALY     low 2018-04-23   99.9678   \n",
       "1  Europe, Middle East and Africa      GERMANY     low 2018-04-23  103.3630   \n",
       "2  Europe, Middle East and Africa  SWITZERLAND     low 2018-04-23  101.7500   \n",
       "3  Europe, Middle East and Africa  SWITZERLAND     low 2018-04-23  102.9570   \n",
       "4  Europe, Middle East and Africa  SWITZERLAND     low 2018-04-23  118.5594   \n",
       "\n",
       "    Yield  ZSpread  daysToMaturity  daysSinceIssue  \n",
       "0  1.1288   0.3744            2913             739  \n",
       "1 -0.3312  -0.1280             585            1970  \n",
       "2  6.3528   3.4998            1931            1721  \n",
       "3  0.6280   0.2740            1855            1067  \n",
       "4  1.2818   0.8982            1894            1980  "
      ]
     },
     "execution_count": 122,
     "metadata": {},
     "output_type": "execute_result"
    }
   ],
   "source": [
    "combined.head()"
   ]
  },
  {
   "cell_type": "code",
   "execution_count": 123,
   "metadata": {},
   "outputs": [],
   "source": [
    "challenge_data = combined[columns]"
   ]
  },
  {
   "cell_type": "code",
   "execution_count": 124,
   "metadata": {},
   "outputs": [],
   "source": [
    "challenge_X = challenge_data[features]"
   ]
  },
  {
   "cell_type": "code",
   "execution_count": 125,
   "metadata": {},
   "outputs": [],
   "source": [
    "challenge_X = dfImputer.fit_transform(challenge_X)"
   ]
  },
  {
   "cell_type": "code",
   "execution_count": 126,
   "metadata": {},
   "outputs": [],
   "source": [
    "for feature in non_numeric_cols:\n",
    "    challenge_X[feature] = le.fit_transform(challenge_X[feature])"
   ]
  },
  {
   "cell_type": "code",
   "execution_count": 140,
   "metadata": {},
   "outputs": [
    {
     "name": "stderr",
     "output_type": "stream",
     "text": [
      "/anaconda3/envs/kaggle/lib/python3.6/site-packages/ipykernel_launcher.py:1: FutureWarning: Method .as_matrix will be removed in a future version. Use .values instead.\n",
      "  \"\"\"Entry point for launching an IPython kernel.\n"
     ]
    }
   ],
   "source": [
    "result = classifier.predict_proba(challenge_X.as_matrix())[:,1]"
   ]
  },
  {
   "cell_type": "code",
   "execution_count": 141,
   "metadata": {},
   "outputs": [
    {
     "data": {
      "text/plain": [
       "array([0.30939306, 0.29773309, 0.285943  , ..., 0.30979961, 0.27922545,\n",
       "       0.29071595])"
      ]
     },
     "execution_count": 141,
     "metadata": {},
     "output_type": "execute_result"
    }
   ],
   "source": [
    "result"
   ]
  },
  {
   "cell_type": "code",
   "execution_count": 129,
   "metadata": {},
   "outputs": [],
   "source": [
    "submission = pd.read_csv('./data/sample_submission.csv')"
   ]
  },
  {
   "cell_type": "code",
   "execution_count": 130,
   "metadata": {},
   "outputs": [],
   "source": [
    "submission.sort_values('PredictionIdx',inplace=True)"
   ]
  },
  {
   "cell_type": "code",
   "execution_count": 131,
   "metadata": {},
   "outputs": [],
   "source": [
    "submission['CustomerInterest'] = result"
   ]
  },
  {
   "cell_type": "code",
   "execution_count": 132,
   "metadata": {},
   "outputs": [],
   "source": [
    "submission.to_csv('0614_2.csv',index=False)"
   ]
  },
  {
   "cell_type": "code",
   "execution_count": null,
   "metadata": {
    "collapsed": true
   },
   "outputs": [],
   "source": []
  }
 ],
 "metadata": {
  "kernelspec": {
   "display_name": "Python 3",
   "language": "python",
   "name": "python3"
  },
  "language_info": {
   "codemirror_mode": {
    "name": "ipython",
    "version": 3
   },
   "file_extension": ".py",
   "mimetype": "text/x-python",
   "name": "python",
   "nbconvert_exporter": "python",
   "pygments_lexer": "ipython3",
   "version": "3.6.5"
  }
 },
 "nbformat": 4,
 "nbformat_minor": 2
}
