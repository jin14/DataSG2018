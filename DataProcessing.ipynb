{
 "cells": [
  {
   "cell_type": "code",
   "execution_count": 1,
   "metadata": {
    "collapsed": true,
    "deletable": true,
    "editable": true
   },
   "outputs": [],
   "source": [
    "import pandas as pd\n",
    "import numpy as np\n",
    "import xgboost as xgb\n",
    "from datetime import datetime, timedelta\n",
    "pd.options.display.max_columns = 99"
   ]
  },
  {
   "cell_type": "code",
   "execution_count": 2,
   "metadata": {
    "collapsed": false,
    "deletable": true,
    "editable": true
   },
   "outputs": [],
   "source": [
    "data = pd.read_csv('./data/byweek_lag.csv')\n",
    "volatile = pd.read_csv('./data/volatile.csv')"
   ]
  },
  {
   "cell_type": "code",
   "execution_count": 3,
   "metadata": {
    "collapsed": false,
    "deletable": true,
    "editable": true
   },
   "outputs": [
    {
     "data": {
      "text/html": [
       "<div>\n",
       "<table border=\"1\" class=\"dataframe\">\n",
       "  <thead>\n",
       "    <tr style=\"text-align: right;\">\n",
       "      <th></th>\n",
       "      <th>week</th>\n",
       "      <th>CustomerIdx</th>\n",
       "      <th>IsinIdx</th>\n",
       "      <th>BuySell</th>\n",
       "      <th>CustomerInterest</th>\n",
       "      <th>TickerIdx</th>\n",
       "      <th>ActualMaturityDateKey</th>\n",
       "      <th>IssueDateKey</th>\n",
       "      <th>Seniority</th>\n",
       "      <th>Currency</th>\n",
       "      <th>ActivityGroup</th>\n",
       "      <th>Region_x</th>\n",
       "      <th>Activity</th>\n",
       "      <th>RiskCaptain</th>\n",
       "      <th>Owner</th>\n",
       "      <th>CompositeRating</th>\n",
       "      <th>IndustrySector</th>\n",
       "      <th>IndustrySubgroup</th>\n",
       "      <th>MarketIssue</th>\n",
       "      <th>IssuedAmount</th>\n",
       "      <th>CouponType</th>\n",
       "      <th>Sector</th>\n",
       "      <th>Subsector</th>\n",
       "      <th>Region_y</th>\n",
       "      <th>Country</th>\n",
       "      <th>Price</th>\n",
       "      <th>Yield</th>\n",
       "      <th>ZSpread</th>\n",
       "    </tr>\n",
       "  </thead>\n",
       "  <tbody>\n",
       "    <tr>\n",
       "      <th>0</th>\n",
       "      <td>2015-12-28</td>\n",
       "      <td>10</td>\n",
       "      <td>312</td>\n",
       "      <td>Buy</td>\n",
       "      <td>0.0</td>\n",
       "      <td>3197</td>\n",
       "      <td>20280301</td>\n",
       "      <td>20171213</td>\n",
       "      <td>SEN</td>\n",
       "      <td>USD</td>\n",
       "      <td>FLOW G10</td>\n",
       "      <td>AMERICAS</td>\n",
       "      <td>CDS AND HY</td>\n",
       "      <td>CDS AND HY</td>\n",
       "      <td>US HY YANKEE</td>\n",
       "      <td>BB-</td>\n",
       "      <td>Communications</td>\n",
       "      <td>Cable/Satellite TV</td>\n",
       "      <td>Priv placement</td>\n",
       "      <td>1.000000e+09</td>\n",
       "      <td>FIXED</td>\n",
       "      <td>Corporation</td>\n",
       "      <td>Corp - Consumer Staples</td>\n",
       "      <td>Americas</td>\n",
       "      <td>USA</td>\n",
       "      <td>NaN</td>\n",
       "      <td>NaN</td>\n",
       "      <td>NaN</td>\n",
       "    </tr>\n",
       "    <tr>\n",
       "      <th>1</th>\n",
       "      <td>2015-12-28</td>\n",
       "      <td>10</td>\n",
       "      <td>316</td>\n",
       "      <td>Sell</td>\n",
       "      <td>0.0</td>\n",
       "      <td>3099</td>\n",
       "      <td>20201125</td>\n",
       "      <td>20131125</td>\n",
       "      <td>SEN</td>\n",
       "      <td>CAD</td>\n",
       "      <td>FLOW G10</td>\n",
       "      <td>AMERICAS</td>\n",
       "      <td>CDS AND HY</td>\n",
       "      <td>CDS AND HY</td>\n",
       "      <td>US HY FIN AUTOS</td>\n",
       "      <td>BBB+</td>\n",
       "      <td>Communications</td>\n",
       "      <td>Telephone-Integrated</td>\n",
       "      <td>Global</td>\n",
       "      <td>1.000000e+09</td>\n",
       "      <td>FIXED</td>\n",
       "      <td>Corporation</td>\n",
       "      <td>Corp - Consumer Staples</td>\n",
       "      <td>Americas</td>\n",
       "      <td>USA</td>\n",
       "      <td>NaN</td>\n",
       "      <td>NaN</td>\n",
       "      <td>NaN</td>\n",
       "    </tr>\n",
       "    <tr>\n",
       "      <th>2</th>\n",
       "      <td>2015-12-28</td>\n",
       "      <td>10</td>\n",
       "      <td>2686</td>\n",
       "      <td>Sell</td>\n",
       "      <td>0.0</td>\n",
       "      <td>722</td>\n",
       "      <td>20170619</td>\n",
       "      <td>20070619</td>\n",
       "      <td>SEN</td>\n",
       "      <td>USD</td>\n",
       "      <td>SAS &amp; COVERED BONDS</td>\n",
       "      <td>USD SAS</td>\n",
       "      <td>USD SAS</td>\n",
       "      <td>USD SAS</td>\n",
       "      <td>USD SAS</td>\n",
       "      <td>AAA</td>\n",
       "      <td>Financial</td>\n",
       "      <td>Mortgage Banks</td>\n",
       "      <td>Euro mtn</td>\n",
       "      <td>1.000000e+09</td>\n",
       "      <td>FIXED</td>\n",
       "      <td>Corporation</td>\n",
       "      <td>Corp - Consumer Staples</td>\n",
       "      <td>Americas</td>\n",
       "      <td>USA</td>\n",
       "      <td>106.0530</td>\n",
       "      <td>1.3598</td>\n",
       "      <td>0.4164</td>\n",
       "    </tr>\n",
       "    <tr>\n",
       "      <th>3</th>\n",
       "      <td>2015-12-28</td>\n",
       "      <td>10</td>\n",
       "      <td>4305</td>\n",
       "      <td>Buy</td>\n",
       "      <td>0.0</td>\n",
       "      <td>24</td>\n",
       "      <td>20250728</td>\n",
       "      <td>20150728</td>\n",
       "      <td>SUB</td>\n",
       "      <td>USD</td>\n",
       "      <td>FLOW G10</td>\n",
       "      <td>AMERICAS</td>\n",
       "      <td>HG CASH</td>\n",
       "      <td>HG CASH FIN</td>\n",
       "      <td>YANKEES FIN LT2</td>\n",
       "      <td>BBB</td>\n",
       "      <td>Financial</td>\n",
       "      <td>Commer Banks Non-US</td>\n",
       "      <td>Priv placement</td>\n",
       "      <td>1.500000e+09</td>\n",
       "      <td>FIXED</td>\n",
       "      <td>Corporation</td>\n",
       "      <td>Corp - Consumer Staples</td>\n",
       "      <td>Americas</td>\n",
       "      <td>USA</td>\n",
       "      <td>100.1372</td>\n",
       "      <td>4.7316</td>\n",
       "      <td>2.7202</td>\n",
       "    </tr>\n",
       "    <tr>\n",
       "      <th>4</th>\n",
       "      <td>2015-12-28</td>\n",
       "      <td>10</td>\n",
       "      <td>4306</td>\n",
       "      <td>Sell</td>\n",
       "      <td>0.0</td>\n",
       "      <td>24</td>\n",
       "      <td>20170202</td>\n",
       "      <td>20120202</td>\n",
       "      <td>SEN</td>\n",
       "      <td>USD</td>\n",
       "      <td>FLOW G10</td>\n",
       "      <td>AMERICAS</td>\n",
       "      <td>HG CASH</td>\n",
       "      <td>HG CASH FIN</td>\n",
       "      <td>YANKEES FIN SHORT CASH</td>\n",
       "      <td>A</td>\n",
       "      <td>Financial</td>\n",
       "      <td>Money Center Banks</td>\n",
       "      <td>Priv placement</td>\n",
       "      <td>1.500000e+09</td>\n",
       "      <td>FIXED</td>\n",
       "      <td>Corporation</td>\n",
       "      <td>Corp - Consumer Staples</td>\n",
       "      <td>Americas</td>\n",
       "      <td>USA</td>\n",
       "      <td>102.8962</td>\n",
       "      <td>1.4870</td>\n",
       "      <td>0.6444</td>\n",
       "    </tr>\n",
       "  </tbody>\n",
       "</table>\n",
       "</div>"
      ],
      "text/plain": [
       "         week  CustomerIdx  IsinIdx BuySell  CustomerInterest  TickerIdx  \\\n",
       "0  2015-12-28           10      312     Buy               0.0       3197   \n",
       "1  2015-12-28           10      316    Sell               0.0       3099   \n",
       "2  2015-12-28           10     2686    Sell               0.0        722   \n",
       "3  2015-12-28           10     4305     Buy               0.0         24   \n",
       "4  2015-12-28           10     4306    Sell               0.0         24   \n",
       "\n",
       "   ActualMaturityDateKey  IssueDateKey Seniority Currency  \\\n",
       "0               20280301      20171213       SEN      USD   \n",
       "1               20201125      20131125       SEN      CAD   \n",
       "2               20170619      20070619       SEN      USD   \n",
       "3               20250728      20150728       SUB      USD   \n",
       "4               20170202      20120202       SEN      USD   \n",
       "\n",
       "         ActivityGroup  Region_x    Activity  RiskCaptain  \\\n",
       "0             FLOW G10  AMERICAS  CDS AND HY   CDS AND HY   \n",
       "1             FLOW G10  AMERICAS  CDS AND HY   CDS AND HY   \n",
       "2  SAS & COVERED BONDS   USD SAS     USD SAS      USD SAS   \n",
       "3             FLOW G10  AMERICAS     HG CASH  HG CASH FIN   \n",
       "4             FLOW G10  AMERICAS     HG CASH  HG CASH FIN   \n",
       "\n",
       "                    Owner CompositeRating  IndustrySector  \\\n",
       "0            US HY YANKEE             BB-  Communications   \n",
       "1         US HY FIN AUTOS            BBB+  Communications   \n",
       "2                 USD SAS             AAA       Financial   \n",
       "3         YANKEES FIN LT2             BBB       Financial   \n",
       "4  YANKEES FIN SHORT CASH               A       Financial   \n",
       "\n",
       "       IndustrySubgroup     MarketIssue  IssuedAmount CouponType       Sector  \\\n",
       "0    Cable/Satellite TV  Priv placement  1.000000e+09      FIXED  Corporation   \n",
       "1  Telephone-Integrated          Global  1.000000e+09      FIXED  Corporation   \n",
       "2        Mortgage Banks        Euro mtn  1.000000e+09      FIXED  Corporation   \n",
       "3   Commer Banks Non-US  Priv placement  1.500000e+09      FIXED  Corporation   \n",
       "4    Money Center Banks  Priv placement  1.500000e+09      FIXED  Corporation   \n",
       "\n",
       "                 Subsector  Region_y Country     Price   Yield  ZSpread  \n",
       "0  Corp - Consumer Staples  Americas     USA       NaN     NaN      NaN  \n",
       "1  Corp - Consumer Staples  Americas     USA       NaN     NaN      NaN  \n",
       "2  Corp - Consumer Staples  Americas     USA  106.0530  1.3598   0.4164  \n",
       "3  Corp - Consumer Staples  Americas     USA  100.1372  4.7316   2.7202  \n",
       "4  Corp - Consumer Staples  Americas     USA  102.8962  1.4870   0.6444  "
      ]
     },
     "execution_count": 3,
     "metadata": {},
     "output_type": "execute_result"
    }
   ],
   "source": [
    "data.head()"
   ]
  },
  {
   "cell_type": "code",
   "execution_count": 3,
   "metadata": {
    "collapsed": true,
    "deletable": true,
    "editable": true
   },
   "outputs": [],
   "source": [
    "def convertDatetime(x):\n",
    "    x = str(x)\n",
    "    date = x[:4] + '-' + x[4:6] + '-' + x[6:]\n",
    "    return datetime.strptime(date, '%Y-%m-%d')"
   ]
  },
  {
   "cell_type": "code",
   "execution_count": 4,
   "metadata": {
    "collapsed": true,
    "deletable": true,
    "editable": true
   },
   "outputs": [],
   "source": [
    "combined = data.merge(volatile,how='left',on='IsinIdx')"
   ]
  },
  {
   "cell_type": "code",
   "execution_count": 5,
   "metadata": {
    "collapsed": true,
    "deletable": true,
    "editable": true
   },
   "outputs": [],
   "source": [
    "def getMonths(x):\n",
    "    maturity = str(x['ActualMaturityDateKey'])\n",
    "    issue = str(x['IssueDateKey'])\n",
    "    try:\n",
    "        yeardiff = int(maturity[:4]) - int(issue[:4])\n",
    "        monthdiff = int(maturity[4:6]) - int(issue[4:6])\n",
    "        return yeardiff*12 + monthdiff\n",
    "    except:\n",
    "        return None"
   ]
  },
  {
   "cell_type": "code",
   "execution_count": null,
   "metadata": {
    "collapsed": true,
    "deletable": true,
    "editable": true
   },
   "outputs": [],
   "source": [
    "def getMonths2(x):\n",
    "    "
   ]
  },
  {
   "cell_type": "code",
   "execution_count": 5,
   "metadata": {
    "collapsed": false,
    "deletable": true,
    "editable": true
   },
   "outputs": [],
   "source": [
    "combined['ActualMaturityDateKey'] = combined['ActualMaturityDateKey'].apply(lambda x: convertDatetime(x))"
   ]
  },
  {
   "cell_type": "code",
   "execution_count": 14,
   "metadata": {
    "collapsed": false,
    "deletable": true,
    "editable": true
   },
   "outputs": [
    {
     "data": {
      "text/plain": [
       "str"
      ]
     },
     "execution_count": 14,
     "metadata": {},
     "output_type": "execute_result"
    }
   ],
   "source": []
  },
  {
   "cell_type": "code",
   "execution_count": 6,
   "metadata": {
    "collapsed": false,
    "deletable": true,
    "editable": true
   },
   "outputs": [
    {
     "ename": "TypeError",
     "evalue": "int() argument must be a string, a bytes-like object or a number, not 'Timedelta'",
     "output_type": "error",
     "traceback": [
      "\u001b[0;31m---------------------------------------------------------------------------\u001b[0m",
      "\u001b[0;31mTypeError\u001b[0m                                 Traceback (most recent call last)",
      "\u001b[0;32m<ipython-input-6-76bde19c4bc6>\u001b[0m in \u001b[0;36m<module>\u001b[0;34m()\u001b[0m\n\u001b[1;32m      1\u001b[0m \u001b[0mcombined\u001b[0m\u001b[0;34m[\u001b[0m\u001b[0;34m'daysToMaturity'\u001b[0m\u001b[0;34m]\u001b[0m \u001b[0;34m=\u001b[0m \u001b[0mcombined\u001b[0m\u001b[0;34m[\u001b[0m\u001b[0;34m'ActualMaturityDateKey'\u001b[0m\u001b[0;34m]\u001b[0m \u001b[0;34m-\u001b[0m \u001b[0mcombined\u001b[0m\u001b[0;34m[\u001b[0m\u001b[0;34m'week'\u001b[0m\u001b[0;34m]\u001b[0m\u001b[0;34m.\u001b[0m\u001b[0mapply\u001b[0m\u001b[0;34m(\u001b[0m\u001b[0;32mlambda\u001b[0m \u001b[0mx\u001b[0m\u001b[0;34m:\u001b[0m \u001b[0mdatetime\u001b[0m\u001b[0;34m.\u001b[0m\u001b[0mstrptime\u001b[0m\u001b[0;34m(\u001b[0m\u001b[0mx\u001b[0m\u001b[0;34m,\u001b[0m \u001b[0;34m'%Y-%m-%d'\u001b[0m\u001b[0;34m)\u001b[0m\u001b[0;34m)\u001b[0m\u001b[0;34m\u001b[0m\u001b[0m\n\u001b[0;32m----> 2\u001b[0;31m \u001b[0mcombined\u001b[0m\u001b[0;34m[\u001b[0m\u001b[0;34m'daysToMaturity'\u001b[0m\u001b[0;34m]\u001b[0m \u001b[0;34m=\u001b[0m \u001b[0mcombined\u001b[0m\u001b[0;34m[\u001b[0m\u001b[0;34m'daysToMaturity'\u001b[0m\u001b[0;34m]\u001b[0m\u001b[0;34m.\u001b[0m\u001b[0mapply\u001b[0m\u001b[0;34m(\u001b[0m\u001b[0;32mlambda\u001b[0m \u001b[0mx\u001b[0m\u001b[0;34m:\u001b[0m \u001b[0mint\u001b[0m\u001b[0;34m(\u001b[0m\u001b[0mx\u001b[0m\u001b[0;34m)\u001b[0m\u001b[0;34m)\u001b[0m\u001b[0;34m\u001b[0m\u001b[0m\n\u001b[0m",
      "\u001b[0;32m/Users/jinweitan/anaconda/lib/python3.5/site-packages/pandas/core/series.py\u001b[0m in \u001b[0;36mapply\u001b[0;34m(self, func, convert_dtype, args, **kwds)\u001b[0m\n\u001b[1;32m   2292\u001b[0m             \u001b[0;32melse\u001b[0m\u001b[0;34m:\u001b[0m\u001b[0;34m\u001b[0m\u001b[0m\n\u001b[1;32m   2293\u001b[0m                 \u001b[0mvalues\u001b[0m \u001b[0;34m=\u001b[0m \u001b[0mself\u001b[0m\u001b[0;34m.\u001b[0m\u001b[0masobject\u001b[0m\u001b[0;34m\u001b[0m\u001b[0m\n\u001b[0;32m-> 2294\u001b[0;31m                 \u001b[0mmapped\u001b[0m \u001b[0;34m=\u001b[0m \u001b[0mlib\u001b[0m\u001b[0;34m.\u001b[0m\u001b[0mmap_infer\u001b[0m\u001b[0;34m(\u001b[0m\u001b[0mvalues\u001b[0m\u001b[0;34m,\u001b[0m \u001b[0mf\u001b[0m\u001b[0;34m,\u001b[0m \u001b[0mconvert\u001b[0m\u001b[0;34m=\u001b[0m\u001b[0mconvert_dtype\u001b[0m\u001b[0;34m)\u001b[0m\u001b[0;34m\u001b[0m\u001b[0m\n\u001b[0m\u001b[1;32m   2295\u001b[0m \u001b[0;34m\u001b[0m\u001b[0m\n\u001b[1;32m   2296\u001b[0m         \u001b[0;32mif\u001b[0m \u001b[0mlen\u001b[0m\u001b[0;34m(\u001b[0m\u001b[0mmapped\u001b[0m\u001b[0;34m)\u001b[0m \u001b[0;32mand\u001b[0m \u001b[0misinstance\u001b[0m\u001b[0;34m(\u001b[0m\u001b[0mmapped\u001b[0m\u001b[0;34m[\u001b[0m\u001b[0;36m0\u001b[0m\u001b[0;34m]\u001b[0m\u001b[0;34m,\u001b[0m \u001b[0mSeries\u001b[0m\u001b[0;34m)\u001b[0m\u001b[0;34m:\u001b[0m\u001b[0;34m\u001b[0m\u001b[0m\n",
      "\u001b[0;32mpandas/src/inference.pyx\u001b[0m in \u001b[0;36mpandas.lib.map_infer (pandas/lib.c:66124)\u001b[0;34m()\u001b[0m\n",
      "\u001b[0;32m<ipython-input-6-76bde19c4bc6>\u001b[0m in \u001b[0;36m<lambda>\u001b[0;34m(x)\u001b[0m\n\u001b[1;32m      1\u001b[0m \u001b[0mcombined\u001b[0m\u001b[0;34m[\u001b[0m\u001b[0;34m'daysToMaturity'\u001b[0m\u001b[0;34m]\u001b[0m \u001b[0;34m=\u001b[0m \u001b[0mcombined\u001b[0m\u001b[0;34m[\u001b[0m\u001b[0;34m'ActualMaturityDateKey'\u001b[0m\u001b[0;34m]\u001b[0m \u001b[0;34m-\u001b[0m \u001b[0mcombined\u001b[0m\u001b[0;34m[\u001b[0m\u001b[0;34m'week'\u001b[0m\u001b[0;34m]\u001b[0m\u001b[0;34m.\u001b[0m\u001b[0mapply\u001b[0m\u001b[0;34m(\u001b[0m\u001b[0;32mlambda\u001b[0m \u001b[0mx\u001b[0m\u001b[0;34m:\u001b[0m \u001b[0mdatetime\u001b[0m\u001b[0;34m.\u001b[0m\u001b[0mstrptime\u001b[0m\u001b[0;34m(\u001b[0m\u001b[0mx\u001b[0m\u001b[0;34m,\u001b[0m \u001b[0;34m'%Y-%m-%d'\u001b[0m\u001b[0;34m)\u001b[0m\u001b[0;34m)\u001b[0m\u001b[0;34m\u001b[0m\u001b[0m\n\u001b[0;32m----> 2\u001b[0;31m \u001b[0mcombined\u001b[0m\u001b[0;34m[\u001b[0m\u001b[0;34m'daysToMaturity'\u001b[0m\u001b[0;34m]\u001b[0m \u001b[0;34m=\u001b[0m \u001b[0mcombined\u001b[0m\u001b[0;34m[\u001b[0m\u001b[0;34m'daysToMaturity'\u001b[0m\u001b[0;34m]\u001b[0m\u001b[0;34m.\u001b[0m\u001b[0mapply\u001b[0m\u001b[0;34m(\u001b[0m\u001b[0;32mlambda\u001b[0m \u001b[0mx\u001b[0m\u001b[0;34m:\u001b[0m \u001b[0mint\u001b[0m\u001b[0;34m(\u001b[0m\u001b[0mx\u001b[0m\u001b[0;34m)\u001b[0m\u001b[0;34m)\u001b[0m\u001b[0;34m\u001b[0m\u001b[0m\n\u001b[0m",
      "\u001b[0;31mTypeError\u001b[0m: int() argument must be a string, a bytes-like object or a number, not 'Timedelta'"
     ]
    }
   ],
   "source": [
    "combined['daysToMaturity'] = combined['ActualMaturityDateKey'] - combined['week'].apply(lambda x: datetime.strptime(x, '%Y-%m-%d'))"
   ]
  },
  {
   "cell_type": "code",
   "execution_count": 7,
   "metadata": {
    "collapsed": true
   },
   "outputs": [],
   "source": [
    "combined['daysToMaturity'] = combined['daysToMaturity'].apply(lambda x: int(x.days))"
   ]
  },
  {
   "cell_type": "code",
   "execution_count": 19,
   "metadata": {
    "collapsed": false,
    "deletable": true,
    "editable": true
   },
   "outputs": [
    {
     "data": {
      "text/html": [
       "<div>\n",
       "<table border=\"1\" class=\"dataframe\">\n",
       "  <thead>\n",
       "    <tr style=\"text-align: right;\">\n",
       "      <th></th>\n",
       "      <th>week</th>\n",
       "      <th>CustomerIdx</th>\n",
       "      <th>IsinIdx</th>\n",
       "      <th>BuySell</th>\n",
       "      <th>CustomerInterest</th>\n",
       "      <th>TickerIdx</th>\n",
       "      <th>ActualMaturityDateKey</th>\n",
       "      <th>IssueDateKey</th>\n",
       "      <th>Seniority</th>\n",
       "      <th>Currency</th>\n",
       "      <th>ActivityGroup</th>\n",
       "      <th>Region_x</th>\n",
       "      <th>Activity</th>\n",
       "      <th>RiskCaptain</th>\n",
       "      <th>Owner</th>\n",
       "      <th>CompositeRating</th>\n",
       "      <th>IndustrySector</th>\n",
       "      <th>IndustrySubgroup</th>\n",
       "      <th>MarketIssue</th>\n",
       "      <th>IssuedAmount</th>\n",
       "      <th>CouponType</th>\n",
       "      <th>Sector</th>\n",
       "      <th>Subsector</th>\n",
       "      <th>Region_y</th>\n",
       "      <th>Country</th>\n",
       "      <th>Price</th>\n",
       "      <th>Yield</th>\n",
       "      <th>ZSpread</th>\n",
       "      <th>volrank</th>\n",
       "      <th>monthsToMaturity</th>\n",
       "      <th>daysToMaturity</th>\n",
       "    </tr>\n",
       "  </thead>\n",
       "  <tbody>\n",
       "    <tr>\n",
       "      <th>0</th>\n",
       "      <td>2015-12-28</td>\n",
       "      <td>10</td>\n",
       "      <td>312</td>\n",
       "      <td>Buy</td>\n",
       "      <td>0.0</td>\n",
       "      <td>3197</td>\n",
       "      <td>2028-03-01</td>\n",
       "      <td>20171213</td>\n",
       "      <td>SEN</td>\n",
       "      <td>USD</td>\n",
       "      <td>FLOW G10</td>\n",
       "      <td>AMERICAS</td>\n",
       "      <td>CDS AND HY</td>\n",
       "      <td>CDS AND HY</td>\n",
       "      <td>US HY YANKEE</td>\n",
       "      <td>BB-</td>\n",
       "      <td>Communications</td>\n",
       "      <td>Cable/Satellite TV</td>\n",
       "      <td>Priv placement</td>\n",
       "      <td>1.000000e+09</td>\n",
       "      <td>FIXED</td>\n",
       "      <td>Corporation</td>\n",
       "      <td>Corp - Consumer Staples</td>\n",
       "      <td>Americas</td>\n",
       "      <td>USA</td>\n",
       "      <td>NaN</td>\n",
       "      <td>NaN</td>\n",
       "      <td>NaN</td>\n",
       "      <td>low</td>\n",
       "      <td>4447 days</td>\n",
       "      <td>4447 days</td>\n",
       "    </tr>\n",
       "    <tr>\n",
       "      <th>1</th>\n",
       "      <td>2015-12-28</td>\n",
       "      <td>10</td>\n",
       "      <td>316</td>\n",
       "      <td>Sell</td>\n",
       "      <td>0.0</td>\n",
       "      <td>3099</td>\n",
       "      <td>2020-11-25</td>\n",
       "      <td>20131125</td>\n",
       "      <td>SEN</td>\n",
       "      <td>CAD</td>\n",
       "      <td>FLOW G10</td>\n",
       "      <td>AMERICAS</td>\n",
       "      <td>CDS AND HY</td>\n",
       "      <td>CDS AND HY</td>\n",
       "      <td>US HY FIN AUTOS</td>\n",
       "      <td>BBB+</td>\n",
       "      <td>Communications</td>\n",
       "      <td>Telephone-Integrated</td>\n",
       "      <td>Global</td>\n",
       "      <td>1.000000e+09</td>\n",
       "      <td>FIXED</td>\n",
       "      <td>Corporation</td>\n",
       "      <td>Corp - Consumer Staples</td>\n",
       "      <td>Americas</td>\n",
       "      <td>USA</td>\n",
       "      <td>NaN</td>\n",
       "      <td>NaN</td>\n",
       "      <td>NaN</td>\n",
       "      <td>low</td>\n",
       "      <td>1794 days</td>\n",
       "      <td>1794 days</td>\n",
       "    </tr>\n",
       "    <tr>\n",
       "      <th>2</th>\n",
       "      <td>2015-12-28</td>\n",
       "      <td>10</td>\n",
       "      <td>2686</td>\n",
       "      <td>Sell</td>\n",
       "      <td>0.0</td>\n",
       "      <td>722</td>\n",
       "      <td>2017-06-19</td>\n",
       "      <td>20070619</td>\n",
       "      <td>SEN</td>\n",
       "      <td>USD</td>\n",
       "      <td>SAS &amp; COVERED BONDS</td>\n",
       "      <td>USD SAS</td>\n",
       "      <td>USD SAS</td>\n",
       "      <td>USD SAS</td>\n",
       "      <td>USD SAS</td>\n",
       "      <td>AAA</td>\n",
       "      <td>Financial</td>\n",
       "      <td>Mortgage Banks</td>\n",
       "      <td>Euro mtn</td>\n",
       "      <td>1.000000e+09</td>\n",
       "      <td>FIXED</td>\n",
       "      <td>Corporation</td>\n",
       "      <td>Corp - Consumer Staples</td>\n",
       "      <td>Americas</td>\n",
       "      <td>USA</td>\n",
       "      <td>106.053</td>\n",
       "      <td>1.3598</td>\n",
       "      <td>0.4164</td>\n",
       "      <td>low</td>\n",
       "      <td>539 days</td>\n",
       "      <td>539 days</td>\n",
       "    </tr>\n",
       "  </tbody>\n",
       "</table>\n",
       "</div>"
      ],
      "text/plain": [
       "         week  CustomerIdx  IsinIdx BuySell  CustomerInterest  TickerIdx  \\\n",
       "0  2015-12-28           10      312     Buy               0.0       3197   \n",
       "1  2015-12-28           10      316    Sell               0.0       3099   \n",
       "2  2015-12-28           10     2686    Sell               0.0        722   \n",
       "\n",
       "  ActualMaturityDateKey  IssueDateKey Seniority Currency        ActivityGroup  \\\n",
       "0            2028-03-01      20171213       SEN      USD             FLOW G10   \n",
       "1            2020-11-25      20131125       SEN      CAD             FLOW G10   \n",
       "2            2017-06-19      20070619       SEN      USD  SAS & COVERED BONDS   \n",
       "\n",
       "   Region_x    Activity RiskCaptain            Owner CompositeRating  \\\n",
       "0  AMERICAS  CDS AND HY  CDS AND HY     US HY YANKEE             BB-   \n",
       "1  AMERICAS  CDS AND HY  CDS AND HY  US HY FIN AUTOS            BBB+   \n",
       "2   USD SAS     USD SAS     USD SAS          USD SAS             AAA   \n",
       "\n",
       "   IndustrySector      IndustrySubgroup     MarketIssue  IssuedAmount  \\\n",
       "0  Communications    Cable/Satellite TV  Priv placement  1.000000e+09   \n",
       "1  Communications  Telephone-Integrated          Global  1.000000e+09   \n",
       "2       Financial        Mortgage Banks        Euro mtn  1.000000e+09   \n",
       "\n",
       "  CouponType       Sector                Subsector  Region_y Country    Price  \\\n",
       "0      FIXED  Corporation  Corp - Consumer Staples  Americas     USA      NaN   \n",
       "1      FIXED  Corporation  Corp - Consumer Staples  Americas     USA      NaN   \n",
       "2      FIXED  Corporation  Corp - Consumer Staples  Americas     USA  106.053   \n",
       "\n",
       "    Yield  ZSpread volrank  monthsToMaturity  daysToMaturity  \n",
       "0     NaN      NaN     low         4447 days       4447 days  \n",
       "1     NaN      NaN     low         1794 days       1794 days  \n",
       "2  1.3598   0.4164     low          539 days        539 days  "
      ]
     },
     "execution_count": 19,
     "metadata": {},
     "output_type": "execute_result"
    }
   ],
   "source": [
    "combined.head(3)"
   ]
  },
  {
   "cell_type": "code",
   "execution_count": 8,
   "metadata": {
    "collapsed": true,
    "deletable": true,
    "editable": true
   },
   "outputs": [],
   "source": [
    "columns = ['week','CustomerIdx','IsinIdx','BuySell' ,'daysToMaturity', 'Seniority'\n",
    "           , 'CompositeRating', 'IndustrySector','MarketIssue', 'Sector', \n",
    "           'Country', 'Price', 'Yield', 'ZSpread', 'volrank', 'CustomerInterest']"
   ]
  },
  {
   "cell_type": "code",
   "execution_count": 9,
   "metadata": {
    "collapsed": true,
    "deletable": true,
    "editable": true
   },
   "outputs": [],
   "source": [
    "features = ['BuySell' ,'daysToMaturity', 'Seniority'\n",
    "           , 'CompositeRating', 'IndustrySector','MarketIssue', 'Sector', \n",
    "           'Country', 'Price', 'Yield', 'ZSpread', 'volrank']\n",
    "\n",
    "response = ['CustomerInterest']"
   ]
  },
  {
   "cell_type": "code",
   "execution_count": 10,
   "metadata": {
    "collapsed": true,
    "deletable": true,
    "editable": true
   },
   "outputs": [],
   "source": [
    "df = combined[columns]"
   ]
  },
  {
   "cell_type": "code",
   "execution_count": null,
   "metadata": {
    "collapsed": false,
    "deletable": true,
    "editable": true
   },
   "outputs": [],
   "source": [
    "df['daysToMaturity'] = df['daysToMaturity'].apply(lambda x: int(x.days))"
   ]
  },
  {
   "cell_type": "code",
   "execution_count": 50,
   "metadata": {
    "collapsed": false,
    "deletable": true,
    "editable": true
   },
   "outputs": [
    {
     "data": {
      "text/plain": [
       "numpy.int64"
      ]
     },
     "execution_count": 50,
     "metadata": {},
     "output_type": "execute_result"
    }
   ],
   "source": [
    "type(df['daysToMaturity'][0])"
   ]
  },
  {
   "cell_type": "code",
   "execution_count": 49,
   "metadata": {
    "collapsed": false,
    "deletable": true,
    "editable": true
   },
   "outputs": [
    {
     "data": {
      "text/html": [
       "<div>\n",
       "<table border=\"1\" class=\"dataframe\">\n",
       "  <thead>\n",
       "    <tr style=\"text-align: right;\">\n",
       "      <th></th>\n",
       "      <th>week</th>\n",
       "      <th>CustomerIdx</th>\n",
       "      <th>IsinIdx</th>\n",
       "      <th>BuySell</th>\n",
       "      <th>daysToMaturity</th>\n",
       "      <th>Seniority</th>\n",
       "      <th>CompositeRating</th>\n",
       "      <th>IndustrySector</th>\n",
       "      <th>MarketIssue</th>\n",
       "      <th>Sector</th>\n",
       "      <th>Country</th>\n",
       "      <th>Price</th>\n",
       "      <th>Yield</th>\n",
       "      <th>ZSpread</th>\n",
       "      <th>volrank</th>\n",
       "      <th>CustomerInterest</th>\n",
       "    </tr>\n",
       "  </thead>\n",
       "  <tbody>\n",
       "    <tr>\n",
       "      <th>0</th>\n",
       "      <td>2015-12-28</td>\n",
       "      <td>10</td>\n",
       "      <td>312</td>\n",
       "      <td>Buy</td>\n",
       "      <td>4447</td>\n",
       "      <td>SEN</td>\n",
       "      <td>BB-</td>\n",
       "      <td>Communications</td>\n",
       "      <td>Priv placement</td>\n",
       "      <td>Corporation</td>\n",
       "      <td>USA</td>\n",
       "      <td>NaN</td>\n",
       "      <td>NaN</td>\n",
       "      <td>NaN</td>\n",
       "      <td>low</td>\n",
       "      <td>0.0</td>\n",
       "    </tr>\n",
       "  </tbody>\n",
       "</table>\n",
       "</div>"
      ],
      "text/plain": [
       "         week  CustomerIdx  IsinIdx BuySell  daysToMaturity Seniority  \\\n",
       "0  2015-12-28           10      312     Buy            4447       SEN   \n",
       "\n",
       "  CompositeRating  IndustrySector     MarketIssue       Sector Country  Price  \\\n",
       "0             BB-  Communications  Priv placement  Corporation     USA    NaN   \n",
       "\n",
       "   Yield  ZSpread volrank  CustomerInterest  \n",
       "0    NaN      NaN     low               0.0  "
      ]
     },
     "execution_count": 49,
     "metadata": {},
     "output_type": "execute_result"
    }
   ],
   "source": [
    "df.head(1)"
   ]
  },
  {
   "cell_type": "code",
   "execution_count": 11,
   "metadata": {
    "collapsed": true,
    "deletable": true,
    "editable": true
   },
   "outputs": [],
   "source": [
    "non_numeric_cols = ['BuySell', 'Seniority', 'CompositeRating', 'IndustrySector', 'MarketIssue', \n",
    "                    'Sector', 'Country', 'volrank' ]"
   ]
  },
  {
   "cell_type": "code",
   "execution_count": 12,
   "metadata": {
    "collapsed": true,
    "deletable": true,
    "editable": true
   },
   "outputs": [],
   "source": [
    "from sklearn.base import TransformerMixin\n",
    "class DataFrameImputer(TransformerMixin):\n",
    "    def fit(self, X, y=None):\n",
    "        self.fill = pd.Series([X[c].value_counts().index[0]\n",
    "            if X[c].dtype == np.dtype('O') else X[c].median() for c in X],\n",
    "            index=X.columns)\n",
    "        return self\n",
    "    def transform(self, X, y=None):\n",
    "        return X.fillna(self.fill)"
   ]
  },
  {
   "cell_type": "code",
   "execution_count": 13,
   "metadata": {
    "collapsed": false,
    "deletable": true,
    "editable": true
   },
   "outputs": [],
   "source": [
    "X, y = df[features], df['CustomerInterest']"
   ]
  },
  {
   "cell_type": "code",
   "execution_count": 53,
   "metadata": {
    "collapsed": false,
    "deletable": true,
    "editable": true
   },
   "outputs": [
    {
     "data": {
      "text/plain": [
       "Timedelta('4447 days 00:00:00')"
      ]
     },
     "execution_count": 53,
     "metadata": {},
     "output_type": "execute_result"
    }
   ],
   "source": []
  },
  {
   "cell_type": "code",
   "execution_count": 14,
   "metadata": {
    "collapsed": true,
    "deletable": true,
    "editable": true
   },
   "outputs": [],
   "source": [
    "X = DataFrameImputer().fit_transform(X)"
   ]
  },
  {
   "cell_type": "code",
   "execution_count": 15,
   "metadata": {
    "collapsed": false,
    "deletable": true,
    "editable": true
   },
   "outputs": [],
   "source": [
    "from sklearn.preprocessing import LabelEncoder\n",
    "le = LabelEncoder()\n",
    "for feature in non_numeric_cols:\n",
    "    X[feature] = le.fit_transform(X[feature])\n"
   ]
  },
  {
   "cell_type": "code",
   "execution_count": 32,
   "metadata": {
    "collapsed": true,
    "deletable": true,
    "editable": true
   },
   "outputs": [],
   "source": [
    "X_train, X_test = X[X['week'] < '2017-11-01'][features], X[X['week'] >= '2017-11-01'][features]\n",
    "y_train, y_test = y[y['week'] < '2017-11-01'][response], y[y['week'] >= '2017-11-01'][response]"
   ]
  },
  {
   "cell_type": "code",
   "execution_count": 33,
   "metadata": {
    "collapsed": false,
    "deletable": true,
    "editable": true
   },
   "outputs": [
    {
     "name": "stderr",
     "output_type": "stream",
     "text": [
      "/Users/jinweitan/anaconda/lib/python3.5/site-packages/sklearn/preprocessing/label.py:112: DataConversionWarning: A column-vector y was passed when a 1d array was expected. Please change the shape of y to (n_samples, ), for example using ravel().\n",
      "  y = column_or_1d(y, warn=True)\n",
      "/Users/jinweitan/anaconda/lib/python3.5/site-packages/sklearn/preprocessing/label.py:147: DataConversionWarning: A column-vector y was passed when a 1d array was expected. Please change the shape of y to (n_samples, ), for example using ravel().\n",
      "  y = column_or_1d(y, warn=True)\n"
     ]
    }
   ],
   "source": [
    "gbm = xgb.XGBClassifier(objective=\"binary:logistic\", max_depth=6, n_round=200 ,eval_metric=\"auc\", learning_rate=0.05).fit(X_train.as_matrix(), y_train)"
   ]
  },
  {
   "cell_type": "code",
   "execution_count": 34,
   "metadata": {
    "collapsed": false,
    "deletable": true,
    "editable": true
   },
   "outputs": [
    {
     "name": "stderr",
     "output_type": "stream",
     "text": [
      "/Users/jinweitan/anaconda/lib/python3.5/site-packages/sklearn/cross_validation.py:44: DeprecationWarning: This module was deprecated in version 0.18 in favor of the model_selection module into which all the refactored classes and functions are moved. Also note that the interface of the new CV iterators are different from that of this module. This module will be removed in 0.20.\n",
      "  \"This module will be removed in 0.20.\", DeprecationWarning)\n"
     ]
    },
    {
     "data": {
      "text/plain": [
       "0.81773568295736132"
      ]
     },
     "execution_count": 34,
     "metadata": {},
     "output_type": "execute_result"
    }
   ],
   "source": [
    "ypred = gbm.predict_proba(X_test.as_matrix())\n",
    "from sklearn import cross_validation, metrics\n",
    "metrics.roc_auc_score(y_test['CustomerInterest'],  ypred[:,1])"
   ]
  },
  {
   "cell_type": "code",
   "execution_count": null,
   "metadata": {
    "collapsed": true,
    "deletable": true,
    "editable": true
   },
   "outputs": [],
   "source": []
  },
  {
   "cell_type": "code",
   "execution_count": null,
   "metadata": {
    "collapsed": true,
    "deletable": true,
    "editable": true
   },
   "outputs": [],
   "source": []
  },
  {
   "cell_type": "code",
   "execution_count": null,
   "metadata": {
    "collapsed": true,
    "deletable": true,
    "editable": true
   },
   "outputs": [],
   "source": []
  },
  {
   "cell_type": "code",
   "execution_count": 16,
   "metadata": {
    "collapsed": true,
    "deletable": true,
    "editable": true
   },
   "outputs": [],
   "source": [
    "import numpy as np\n",
    "from scipy import interp\n",
    "import matplotlib.pyplot as plt\n",
    "from itertools import cycle\n",
    "\n",
    "from sklearn.metrics import roc_curve, auc\n",
    "from sklearn.model_selection import StratifiedKFold"
   ]
  },
  {
   "cell_type": "code",
   "execution_count": null,
   "metadata": {
    "collapsed": false,
    "deletable": true,
    "editable": true
   },
   "outputs": [],
   "source": [
    "X, y = X.as_matrix(), np.array(y)"
   ]
  },
  {
   "cell_type": "code",
   "execution_count": null,
   "metadata": {
    "collapsed": false,
    "deletable": true,
    "editable": true
   },
   "outputs": [],
   "source": [
    "cv = StratifiedKFold(n_splits=5)\n",
    "classifier = xgb.XGBClassifier(objective=\"binary:logistic\", \n",
    "                               max_depth=6, n_round=100 ,eval_metric=\"auc\", learning_rate=0.01)\n",
    "\n",
    "tprs = []\n",
    "aucs = []\n",
    "mean_fpr = np.linspace(0, 1, 100)\n",
    "\n",
    "i = 0\n",
    "for train, test in cv.split(X, y):\n",
    "    probas_ = classifier.fit(X[train], y[train]).predict_proba(X[test])\n",
    "    # Compute ROC curve and area the curve\n",
    "    fpr, tpr, thresholds = roc_curve(y[test], probas_[:, 1])\n",
    "    tprs.append(interp(mean_fpr, fpr, tpr))\n",
    "    tprs[-1][0] = 0.0\n",
    "    roc_auc = auc(fpr, tpr)\n",
    "    aucs.append(roc_auc)\n",
    "    plt.plot(fpr, tpr, lw=1, alpha=0.3,\n",
    "             label='ROC fold %d (AUC = %0.2f)' % (i, roc_auc))\n",
    "\n",
    "    i += 1\n",
    "plt.plot([0, 1], [0, 1], linestyle='--', lw=2, color='r',\n",
    "         label='Luck', alpha=.8)\n",
    "\n",
    "mean_tpr = np.mean(tprs, axis=0)\n",
    "mean_tpr[-1] = 1.0\n",
    "mean_auc = auc(mean_fpr, mean_tpr)\n",
    "std_auc = np.std(aucs)\n",
    "plt.plot(mean_fpr, mean_tpr, color='b',\n",
    "         label=r'Mean ROC (AUC = %0.2f $\\pm$ %0.2f)' % (mean_auc, std_auc),\n",
    "         lw=2, alpha=.8)\n",
    "\n",
    "std_tpr = np.std(tprs, axis=0)\n",
    "tprs_upper = np.minimum(mean_tpr + std_tpr, 1)\n",
    "tprs_lower = np.maximum(mean_tpr - std_tpr, 0)\n",
    "plt.fill_between(mean_fpr, tprs_lower, tprs_upper, color='grey', alpha=.2,\n",
    "                 label=r'$\\pm$ 1 std. dev.')\n",
    "\n",
    "plt.xlim([-0.05, 1.05])\n",
    "plt.ylim([-0.05, 1.05])\n",
    "plt.xlabel('False Positive Rate')\n",
    "plt.ylabel('True Positive Rate')\n",
    "plt.title('Receiver operating characteristic example')\n",
    "plt.legend(loc=\"lower right\")\n",
    "plt.show()"
   ]
  },
  {
   "cell_type": "code",
   "execution_count": 122,
   "metadata": {
    "collapsed": true,
    "deletable": true,
    "editable": true
   },
   "outputs": [],
   "source": [
    "from sklearn.model_selection import train_test_split\n",
    "X_train, X_test, y_train, y_test = train_test_split(X_imputed, y, test_size=0.33, random_state=42)"
   ]
  },
  {
   "cell_type": "code",
   "execution_count": 86,
   "metadata": {
    "collapsed": true,
    "deletable": true,
    "editable": true
   },
   "outputs": [],
   "source": [
    "y_train, y_test = np.array(y_train), np.array(y_test)"
   ]
  },
  {
   "cell_type": "code",
   "execution_count": 87,
   "metadata": {
    "collapsed": true,
    "deletable": true,
    "editable": true
   },
   "outputs": [],
   "source": [
    "gbm = xgb.XGBClassifier(objective=\"binary:logistic\", max_depth=6, n_round=200 ,eval_metric=\"auc\", learning_rate=0.05).fit(X_train.as_matrix(), y_train)"
   ]
  },
  {
   "cell_type": "code",
   "execution_count": 114,
   "metadata": {
    "collapsed": true,
    "deletable": true,
    "editable": true
   },
   "outputs": [],
   "source": [
    "# Gridsearch CV\n",
    "from sklearn import cross_validation, metrics   #Additional scklearn functions\n",
    "from sklearn.grid_search import GridSearchCV \n",
    "\n",
    "def modelfit(alg, dtrain, predictors, useTrainCV=True, cv_folds=5, early_stopping_rounds=50):\n",
    "    \n",
    "    if useTrainCV:\n",
    "        xgb_param = alg.get_xgb_params()\n",
    "        xgtrain = xgb.DMatrix(dtrain[predictors].values, label=dtrain['CustomerInterest'].values)\n",
    "        cvresult = xgb.cv(xgb_param, xgtrain, num_boost_round=alg.get_params()['n_estimators'], nfold=cv_folds,\n",
    "            metrics='auc', early_stopping_rounds=early_stopping_rounds, verbose_eval=True)\n",
    "        alg.set_params(n_estimators=cvresult.shape[0])\n",
    "    \n",
    "    #Fit the algorithm on the data\n",
    "    alg.fit(dtrain[predictors], dtrain['CustomerInterest'],eval_metric='auc')\n",
    "        \n",
    "    #Predict training set:\n",
    "    dtrain_predictions = alg.predict(dtrain[predictors])\n",
    "    dtrain_predprob = alg.predict_proba(dtrain[predictors])[:,1]\n",
    "        \n",
    "    #Print model report:\n",
    "    print \"\\nModel Report\"\n",
    "    print \"Accuracy : %.4g\" % metrics.accuracy_score(dtrain['CustomerInterest'].values, dtrain_predictions)\n",
    "    print \"AUC Score (Train): %f\" % metrics.roc_auc_score(dtrain['CustomerInterest'], dtrain_predprob)\n",
    "                    \n",
    "    feat_imp = pd.Series(alg.booster().get_fscore()).sort_values(ascending=False)\n",
    "    feat_imp.plot(kind='bar', title='Feature Importances')\n",
    "    plt.ylabel('Feature Importance Score')"
   ]
  },
  {
   "cell_type": "code",
   "execution_count": 105,
   "metadata": {
    "collapsed": true,
    "deletable": true,
    "editable": true
   },
   "outputs": [],
   "source": [
    "features_noidx = ['BuySell', 'monthsToMaturity', 'Seniority'\n",
    "           , 'CompositeRating', 'IndustrySector','IssuedAmount', 'CouponType','volrank']"
   ]
  },
  {
   "cell_type": "code",
   "execution_count": 141,
   "metadata": {
    "collapsed": true,
    "deletable": true,
    "editable": true
   },
   "outputs": [],
   "source": [
    "model =  xgb.XGBClassifier(\n",
    " learning_rate =0.05,\n",
    " n_estimators=500,\n",
    " max_depth=6,\n",
    " min_child_weight=1,\n",
    " gamma=0,\n",
    " subsample=0.8,\n",
    " colsample_bytree=0.8,\n",
    " objective= 'binary:logistic',\n",
    ")\n"
   ]
  },
  {
   "cell_type": "code",
   "execution_count": 131,
   "metadata": {
    "collapsed": true,
    "deletable": true,
    "editable": true
   },
   "outputs": [],
   "source": [
    "dtrain =  pd.concat([X_train, y_train], axis=1, join_axes=[X_train.index])"
   ]
  },
  {
   "cell_type": "code",
   "execution_count": 132,
   "metadata": {
    "collapsed": false,
    "deletable": true,
    "editable": true
   },
   "outputs": [
    {
     "data": {
      "text/html": [
       "<div>\n",
       "<style>\n",
       "    .dataframe thead tr:only-child th {\n",
       "        text-align: right;\n",
       "    }\n",
       "\n",
       "    .dataframe thead th {\n",
       "        text-align: left;\n",
       "    }\n",
       "\n",
       "    .dataframe tbody tr th {\n",
       "        vertical-align: top;\n",
       "    }\n",
       "</style>\n",
       "<table border=\"1\" class=\"dataframe\">\n",
       "  <thead>\n",
       "    <tr style=\"text-align: right;\">\n",
       "      <th></th>\n",
       "      <th>CustomerIdx</th>\n",
       "      <th>IsinIdxleft</th>\n",
       "      <th>BuySell</th>\n",
       "      <th>monthsToMaturity</th>\n",
       "      <th>Seniority</th>\n",
       "      <th>CompositeRating</th>\n",
       "      <th>IndustrySector</th>\n",
       "      <th>IssuedAmount</th>\n",
       "      <th>CouponType</th>\n",
       "      <th>volrank</th>\n",
       "      <th>CustomerInterest</th>\n",
       "    </tr>\n",
       "  </thead>\n",
       "  <tbody>\n",
       "    <tr>\n",
       "      <th>3703815</th>\n",
       "      <td>1929</td>\n",
       "      <td>26561</td>\n",
       "      <td>1</td>\n",
       "      <td>96.0</td>\n",
       "      <td>5</td>\n",
       "      <td>28</td>\n",
       "      <td>7</td>\n",
       "      <td>750000000.0</td>\n",
       "      <td>0</td>\n",
       "      <td>0</td>\n",
       "      <td>0.0</td>\n",
       "    </tr>\n",
       "    <tr>\n",
       "      <th>3108448</th>\n",
       "      <td>1280</td>\n",
       "      <td>22737</td>\n",
       "      <td>0</td>\n",
       "      <td>96.0</td>\n",
       "      <td>5</td>\n",
       "      <td>28</td>\n",
       "      <td>7</td>\n",
       "      <td>750000000.0</td>\n",
       "      <td>0</td>\n",
       "      <td>0</td>\n",
       "      <td>0.0</td>\n",
       "    </tr>\n",
       "    <tr>\n",
       "      <th>246443</th>\n",
       "      <td>1486</td>\n",
       "      <td>20917</td>\n",
       "      <td>0</td>\n",
       "      <td>96.0</td>\n",
       "      <td>5</td>\n",
       "      <td>28</td>\n",
       "      <td>7</td>\n",
       "      <td>750000000.0</td>\n",
       "      <td>0</td>\n",
       "      <td>0</td>\n",
       "      <td>1.0</td>\n",
       "    </tr>\n",
       "    <tr>\n",
       "      <th>2641536</th>\n",
       "      <td>689</td>\n",
       "      <td>22532</td>\n",
       "      <td>0</td>\n",
       "      <td>96.0</td>\n",
       "      <td>5</td>\n",
       "      <td>28</td>\n",
       "      <td>7</td>\n",
       "      <td>750000000.0</td>\n",
       "      <td>0</td>\n",
       "      <td>0</td>\n",
       "      <td>0.0</td>\n",
       "    </tr>\n",
       "    <tr>\n",
       "      <th>3790759</th>\n",
       "      <td>1967</td>\n",
       "      <td>25124</td>\n",
       "      <td>1</td>\n",
       "      <td>96.0</td>\n",
       "      <td>5</td>\n",
       "      <td>28</td>\n",
       "      <td>7</td>\n",
       "      <td>750000000.0</td>\n",
       "      <td>0</td>\n",
       "      <td>0</td>\n",
       "      <td>0.0</td>\n",
       "    </tr>\n",
       "  </tbody>\n",
       "</table>\n",
       "</div>"
      ],
      "text/plain": [
       "         CustomerIdx  IsinIdxleft  BuySell  monthsToMaturity  Seniority  \\\n",
       "3703815         1929        26561        1              96.0          5   \n",
       "3108448         1280        22737        0              96.0          5   \n",
       "246443          1486        20917        0              96.0          5   \n",
       "2641536          689        22532        0              96.0          5   \n",
       "3790759         1967        25124        1              96.0          5   \n",
       "\n",
       "         CompositeRating  IndustrySector  IssuedAmount  CouponType  volrank  \\\n",
       "3703815               28               7   750000000.0           0        0   \n",
       "3108448               28               7   750000000.0           0        0   \n",
       "246443                28               7   750000000.0           0        0   \n",
       "2641536               28               7   750000000.0           0        0   \n",
       "3790759               28               7   750000000.0           0        0   \n",
       "\n",
       "         CustomerInterest  \n",
       "3703815               0.0  \n",
       "3108448               0.0  \n",
       "246443                1.0  \n",
       "2641536               0.0  \n",
       "3790759               0.0  "
      ]
     },
     "execution_count": 132,
     "metadata": {},
     "output_type": "execute_result"
    }
   ],
   "source": [
    "dtrain.head()"
   ]
  },
  {
   "cell_type": "code",
   "execution_count": 142,
   "metadata": {
    "collapsed": false,
    "deletable": true,
    "editable": true
   },
   "outputs": [
    {
     "name": "stdout",
     "output_type": "stream",
     "text": [
      "[0]\ttrain-auc:0.510996+7.09789e-05\ttest-auc:0.510995+0.000282714\n",
      "[1]\ttrain-auc:0.511006+7.02868e-05\ttest-auc:0.511005+0.000285292\n",
      "[2]\ttrain-auc:0.511006+7.04142e-05\ttest-auc:0.511006+0.00028474\n",
      "[3]\ttrain-auc:0.511007+7.05634e-05\ttest-auc:0.511007+0.000284736\n",
      "[4]\ttrain-auc:0.511007+7.09073e-05\ttest-auc:0.511008+0.000284203\n",
      "[5]\ttrain-auc:0.511007+7.09073e-05\ttest-auc:0.511008+0.000284203\n",
      "[6]\ttrain-auc:0.511007+7.09073e-05\ttest-auc:0.511008+0.000284203\n",
      "[7]\ttrain-auc:0.511007+7.09073e-05\ttest-auc:0.511008+0.000284203\n",
      "[8]\ttrain-auc:0.511007+7.09073e-05\ttest-auc:0.511008+0.000284203\n",
      "[9]\ttrain-auc:0.511007+7.09073e-05\ttest-auc:0.511008+0.000284203\n",
      "[10]\ttrain-auc:0.511007+7.09073e-05\ttest-auc:0.511008+0.000284203\n",
      "[11]\ttrain-auc:0.511007+7.09073e-05\ttest-auc:0.511008+0.000284203\n",
      "[12]\ttrain-auc:0.511007+7.09073e-05\ttest-auc:0.511008+0.000284203\n",
      "[13]\ttrain-auc:0.511007+7.09073e-05\ttest-auc:0.511008+0.000284203\n",
      "[14]\ttrain-auc:0.511007+7.09073e-05\ttest-auc:0.511008+0.000284203\n",
      "[15]\ttrain-auc:0.511007+7.09073e-05\ttest-auc:0.511008+0.000284203\n",
      "[16]\ttrain-auc:0.511007+7.09073e-05\ttest-auc:0.511008+0.000284203\n",
      "[17]\ttrain-auc:0.511007+7.09073e-05\ttest-auc:0.511008+0.000284203\n",
      "[18]\ttrain-auc:0.511007+7.09073e-05\ttest-auc:0.511008+0.000284203\n",
      "[19]\ttrain-auc:0.511007+7.09073e-05\ttest-auc:0.511008+0.000284203\n",
      "[20]\ttrain-auc:0.511007+7.09073e-05\ttest-auc:0.511008+0.000284203\n",
      "[21]\ttrain-auc:0.511007+7.09073e-05\ttest-auc:0.511008+0.000284203\n",
      "[22]\ttrain-auc:0.511007+7.09073e-05\ttest-auc:0.511008+0.000284203\n",
      "[23]\ttrain-auc:0.511007+7.09073e-05\ttest-auc:0.511008+0.000284203\n",
      "[24]\ttrain-auc:0.511007+7.09073e-05\ttest-auc:0.511008+0.000284203\n",
      "[25]\ttrain-auc:0.511007+7.09073e-05\ttest-auc:0.511008+0.000284203\n",
      "[26]\ttrain-auc:0.511007+7.09073e-05\ttest-auc:0.511008+0.000284203\n",
      "[27]\ttrain-auc:0.511007+7.09073e-05\ttest-auc:0.511008+0.000284203\n",
      "[28]\ttrain-auc:0.511007+7.09073e-05\ttest-auc:0.511008+0.000284203\n",
      "[29]\ttrain-auc:0.511007+7.09073e-05\ttest-auc:0.511008+0.000284203\n",
      "[30]\ttrain-auc:0.511007+7.09073e-05\ttest-auc:0.511008+0.000284203\n",
      "[31]\ttrain-auc:0.511007+7.09073e-05\ttest-auc:0.511008+0.000284203\n",
      "[32]\ttrain-auc:0.511007+7.09073e-05\ttest-auc:0.511008+0.000284203\n",
      "[33]\ttrain-auc:0.511007+7.09073e-05\ttest-auc:0.511008+0.000284203\n",
      "[34]\ttrain-auc:0.511007+7.09073e-05\ttest-auc:0.511008+0.000284203\n",
      "[35]\ttrain-auc:0.511007+7.09073e-05\ttest-auc:0.511008+0.000284203\n",
      "[36]\ttrain-auc:0.511007+7.09073e-05\ttest-auc:0.511008+0.000284203\n",
      "[37]\ttrain-auc:0.511007+7.09073e-05\ttest-auc:0.511008+0.000284203\n",
      "[38]\ttrain-auc:0.511007+7.09073e-05\ttest-auc:0.511008+0.000284203\n",
      "[39]\ttrain-auc:0.511007+7.09073e-05\ttest-auc:0.511008+0.000284203\n",
      "[40]\ttrain-auc:0.511007+7.09073e-05\ttest-auc:0.511008+0.000284203\n",
      "[41]\ttrain-auc:0.511007+7.09073e-05\ttest-auc:0.511008+0.000284203\n",
      "[42]\ttrain-auc:0.511007+7.09073e-05\ttest-auc:0.511008+0.000284203\n",
      "[43]\ttrain-auc:0.511007+7.09073e-05\ttest-auc:0.511008+0.000284203\n",
      "[44]\ttrain-auc:0.511007+7.09073e-05\ttest-auc:0.511008+0.000284203\n",
      "[45]\ttrain-auc:0.511007+7.09073e-05\ttest-auc:0.511008+0.000284203\n",
      "[46]\ttrain-auc:0.511007+7.09073e-05\ttest-auc:0.511008+0.000284203\n",
      "[47]\ttrain-auc:0.511007+7.09073e-05\ttest-auc:0.511008+0.000284203\n",
      "[48]\ttrain-auc:0.511007+7.09073e-05\ttest-auc:0.511008+0.000284203\n",
      "[49]\ttrain-auc:0.511007+7.09073e-05\ttest-auc:0.511008+0.000284203\n",
      "[50]\ttrain-auc:0.511007+7.09073e-05\ttest-auc:0.511008+0.000284203\n",
      "[51]\ttrain-auc:0.511007+7.09073e-05\ttest-auc:0.511008+0.000284203\n",
      "[52]\ttrain-auc:0.511007+7.09073e-05\ttest-auc:0.511008+0.000284203\n",
      "[53]\ttrain-auc:0.511007+7.09073e-05\ttest-auc:0.511008+0.000284203\n",
      "\n",
      "Model Report\n",
      "Accuracy : 0.6769\n",
      "AUC Score (Train): 0.511008\n"
     ]
    },
    {
     "ename": "TypeError",
     "evalue": "'str' object is not callable",
     "output_type": "error",
     "traceback": [
      "\u001b[0;31m---------------------------------------------------------------------------\u001b[0m",
      "\u001b[0;31mTypeError\u001b[0m                                 Traceback (most recent call last)",
      "\u001b[0;32m<ipython-input-142-0c6252eae718>\u001b[0m in \u001b[0;36m<module>\u001b[0;34m()\u001b[0m\n\u001b[0;32m----> 1\u001b[0;31m \u001b[0mmodelfit\u001b[0m\u001b[0;34m(\u001b[0m\u001b[0mmodel\u001b[0m\u001b[0;34m,\u001b[0m \u001b[0mdtrain\u001b[0m\u001b[0;34m,\u001b[0m \u001b[0mfeatures_noidx\u001b[0m\u001b[0;34m)\u001b[0m\u001b[0;34m\u001b[0m\u001b[0m\n\u001b[0m",
      "\u001b[0;32m<ipython-input-114-207cbb7dcf2e>\u001b[0m in \u001b[0;36mmodelfit\u001b[0;34m(alg, dtrain, predictors, useTrainCV, cv_folds, early_stopping_rounds)\u001b[0m\n\u001b[1;32m     24\u001b[0m     \u001b[0;32mprint\u001b[0m \u001b[0;34m\"AUC Score (Train): %f\"\u001b[0m \u001b[0;34m%\u001b[0m \u001b[0mmetrics\u001b[0m\u001b[0;34m.\u001b[0m\u001b[0mroc_auc_score\u001b[0m\u001b[0;34m(\u001b[0m\u001b[0mdtrain\u001b[0m\u001b[0;34m[\u001b[0m\u001b[0;34m'CustomerInterest'\u001b[0m\u001b[0;34m]\u001b[0m\u001b[0;34m,\u001b[0m \u001b[0mdtrain_predprob\u001b[0m\u001b[0;34m)\u001b[0m\u001b[0;34m\u001b[0m\u001b[0m\n\u001b[1;32m     25\u001b[0m \u001b[0;34m\u001b[0m\u001b[0m\n\u001b[0;32m---> 26\u001b[0;31m     \u001b[0mfeat_imp\u001b[0m \u001b[0;34m=\u001b[0m \u001b[0mpd\u001b[0m\u001b[0;34m.\u001b[0m\u001b[0mSeries\u001b[0m\u001b[0;34m(\u001b[0m\u001b[0malg\u001b[0m\u001b[0;34m.\u001b[0m\u001b[0mbooster\u001b[0m\u001b[0;34m(\u001b[0m\u001b[0;34m)\u001b[0m\u001b[0;34m.\u001b[0m\u001b[0mget_fscore\u001b[0m\u001b[0;34m(\u001b[0m\u001b[0;34m)\u001b[0m\u001b[0;34m)\u001b[0m\u001b[0;34m.\u001b[0m\u001b[0msort_values\u001b[0m\u001b[0;34m(\u001b[0m\u001b[0mascending\u001b[0m\u001b[0;34m=\u001b[0m\u001b[0mFalse\u001b[0m\u001b[0;34m)\u001b[0m\u001b[0;34m\u001b[0m\u001b[0m\n\u001b[0m\u001b[1;32m     27\u001b[0m     \u001b[0mfeat_imp\u001b[0m\u001b[0;34m.\u001b[0m\u001b[0mplot\u001b[0m\u001b[0;34m(\u001b[0m\u001b[0mkind\u001b[0m\u001b[0;34m=\u001b[0m\u001b[0;34m'bar'\u001b[0m\u001b[0;34m,\u001b[0m \u001b[0mtitle\u001b[0m\u001b[0;34m=\u001b[0m\u001b[0;34m'Feature Importances'\u001b[0m\u001b[0;34m)\u001b[0m\u001b[0;34m\u001b[0m\u001b[0m\n\u001b[1;32m     28\u001b[0m     \u001b[0mplt\u001b[0m\u001b[0;34m.\u001b[0m\u001b[0mylabel\u001b[0m\u001b[0;34m(\u001b[0m\u001b[0;34m'Feature Importance Score'\u001b[0m\u001b[0;34m)\u001b[0m\u001b[0;34m\u001b[0m\u001b[0m\n",
      "\u001b[0;31mTypeError\u001b[0m: 'str' object is not callable"
     ]
    }
   ],
   "source": [
    "modelfit(model, dtrain, features_noidx)"
   ]
  },
  {
   "cell_type": "code",
   "execution_count": 145,
   "metadata": {
    "collapsed": false,
    "deletable": true,
    "editable": true
   },
   "outputs": [
    {
     "data": {
      "text/plain": [
       "array([ 0.4595885 ,  0.4595885 ,  0.46115202, ...,  0.46115202,\n",
       "        0.4595885 ,  0.46115202], dtype=float32)"
      ]
     },
     "execution_count": 145,
     "metadata": {},
     "output_type": "execute_result"
    }
   ],
   "source": []
  },
  {
   "cell_type": "code",
   "execution_count": 146,
   "metadata": {
    "collapsed": false,
    "deletable": true,
    "editable": true
   },
   "outputs": [
    {
     "data": {
      "text/plain": [
       "0.51039018125382885"
      ]
     },
     "execution_count": 146,
     "metadata": {},
     "output_type": "execute_result"
    }
   ],
   "source": [
    "metrics.roc_auc_score(y_test['CustomerInterest'],  model.predict_proba(X_test[features_noidx])[:,1])"
   ]
  },
  {
   "cell_type": "code",
   "execution_count": 88,
   "metadata": {
    "collapsed": true,
    "deletable": true,
    "editable": true
   },
   "outputs": [],
   "source": [
    "ypred = gbm.predict_proba(X_test.as_matrix())"
   ]
  },
  {
   "cell_type": "code",
   "execution_count": 89,
   "metadata": {
    "collapsed": false,
    "deletable": true,
    "editable": true
   },
   "outputs": [
    {
     "data": {
      "text/plain": [
       "array([[ 0.66675603,  0.33324394],\n",
       "       [ 0.71622753,  0.28377244],\n",
       "       [ 0.57226062,  0.42773935],\n",
       "       ..., \n",
       "       [ 0.83804631,  0.16195369],\n",
       "       [ 0.67152441,  0.32847562],\n",
       "       [ 0.43141991,  0.56858009]], dtype=float32)"
      ]
     },
     "execution_count": 89,
     "metadata": {},
     "output_type": "execute_result"
    }
   ],
   "source": [
    "ypred"
   ]
  },
  {
   "cell_type": "code",
   "execution_count": 39,
   "metadata": {
    "collapsed": true,
    "deletable": true,
    "editable": true
   },
   "outputs": [],
   "source": [
    "y_test2 = [np.insert(i,0,1-i[0],axis=0) for i in y_test]"
   ]
  },
  {
   "cell_type": "code",
   "execution_count": 90,
   "metadata": {
    "collapsed": false,
    "deletable": true,
    "editable": true
   },
   "outputs": [
    {
     "data": {
      "text/plain": [
       "array([[ 1.],\n",
       "       [ 0.],\n",
       "       [ 1.],\n",
       "       ..., \n",
       "       [ 0.],\n",
       "       [ 0.],\n",
       "       [ 0.]])"
      ]
     },
     "execution_count": 90,
     "metadata": {},
     "output_type": "execute_result"
    }
   ],
   "source": [
    "y_test"
   ]
  },
  {
   "cell_type": "code",
   "execution_count": 96,
   "metadata": {
    "collapsed": true,
    "deletable": true,
    "editable": true
   },
   "outputs": [],
   "source": [
    "y_test = np.array(y_test[['other','CustomerInterest']])"
   ]
  },
  {
   "cell_type": "code",
   "execution_count": 91,
   "metadata": {
    "collapsed": false,
    "deletable": true,
    "editable": true
   },
   "outputs": [
    {
     "data": {
      "text/plain": [
       "array([ 0.33324394,  0.28377244,  0.42773935, ...,  0.16195369,\n",
       "        0.32847562,  0.56858009], dtype=float32)"
      ]
     },
     "execution_count": 91,
     "metadata": {},
     "output_type": "execute_result"
    }
   ],
   "source": [
    "ypred[:,1]"
   ]
  },
  {
   "cell_type": "code",
   "execution_count": 51,
   "metadata": {
    "collapsed": true,
    "deletable": true,
    "editable": true
   },
   "outputs": [],
   "source": [
    "y_test = y_test.flatten()"
   ]
  },
  {
   "cell_type": "code",
   "execution_count": 52,
   "metadata": {
    "collapsed": false,
    "deletable": true,
    "editable": true
   },
   "outputs": [
    {
     "data": {
      "text/plain": [
       "array([ 1.,  0.,  1., ...,  0.,  0.,  0.])"
      ]
     },
     "execution_count": 52,
     "metadata": {},
     "output_type": "execute_result"
    }
   ],
   "source": [
    "y_test"
   ]
  },
  {
   "cell_type": "code",
   "execution_count": 53,
   "metadata": {
    "collapsed": true,
    "deletable": true,
    "editable": true
   },
   "outputs": [],
   "source": [
    "from sklearn import metrics\n",
    "fpr, tpr, thresholds = metrics.roc_curve(y_test, ypred[:,1], pos_label=2)\n"
   ]
  },
  {
   "cell_type": "code",
   "execution_count": 54,
   "metadata": {
    "collapsed": false,
    "deletable": true,
    "editable": true
   },
   "outputs": [
    {
     "data": {
      "text/plain": [
       "(array([ 0.        ,  0.21887574,  0.32698176,  1.        ]),\n",
       " array([ nan,  nan,  nan,  nan]),\n",
       " array([ 1.9966886 ,  0.99668854,  0.99668759,  0.00331077], dtype=float32))"
      ]
     },
     "execution_count": 54,
     "metadata": {},
     "output_type": "execute_result"
    }
   ],
   "source": [
    "fpr, tpr, thresholds"
   ]
  },
  {
   "cell_type": "code",
   "execution_count": 37,
   "metadata": {
    "collapsed": false,
    "deletable": true,
    "editable": true
   },
   "outputs": [
    {
     "ename": "IndexError",
     "evalue": "index 1 is out of bounds for axis 1 with size 1",
     "output_type": "error",
     "traceback": [
      "\u001b[0;31m---------------------------------------------------------------------------\u001b[0m",
      "\u001b[0;31mIndexError\u001b[0m                                Traceback (most recent call last)",
      "\u001b[0;32m<ipython-input-37-248a2405d38d>\u001b[0m in \u001b[0;36m<module>\u001b[0;34m()\u001b[0m\n\u001b[1;32m      5\u001b[0m \u001b[0mroc_auc\u001b[0m \u001b[0;34m=\u001b[0m \u001b[0mdict\u001b[0m\u001b[0;34m(\u001b[0m\u001b[0;34m)\u001b[0m\u001b[0;34m\u001b[0m\u001b[0m\n\u001b[1;32m      6\u001b[0m \u001b[0;32mfor\u001b[0m \u001b[0mi\u001b[0m \u001b[0;32min\u001b[0m \u001b[0mrange\u001b[0m\u001b[0;34m(\u001b[0m\u001b[0;36m2\u001b[0m\u001b[0;34m)\u001b[0m\u001b[0;34m:\u001b[0m\u001b[0;34m\u001b[0m\u001b[0m\n\u001b[0;32m----> 7\u001b[0;31m     \u001b[0mfpr\u001b[0m\u001b[0;34m[\u001b[0m\u001b[0mi\u001b[0m\u001b[0;34m]\u001b[0m\u001b[0;34m,\u001b[0m \u001b[0mtpr\u001b[0m\u001b[0;34m[\u001b[0m\u001b[0mi\u001b[0m\u001b[0;34m]\u001b[0m\u001b[0;34m,\u001b[0m \u001b[0m_\u001b[0m \u001b[0;34m=\u001b[0m \u001b[0mroc_curve\u001b[0m\u001b[0;34m(\u001b[0m\u001b[0my_test\u001b[0m\u001b[0;34m[\u001b[0m\u001b[0;34m:\u001b[0m\u001b[0;34m,\u001b[0m \u001b[0mi\u001b[0m\u001b[0;34m]\u001b[0m\u001b[0;34m,\u001b[0m \u001b[0mypred\u001b[0m\u001b[0;34m[\u001b[0m\u001b[0;34m:\u001b[0m\u001b[0;34m,\u001b[0m \u001b[0mi\u001b[0m\u001b[0;34m]\u001b[0m\u001b[0;34m)\u001b[0m\u001b[0;34m\u001b[0m\u001b[0m\n\u001b[0m\u001b[1;32m      8\u001b[0m     \u001b[0mroc_auc\u001b[0m\u001b[0;34m[\u001b[0m\u001b[0mi\u001b[0m\u001b[0;34m]\u001b[0m \u001b[0;34m=\u001b[0m \u001b[0mauc\u001b[0m\u001b[0;34m(\u001b[0m\u001b[0mfpr\u001b[0m\u001b[0;34m[\u001b[0m\u001b[0mi\u001b[0m\u001b[0;34m]\u001b[0m\u001b[0;34m,\u001b[0m \u001b[0mtpr\u001b[0m\u001b[0;34m[\u001b[0m\u001b[0mi\u001b[0m\u001b[0;34m]\u001b[0m\u001b[0;34m)\u001b[0m\u001b[0;34m\u001b[0m\u001b[0m\n",
      "\u001b[0;31mIndexError\u001b[0m: index 1 is out of bounds for axis 1 with size 1"
     ]
    }
   ],
   "source": [
    "from sklearn.metrics import roc_curve, auc\n",
    "\n",
    "fpr = dict()\n",
    "tpr = dict()\n",
    "roc_auc = dict()\n",
    "for i in range(2):\n",
    "    fpr[i], tpr[i], _ = roc_curve(y_test[:, i], ypred[:, i])\n",
    "    roc_auc[i] = auc(fpr[i], tpr[i])\n"
   ]
  },
  {
   "cell_type": "code",
   "execution_count": 100,
   "metadata": {
    "collapsed": false,
    "deletable": true,
    "editable": true
   },
   "outputs": [
    {
     "data": {
      "text/plain": [
       "{0: 1.0, 1: 1.0}"
      ]
     },
     "execution_count": 100,
     "metadata": {},
     "output_type": "execute_result"
    }
   ],
   "source": [
    "roc_auc"
   ]
  },
  {
   "cell_type": "code",
   "execution_count": 1,
   "metadata": {
    "collapsed": false,
    "deletable": true,
    "editable": true
   },
   "outputs": [
    {
     "ename": "NameError",
     "evalue": "name 'np' is not defined",
     "output_type": "error",
     "traceback": [
      "\u001b[0;31m---------------------------------------------------------------------------\u001b[0m",
      "\u001b[0;31mNameError\u001b[0m                                 Traceback (most recent call last)",
      "\u001b[0;32m<ipython-input-1-1069fcffcf3b>\u001b[0m in \u001b[0;36m<module>\u001b[0;34m()\u001b[0m\n\u001b[1;32m      4\u001b[0m \u001b[0mn_classes\u001b[0m\u001b[0;34m=\u001b[0m\u001b[0;36m2\u001b[0m\u001b[0;34m\u001b[0m\u001b[0m\n\u001b[1;32m      5\u001b[0m \u001b[0;31m# First aggregate all false positive rates\u001b[0m\u001b[0;34m\u001b[0m\u001b[0;34m\u001b[0m\u001b[0m\n\u001b[0;32m----> 6\u001b[0;31m \u001b[0mall_fpr\u001b[0m \u001b[0;34m=\u001b[0m \u001b[0mnp\u001b[0m\u001b[0;34m.\u001b[0m\u001b[0munique\u001b[0m\u001b[0;34m(\u001b[0m\u001b[0mnp\u001b[0m\u001b[0;34m.\u001b[0m\u001b[0mconcatenate\u001b[0m\u001b[0;34m(\u001b[0m\u001b[0;34m[\u001b[0m\u001b[0mfpr\u001b[0m\u001b[0;34m[\u001b[0m\u001b[0mi\u001b[0m\u001b[0;34m]\u001b[0m \u001b[0;32mfor\u001b[0m \u001b[0mi\u001b[0m \u001b[0;32min\u001b[0m \u001b[0mrange\u001b[0m\u001b[0;34m(\u001b[0m\u001b[0mn_classes\u001b[0m\u001b[0;34m)\u001b[0m\u001b[0;34m]\u001b[0m\u001b[0;34m)\u001b[0m\u001b[0;34m)\u001b[0m\u001b[0;34m\u001b[0m\u001b[0m\n\u001b[0m\u001b[1;32m      7\u001b[0m \u001b[0;34m\u001b[0m\u001b[0m\n\u001b[1;32m      8\u001b[0m \u001b[0;31m# Then interpolate all ROC curves at this points\u001b[0m\u001b[0;34m\u001b[0m\u001b[0;34m\u001b[0m\u001b[0m\n",
      "\u001b[0;31mNameError\u001b[0m: name 'np' is not defined"
     ]
    }
   ],
   "source": [
    "from scipy import interp\n",
    "import matplotlib.pyplot as plt\n",
    "# Compute macro-average ROC curve and ROC area\n",
    "n_classes=2\n",
    "# First aggregate all false positive rates\n",
    "all_fpr = np.unique(np.concatenate([fpr[i] for i in range(n_classes)]))\n",
    "\n",
    "# Then interpolate all ROC curves at this points\n",
    "mean_tpr = np.zeros_like(all_fpr)\n",
    "for i in range(n_classes):\n",
    "    mean_tpr += interp(all_fpr, fpr[i], tpr[i])\n",
    "\n",
    "# Finally average it and compute AUC\n",
    "mean_tpr /= n_classes\n",
    "\n",
    "fpr[\"macro\"] = all_fpr\n",
    "tpr[\"macro\"] = mean_tpr\n",
    "roc_auc[\"macro\"] = auc(fpr[\"macro\"], tpr[\"macro\"])\n",
    "\n",
    "# Plot all ROC curves\n",
    "plt.figure()\n",
    "plt.plot(fpr[\"micro\"], tpr[\"micro\"],\n",
    "         label='micro-average ROC curve (area = {0:0.2f})'\n",
    "               ''.format(roc_auc[\"micro\"]),\n",
    "         color='deeppink', linestyle=':', linewidth=4)\n",
    "\n",
    "plt.plot(fpr[\"macro\"], tpr[\"macro\"],\n",
    "         label='macro-average ROC curve (area = {0:0.2f})'\n",
    "               ''.format(roc_auc[\"macro\"]),\n",
    "         color='navy', linestyle=':', linewidth=4)\n",
    "\n",
    "colors = cycle(['aqua', 'darkorange', 'cornflowerblue'])\n",
    "for i, color in zip(range(n_classes), colors):\n",
    "    plt.plot(fpr[i], tpr[i], color=color, lw=lw,\n",
    "             label='ROC curve of class {0} (area = {1:0.2f})'\n",
    "             ''.format(i, roc_auc[i]))\n",
    "\n",
    "plt.plot([0, 1], [0, 1], 'k--', lw=lw)\n",
    "plt.xlim([0.0, 1.0])\n",
    "plt.ylim([0.0, 1.05])\n",
    "plt.xlabel('False Positive Rate')\n",
    "plt.ylabel('True Positive Rate')\n",
    "plt.title('Some extension of Receiver operating characteristic to multi-class')\n",
    "plt.legend(loc=\"lower right\")\n",
    "plt.show()"
   ]
  },
  {
   "cell_type": "markdown",
   "metadata": {
    "collapsed": true,
    "deletable": true,
    "editable": true
   },
   "source": [
    "## Submission"
   ]
  },
  {
   "cell_type": "code",
   "execution_count": 81,
   "metadata": {
    "collapsed": false,
    "deletable": true,
    "editable": true
   },
   "outputs": [],
   "source": [
    "challenge = pd.read_csv('./data/Challenge_20180423.csv')\n",
    "challenge.sort_values('PredictionIdx',inplace=True)"
   ]
  },
  {
   "cell_type": "code",
   "execution_count": 82,
   "metadata": {
    "collapsed": true,
    "deletable": true,
    "editable": true
   },
   "outputs": [],
   "source": [
    "customer = pd.read_csv('./data/Customer.csv')\n",
    "isin = pd.read_csv('./data/Isin.csv')"
   ]
  },
  {
   "cell_type": "code",
   "execution_count": 83,
   "metadata": {
    "collapsed": true,
    "deletable": true,
    "editable": true
   },
   "outputs": [],
   "source": [
    "one = challenge.merge(isin, on ='IsinIdx', how='left')\n",
    "two = one.merge(customer, on='CustomerIdx', how='left')"
   ]
  },
  {
   "cell_type": "code",
   "execution_count": 84,
   "metadata": {
    "collapsed": true,
    "deletable": true,
    "editable": true
   },
   "outputs": [],
   "source": [
    "two = two.merge(volatile,how='left',on='IsinIdx')"
   ]
  },
  {
   "cell_type": "code",
   "execution_count": 85,
   "metadata": {
    "collapsed": true,
    "deletable": true,
    "editable": true
   },
   "outputs": [],
   "source": [
    "market = pd.read_csv('./data/Market.csv')\n",
    "def convertDatetime(x):\n",
    "    x = str(x)\n",
    "    date = x[:4] + '-' + x[4:6] + '-' + x[6:]\n",
    "    return datetime.strptime(date, '%Y-%m-%d')"
   ]
  },
  {
   "cell_type": "code",
   "execution_count": 86,
   "metadata": {
    "collapsed": false,
    "deletable": true,
    "editable": true
   },
   "outputs": [
    {
     "name": "stderr",
     "output_type": "stream",
     "text": [
      "/Users/jinweitan/anaconda/lib/python3.5/site-packages/ipykernel/__main__.py:2: SettingWithCopyWarning: \n",
      "A value is trying to be set on a copy of a slice from a DataFrame.\n",
      "Try using .loc[row_indexer,col_indexer] = value instead\n",
      "\n",
      "See the caveats in the documentation: http://pandas.pydata.org/pandas-docs/stable/indexing.html#indexing-view-versus-copy\n",
      "  from ipykernel import kernelapp as app\n"
     ]
    }
   ],
   "source": [
    "market_small = market[market['DateKey'] >= 20180416]\n",
    "market_small['DateKey'] = 20180423"
   ]
  },
  {
   "cell_type": "code",
   "execution_count": 87,
   "metadata": {
    "collapsed": true,
    "deletable": true,
    "editable": true
   },
   "outputs": [],
   "source": [
    "marketgrouped = market_small.groupby(by=['DateKey','IsinIdx'])['Price','Yield','ZSpread'].mean().reset_index()"
   ]
  },
  {
   "cell_type": "code",
   "execution_count": 88,
   "metadata": {
    "collapsed": false,
    "deletable": true,
    "editable": true
   },
   "outputs": [],
   "source": [
    "combined = two.merge(marketgrouped,on =['DateKey','IsinIdx'], how='left')"
   ]
  },
  {
   "cell_type": "code",
   "execution_count": 89,
   "metadata": {
    "collapsed": true,
    "deletable": true,
    "editable": true
   },
   "outputs": [],
   "source": [
    "combined['monthsToMaturity'] = combined.apply(getMonths, axis=1)"
   ]
  },
  {
   "cell_type": "code",
   "execution_count": 90,
   "metadata": {
    "collapsed": true,
    "deletable": true,
    "editable": true
   },
   "outputs": [],
   "source": [
    "combined = combined[features]"
   ]
  },
  {
   "cell_type": "code",
   "execution_count": 91,
   "metadata": {
    "collapsed": true,
    "deletable": true,
    "editable": true
   },
   "outputs": [],
   "source": [
    "combined = DataFrameImputer().fit_transform(combined)"
   ]
  },
  {
   "cell_type": "code",
   "execution_count": 92,
   "metadata": {
    "collapsed": true,
    "deletable": true,
    "editable": true
   },
   "outputs": [],
   "source": [
    "from sklearn.preprocessing import LabelEncoder\n",
    "le = LabelEncoder()\n",
    "for feature in non_numeric_cols:\n",
    "    combined[feature] = le.fit_transform(combined[feature])"
   ]
  },
  {
   "cell_type": "code",
   "execution_count": 93,
   "metadata": {
    "collapsed": false,
    "deletable": true,
    "editable": true
   },
   "outputs": [],
   "source": [
    "result = gbm.predict_proba(combined.as_matrix())[:,1]\n",
    "\n"
   ]
  },
  {
   "cell_type": "code",
   "execution_count": 94,
   "metadata": {
    "collapsed": false,
    "deletable": true,
    "editable": true
   },
   "outputs": [
    {
     "data": {
      "text/plain": [
       "array([ 0.43209803,  0.2083753 ,  0.46575594, ...,  0.18986221,\n",
       "        0.23781286,  0.3720507 ], dtype=float32)"
      ]
     },
     "execution_count": 94,
     "metadata": {},
     "output_type": "execute_result"
    }
   ],
   "source": [
    "result"
   ]
  },
  {
   "cell_type": "code",
   "execution_count": 95,
   "metadata": {
    "collapsed": true,
    "deletable": true,
    "editable": true
   },
   "outputs": [],
   "source": [
    "challenge['CustomerInterest'] = result"
   ]
  },
  {
   "cell_type": "code",
   "execution_count": 97,
   "metadata": {
    "collapsed": false,
    "deletable": true,
    "editable": true
   },
   "outputs": [],
   "source": [
    "challenge[['PredictionIdx','CustomerInterest']].to_csv(\"week0513.csv\", index=False)"
   ]
  },
  {
   "cell_type": "code",
   "execution_count": 155,
   "metadata": {
    "collapsed": true,
    "deletable": true,
    "editable": true
   },
   "outputs": [],
   "source": [
    "two['monthsToMaturity'] = two.apply(getMonths, axis=1)"
   ]
  },
  {
   "cell_type": "markdown",
   "metadata": {
    "collapsed": false,
    "deletable": true,
    "editable": true
   },
   "source": [
    "###### two.head()"
   ]
  },
  {
   "cell_type": "code",
   "execution_count": 157,
   "metadata": {
    "collapsed": true,
    "deletable": true,
    "editable": true
   },
   "outputs": [],
   "source": [
    "challenge = two[columns]"
   ]
  },
  {
   "cell_type": "code",
   "execution_count": 158,
   "metadata": {
    "collapsed": true,
    "deletable": true,
    "editable": true
   },
   "outputs": [],
   "source": [
    "challenge = DataFrameImputer().fit_transform(challenge)\n"
   ]
  },
  {
   "cell_type": "code",
   "execution_count": 159,
   "metadata": {
    "collapsed": true,
    "deletable": true,
    "editable": true
   },
   "outputs": [],
   "source": [
    "for feature in non_numeric_cols:\n",
    "    challenge[feature] = le.fit_transform(challenge[feature])\n"
   ]
  },
  {
   "cell_type": "code",
   "execution_count": 160,
   "metadata": {
    "collapsed": true,
    "deletable": true,
    "editable": true
   },
   "outputs": [],
   "source": [
    "challenge_X = challenge[features]"
   ]
  },
  {
   "cell_type": "code",
   "execution_count": 161,
   "metadata": {
    "collapsed": false,
    "deletable": true,
    "editable": true
   },
   "outputs": [
    {
     "data": {
      "text/html": [
       "<div>\n",
       "<style>\n",
       "    .dataframe thead tr:only-child th {\n",
       "        text-align: right;\n",
       "    }\n",
       "\n",
       "    .dataframe thead th {\n",
       "        text-align: left;\n",
       "    }\n",
       "\n",
       "    .dataframe tbody tr th {\n",
       "        vertical-align: top;\n",
       "    }\n",
       "</style>\n",
       "<table border=\"1\" class=\"dataframe\">\n",
       "  <thead>\n",
       "    <tr style=\"text-align: right;\">\n",
       "      <th></th>\n",
       "      <th>CustomerIdx</th>\n",
       "      <th>IsinIdxleft</th>\n",
       "      <th>BuySell</th>\n",
       "      <th>monthsToMaturity</th>\n",
       "      <th>Seniority</th>\n",
       "      <th>CompositeRating</th>\n",
       "      <th>IndustrySector</th>\n",
       "      <th>IssuedAmount</th>\n",
       "      <th>CouponType</th>\n",
       "      <th>volrank</th>\n",
       "    </tr>\n",
       "  </thead>\n",
       "  <tbody>\n",
       "    <tr>\n",
       "      <th>0</th>\n",
       "      <td>1856</td>\n",
       "      <td>13323</td>\n",
       "      <td>0</td>\n",
       "      <td>397.0</td>\n",
       "      <td>2</td>\n",
       "      <td>28</td>\n",
       "      <td>8</td>\n",
       "      <td>1.246002e+09</td>\n",
       "      <td>3</td>\n",
       "      <td>0</td>\n",
       "    </tr>\n",
       "    <tr>\n",
       "      <th>1</th>\n",
       "      <td>1856</td>\n",
       "      <td>9230</td>\n",
       "      <td>0</td>\n",
       "      <td>337.0</td>\n",
       "      <td>2</td>\n",
       "      <td>28</td>\n",
       "      <td>8</td>\n",
       "      <td>4.901086e+09</td>\n",
       "      <td>0</td>\n",
       "      <td>0</td>\n",
       "    </tr>\n",
       "    <tr>\n",
       "      <th>2</th>\n",
       "      <td>1780</td>\n",
       "      <td>9157</td>\n",
       "      <td>0</td>\n",
       "      <td>337.0</td>\n",
       "      <td>2</td>\n",
       "      <td>28</td>\n",
       "      <td>8</td>\n",
       "      <td>1.501245e+10</td>\n",
       "      <td>0</td>\n",
       "      <td>0</td>\n",
       "    </tr>\n",
       "    <tr>\n",
       "      <th>3</th>\n",
       "      <td>2129</td>\n",
       "      <td>9131</td>\n",
       "      <td>0</td>\n",
       "      <td>120.0</td>\n",
       "      <td>2</td>\n",
       "      <td>7</td>\n",
       "      <td>8</td>\n",
       "      <td>7.340076e+09</td>\n",
       "      <td>0</td>\n",
       "      <td>0</td>\n",
       "    </tr>\n",
       "    <tr>\n",
       "      <th>4</th>\n",
       "      <td>1758</td>\n",
       "      <td>7151</td>\n",
       "      <td>0</td>\n",
       "      <td>152.0</td>\n",
       "      <td>2</td>\n",
       "      <td>28</td>\n",
       "      <td>8</td>\n",
       "      <td>3.058452e+09</td>\n",
       "      <td>1</td>\n",
       "      <td>0</td>\n",
       "    </tr>\n",
       "  </tbody>\n",
       "</table>\n",
       "</div>"
      ],
      "text/plain": [
       "   CustomerIdx  IsinIdxleft  BuySell  monthsToMaturity  Seniority  \\\n",
       "0         1856        13323        0             397.0          2   \n",
       "1         1856         9230        0             337.0          2   \n",
       "2         1780         9157        0             337.0          2   \n",
       "3         2129         9131        0             120.0          2   \n",
       "4         1758         7151        0             152.0          2   \n",
       "\n",
       "   CompositeRating  IndustrySector  IssuedAmount  CouponType  volrank  \n",
       "0               28               8  1.246002e+09           3        0  \n",
       "1               28               8  4.901086e+09           0        0  \n",
       "2               28               8  1.501245e+10           0        0  \n",
       "3                7               8  7.340076e+09           0        0  \n",
       "4               28               8  3.058452e+09           1        0  "
      ]
     },
     "execution_count": 161,
     "metadata": {},
     "output_type": "execute_result"
    }
   ],
   "source": [
    "challenge_X.head()"
   ]
  },
  {
   "cell_type": "code",
   "execution_count": 164,
   "metadata": {
    "collapsed": true,
    "deletable": true,
    "editable": true
   },
   "outputs": [],
   "source": [
    "#result = gbm.predict_proba(challenge_X.as_matrix())\n",
    "result = model.predict_proba(challenge[features_noidx])[:,1]"
   ]
  },
  {
   "cell_type": "code",
   "execution_count": null,
   "metadata": {
    "collapsed": true,
    "deletable": true,
    "editable": true
   },
   "outputs": [],
   "source": [
    "result = model.predict_proba(challenge_X.as_matrix())"
   ]
  },
  {
   "cell_type": "code",
   "execution_count": 166,
   "metadata": {
    "collapsed": true,
    "deletable": true,
    "editable": true
   },
   "outputs": [],
   "source": [
    "submission = pd.read_csv('./data/sample_submission.csv')"
   ]
  },
  {
   "cell_type": "code",
   "execution_count": 167,
   "metadata": {
    "collapsed": true,
    "deletable": true,
    "editable": true
   },
   "outputs": [],
   "source": [
    "submission = two[['PredictionIdx']]"
   ]
  },
  {
   "cell_type": "code",
   "execution_count": null,
   "metadata": {
    "collapsed": true,
    "deletable": true,
    "editable": true
   },
   "outputs": [],
   "source": [
    "submission['CustomerInterest'] = result"
   ]
  },
  {
   "cell_type": "code",
   "execution_count": 103,
   "metadata": {
    "collapsed": true,
    "deletable": true,
    "editable": true
   },
   "outputs": [],
   "source": [
    "submission.to_csv('submission1.csv',index=False)"
   ]
  },
  {
   "cell_type": "code",
   "execution_count": 79,
   "metadata": {
    "collapsed": false,
    "deletable": true,
    "editable": true
   },
   "outputs": [
    {
     "data": {
      "text/plain": [
       "array([ 0.15835859,  0.08997062,  0.18813282, ...,  0.42448431,\n",
       "        0.48781154,  0.64466643], dtype=float32)"
      ]
     },
     "execution_count": 79,
     "metadata": {},
     "output_type": "execute_result"
    }
   ],
   "source": [
    "result"
   ]
  },
  {
   "cell_type": "code",
   "execution_count": null,
   "metadata": {
    "collapsed": true,
    "deletable": true,
    "editable": true
   },
   "outputs": [],
   "source": []
  }
 ],
 "metadata": {
  "kernelspec": {
   "display_name": "Python [conda env:anaconda]",
   "language": "python",
   "name": "conda-env-anaconda-py"
  },
  "language_info": {
   "codemirror_mode": {
    "name": "ipython",
    "version": 3
   },
   "file_extension": ".py",
   "mimetype": "text/x-python",
   "name": "python",
   "nbconvert_exporter": "python",
   "pygments_lexer": "ipython3",
   "version": "3.5.3"
  }
 },
 "nbformat": 4,
 "nbformat_minor": 2
}
