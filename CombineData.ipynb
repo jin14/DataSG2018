{
 "cells": [
  {
   "cell_type": "code",
   "execution_count": 33,
   "metadata": {
    "collapsed": true,
    "deletable": true,
    "editable": true
   },
   "outputs": [],
   "source": [
    "import pandas as pd\n",
    "pd.options.display.max_columns = 99"
   ]
  },
  {
   "cell_type": "code",
   "execution_count": 34,
   "metadata": {
    "collapsed": false,
    "deletable": true,
    "editable": true
   },
   "outputs": [],
   "source": [
    "customer = pd.read_csv('./data/Customer.csv')\n",
    "isin = pd.read_csv('./data/Isin.csv')\n",
    "market = pd.read_csv('./data/Market.csv')\n",
    "marketMacro = pd.read_csv('./data/MarketData_Macro.csv')\n",
    "trade = pd.read_csv('./data/Trade.csv')\n",
    "challenge = pd.read_csv('./data/Challenge_20180423.csv')\n",
    "All = [customer, isin, market, marketMacro, trade, challenge]"
   ]
  },
  {
   "cell_type": "code",
   "execution_count": 35,
   "metadata": {
    "collapsed": true
   },
   "outputs": [],
   "source": [
    "All = [customer, isin, market, trade]"
   ]
  },
  {
   "cell_type": "code",
   "execution_count": 36,
   "metadata": {
    "collapsed": false,
    "deletable": true,
    "editable": true
   },
   "outputs": [
    {
     "name": "stdout",
     "output_type": "stream",
     "text": [
      "Index(['CustomerIdx', 'Sector', 'Subsector', 'Region', 'Country'], dtype='object')\n",
      "(3471, 5)\n",
      "\n",
      "\n",
      "Index(['IsinIdx', 'TickerIdx', 'ActualMaturityDateKey', 'IssueDateKey',\n",
      "       'Seniority', 'Currency', 'ActivityGroup', 'Region', 'Activity',\n",
      "       'RiskCaptain', 'Owner', 'CompositeRating', 'IndustrySector',\n",
      "       'IndustrySubgroup', 'MarketIssue', 'IssuedAmount', 'CouponType'],\n",
      "      dtype='object')\n",
      "(27411, 17)\n",
      "\n",
      "\n",
      "Index(['IsinIdx', 'DateKey', 'Price', 'Yield', 'ZSpread'], dtype='object')\n",
      "(9867747, 5)\n",
      "\n",
      "\n",
      "Index(['TradeDateKey', 'CustomerIdx', 'IsinIdx', 'BuySell', 'NotionalEUR',\n",
      "       'Price', 'TradeStatus', 'CustomerInterest'],\n",
      "      dtype='object')\n",
      "(6762021, 8)\n",
      "\n",
      "\n"
     ]
    }
   ],
   "source": [
    "for item in All:\n",
    "    print (item.columns)\n",
    "    print (item.shape)\n",
    "    print (\"\\n\")"
   ]
  },
  {
   "cell_type": "code",
   "execution_count": 37,
   "metadata": {
    "collapsed": false
   },
   "outputs": [
    {
     "data": {
      "text/html": [
       "<div>\n",
       "<table border=\"1\" class=\"dataframe\">\n",
       "  <thead>\n",
       "    <tr style=\"text-align: right;\">\n",
       "      <th></th>\n",
       "      <th>TradeDateKey</th>\n",
       "      <th>CustomerIdx</th>\n",
       "      <th>IsinIdx</th>\n",
       "      <th>BuySell</th>\n",
       "      <th>NotionalEUR</th>\n",
       "      <th>Price</th>\n",
       "      <th>TradeStatus</th>\n",
       "      <th>CustomerInterest</th>\n",
       "    </tr>\n",
       "  </thead>\n",
       "  <tbody>\n",
       "    <tr>\n",
       "      <th>0</th>\n",
       "      <td>20161207</td>\n",
       "      <td>2789</td>\n",
       "      <td>8478</td>\n",
       "      <td>Sell</td>\n",
       "      <td>653168.0</td>\n",
       "      <td>0.0</td>\n",
       "      <td>Unknown</td>\n",
       "      <td>1.0</td>\n",
       "    </tr>\n",
       "    <tr>\n",
       "      <th>1</th>\n",
       "      <td>20170329</td>\n",
       "      <td>2574</td>\n",
       "      <td>14562</td>\n",
       "      <td>Buy</td>\n",
       "      <td>1656487.0</td>\n",
       "      <td>0.0</td>\n",
       "      <td>Unknown</td>\n",
       "      <td>1.0</td>\n",
       "    </tr>\n",
       "    <tr>\n",
       "      <th>2</th>\n",
       "      <td>20170418</td>\n",
       "      <td>2574</td>\n",
       "      <td>4747</td>\n",
       "      <td>Buy</td>\n",
       "      <td>939673.0</td>\n",
       "      <td>0.0</td>\n",
       "      <td>Unknown</td>\n",
       "      <td>1.0</td>\n",
       "    </tr>\n",
       "    <tr>\n",
       "      <th>3</th>\n",
       "      <td>20170310</td>\n",
       "      <td>2574</td>\n",
       "      <td>9885</td>\n",
       "      <td>Sell</td>\n",
       "      <td>708082.0</td>\n",
       "      <td>0.0</td>\n",
       "      <td>Unknown</td>\n",
       "      <td>1.0</td>\n",
       "    </tr>\n",
       "    <tr>\n",
       "      <th>4</th>\n",
       "      <td>20161116</td>\n",
       "      <td>2574</td>\n",
       "      <td>8885</td>\n",
       "      <td>Buy</td>\n",
       "      <td>1147709.0</td>\n",
       "      <td>0.0</td>\n",
       "      <td>Unknown</td>\n",
       "      <td>1.0</td>\n",
       "    </tr>\n",
       "  </tbody>\n",
       "</table>\n",
       "</div>"
      ],
      "text/plain": [
       "   TradeDateKey  CustomerIdx  IsinIdx BuySell  NotionalEUR  Price TradeStatus  \\\n",
       "0      20161207         2789     8478    Sell     653168.0    0.0     Unknown   \n",
       "1      20170329         2574    14562     Buy    1656487.0    0.0     Unknown   \n",
       "2      20170418         2574     4747     Buy     939673.0    0.0     Unknown   \n",
       "3      20170310         2574     9885    Sell     708082.0    0.0     Unknown   \n",
       "4      20161116         2574     8885     Buy    1147709.0    0.0     Unknown   \n",
       "\n",
       "   CustomerInterest  \n",
       "0               1.0  \n",
       "1               1.0  \n",
       "2               1.0  \n",
       "3               1.0  \n",
       "4               1.0  "
      ]
     },
     "execution_count": 37,
     "metadata": {},
     "output_type": "execute_result"
    }
   ],
   "source": [
    "trade.head()"
   ]
  },
  {
   "cell_type": "raw",
   "metadata": {
    "deletable": true,
    "editable": true
   },
   "source": [
    "BY DAY\n",
    "Step to combine data:\n",
    "1) Left Join trade and isin ON IsinIdx \n",
    "2) Left Join (1) and customer ON CustomerIdx \n",
    "3) Left Join (2) and market ON IsinIdx # will not work as market shows all the historical pricing of the bond, might have to analyze each bond separately and create features based on historical pricing (e.g. volatility based on changes in price ( > 15% change) negative + positive) "
   ]
  },
  {
   "cell_type": "code",
   "execution_count": 38,
   "metadata": {
    "collapsed": false,
    "deletable": true,
    "editable": true
   },
   "outputs": [
    {
     "data": {
      "text/plain": [
       "6762021"
      ]
     },
     "execution_count": 38,
     "metadata": {},
     "output_type": "execute_result"
    }
   ],
   "source": [
    "#1\n",
    "one = trade.join(isin.set_index('IsinIdx'), how='left')\n",
    "len(one)"
   ]
  },
  {
   "cell_type": "code",
   "execution_count": 39,
   "metadata": {
    "collapsed": false,
    "deletable": true,
    "editable": true
   },
   "outputs": [
    {
     "data": {
      "text/plain": [
       "6762021"
      ]
     },
     "execution_count": 39,
     "metadata": {},
     "output_type": "execute_result"
    }
   ],
   "source": [
    "#2\n",
    "two = one.join(customer.set_index('CustomerIdx'), how='left', lsuffix='_two', rsuffix='_customer')\n",
    "len(two)"
   ]
  },
  {
   "cell_type": "code",
   "execution_count": 40,
   "metadata": {
    "collapsed": false
   },
   "outputs": [
    {
     "data": {
      "text/html": [
       "<div>\n",
       "<table border=\"1\" class=\"dataframe\">\n",
       "  <thead>\n",
       "    <tr style=\"text-align: right;\">\n",
       "      <th></th>\n",
       "      <th>TradeDateKey</th>\n",
       "      <th>CustomerIdx</th>\n",
       "      <th>IsinIdx</th>\n",
       "      <th>BuySell</th>\n",
       "      <th>NotionalEUR</th>\n",
       "      <th>Price</th>\n",
       "      <th>TradeStatus</th>\n",
       "      <th>CustomerInterest</th>\n",
       "      <th>TickerIdx</th>\n",
       "      <th>ActualMaturityDateKey</th>\n",
       "      <th>IssueDateKey</th>\n",
       "      <th>Seniority</th>\n",
       "      <th>Currency</th>\n",
       "      <th>ActivityGroup</th>\n",
       "      <th>Region_two</th>\n",
       "      <th>Activity</th>\n",
       "      <th>RiskCaptain</th>\n",
       "      <th>Owner</th>\n",
       "      <th>CompositeRating</th>\n",
       "      <th>IndustrySector</th>\n",
       "      <th>IndustrySubgroup</th>\n",
       "      <th>MarketIssue</th>\n",
       "      <th>IssuedAmount</th>\n",
       "      <th>CouponType</th>\n",
       "      <th>Sector</th>\n",
       "      <th>Subsector</th>\n",
       "      <th>Region_customer</th>\n",
       "      <th>Country</th>\n",
       "    </tr>\n",
       "  </thead>\n",
       "  <tbody>\n",
       "    <tr>\n",
       "      <th>0</th>\n",
       "      <td>20161207</td>\n",
       "      <td>2789</td>\n",
       "      <td>8478</td>\n",
       "      <td>Sell</td>\n",
       "      <td>653168.0</td>\n",
       "      <td>0.0</td>\n",
       "      <td>Unknown</td>\n",
       "      <td>1.0</td>\n",
       "      <td>238.0</td>\n",
       "      <td>20381231.0</td>\n",
       "      <td>20051129.0</td>\n",
       "      <td>GOV</td>\n",
       "      <td>USD</td>\n",
       "      <td>FLOW LOCAL MARKET</td>\n",
       "      <td>AMERICAS</td>\n",
       "      <td>ARGENTINA</td>\n",
       "      <td>ARGENTINA</td>\n",
       "      <td>EMK ARGENTINA</td>\n",
       "      <td>NR</td>\n",
       "      <td>Government</td>\n",
       "      <td>Sovereign</td>\n",
       "      <td>Domestic</td>\n",
       "      <td>1.246002e+09</td>\n",
       "      <td>STEP CPN</td>\n",
       "      <td>Asset Managers &amp; Hedge Funds</td>\n",
       "      <td>Independent Asset Manager</td>\n",
       "      <td>Asia Pacific</td>\n",
       "      <td>HONG KONG</td>\n",
       "    </tr>\n",
       "    <tr>\n",
       "      <th>1</th>\n",
       "      <td>20170329</td>\n",
       "      <td>2574</td>\n",
       "      <td>14562</td>\n",
       "      <td>Buy</td>\n",
       "      <td>1656487.0</td>\n",
       "      <td>0.0</td>\n",
       "      <td>Unknown</td>\n",
       "      <td>1.0</td>\n",
       "      <td>238.0</td>\n",
       "      <td>20331231.0</td>\n",
       "      <td>20051129.0</td>\n",
       "      <td>GOV</td>\n",
       "      <td>USD</td>\n",
       "      <td>FLOW LOCAL MARKET</td>\n",
       "      <td>AMERICAS</td>\n",
       "      <td>ARGENTINA</td>\n",
       "      <td>ARGENTINA</td>\n",
       "      <td>EMK ARGENTINA</td>\n",
       "      <td>NR</td>\n",
       "      <td>Government</td>\n",
       "      <td>Sovereign</td>\n",
       "      <td>Domestic</td>\n",
       "      <td>4.901086e+09</td>\n",
       "      <td>FIXED</td>\n",
       "      <td>Asset Managers &amp; Hedge Funds</td>\n",
       "      <td>Asset Mgr owned by Bank/Insur.</td>\n",
       "      <td>Americas</td>\n",
       "      <td>BRAZIL</td>\n",
       "    </tr>\n",
       "    <tr>\n",
       "      <th>2</th>\n",
       "      <td>20170418</td>\n",
       "      <td>2574</td>\n",
       "      <td>4747</td>\n",
       "      <td>Buy</td>\n",
       "      <td>939673.0</td>\n",
       "      <td>0.0</td>\n",
       "      <td>Unknown</td>\n",
       "      <td>1.0</td>\n",
       "      <td>238.0</td>\n",
       "      <td>20331231.0</td>\n",
       "      <td>20051129.0</td>\n",
       "      <td>GOV</td>\n",
       "      <td>ARS</td>\n",
       "      <td>FLOW LOCAL MARKET</td>\n",
       "      <td>AMERICAS</td>\n",
       "      <td>ARGENTINA</td>\n",
       "      <td>ARGENTINA</td>\n",
       "      <td>EMK ARGENTINA</td>\n",
       "      <td>NR</td>\n",
       "      <td>Government</td>\n",
       "      <td>Sovereign</td>\n",
       "      <td>Domestic</td>\n",
       "      <td>1.501245e+10</td>\n",
       "      <td>FIXED</td>\n",
       "      <td>Asset Managers &amp; Hedge Funds</td>\n",
       "      <td>Hedge Fund</td>\n",
       "      <td>Americas</td>\n",
       "      <td>BRAZIL</td>\n",
       "    </tr>\n",
       "    <tr>\n",
       "      <th>3</th>\n",
       "      <td>20170310</td>\n",
       "      <td>2574</td>\n",
       "      <td>9885</td>\n",
       "      <td>Sell</td>\n",
       "      <td>708082.0</td>\n",
       "      <td>0.0</td>\n",
       "      <td>Unknown</td>\n",
       "      <td>1.0</td>\n",
       "      <td>236.0</td>\n",
       "      <td>20170417.0</td>\n",
       "      <td>20070417.0</td>\n",
       "      <td>GOV</td>\n",
       "      <td>USD</td>\n",
       "      <td>FLOW LOCAL MARKET</td>\n",
       "      <td>AMERICAS</td>\n",
       "      <td>ARGENTINA</td>\n",
       "      <td>ARGENTINA</td>\n",
       "      <td>EMK ARGENTINA</td>\n",
       "      <td>B</td>\n",
       "      <td>Government</td>\n",
       "      <td>Sovereign</td>\n",
       "      <td>Domestic</td>\n",
       "      <td>7.340076e+09</td>\n",
       "      <td>FIXED</td>\n",
       "      <td>Asset Managers &amp; Hedge Funds</td>\n",
       "      <td>NaN</td>\n",
       "      <td>Europe, Middle East and Africa</td>\n",
       "      <td>GERMANY</td>\n",
       "    </tr>\n",
       "    <tr>\n",
       "      <th>4</th>\n",
       "      <td>20161116</td>\n",
       "      <td>2574</td>\n",
       "      <td>8885</td>\n",
       "      <td>Buy</td>\n",
       "      <td>1147709.0</td>\n",
       "      <td>0.0</td>\n",
       "      <td>Unknown</td>\n",
       "      <td>1.0</td>\n",
       "      <td>234.0</td>\n",
       "      <td>20221004.0</td>\n",
       "      <td>20100222.0</td>\n",
       "      <td>GOV</td>\n",
       "      <td>ARS</td>\n",
       "      <td>FLOW LOCAL MARKET</td>\n",
       "      <td>AMERICAS</td>\n",
       "      <td>ARGENTINA</td>\n",
       "      <td>ARGENTINA</td>\n",
       "      <td>EMK ARGENTINA</td>\n",
       "      <td>NR</td>\n",
       "      <td>Government</td>\n",
       "      <td>Sovereign</td>\n",
       "      <td>Domestic</td>\n",
       "      <td>3.058452e+09</td>\n",
       "      <td>FLOATING</td>\n",
       "      <td>Asset Owners</td>\n",
       "      <td>Insurance</td>\n",
       "      <td>Europe, Middle East and Africa</td>\n",
       "      <td>GERMANY</td>\n",
       "    </tr>\n",
       "  </tbody>\n",
       "</table>\n",
       "</div>"
      ],
      "text/plain": [
       "   TradeDateKey  CustomerIdx  IsinIdx BuySell  NotionalEUR  Price TradeStatus  \\\n",
       "0      20161207         2789     8478    Sell     653168.0    0.0     Unknown   \n",
       "1      20170329         2574    14562     Buy    1656487.0    0.0     Unknown   \n",
       "2      20170418         2574     4747     Buy     939673.0    0.0     Unknown   \n",
       "3      20170310         2574     9885    Sell     708082.0    0.0     Unknown   \n",
       "4      20161116         2574     8885     Buy    1147709.0    0.0     Unknown   \n",
       "\n",
       "   CustomerInterest  TickerIdx  ActualMaturityDateKey  IssueDateKey Seniority  \\\n",
       "0               1.0      238.0             20381231.0    20051129.0       GOV   \n",
       "1               1.0      238.0             20331231.0    20051129.0       GOV   \n",
       "2               1.0      238.0             20331231.0    20051129.0       GOV   \n",
       "3               1.0      236.0             20170417.0    20070417.0       GOV   \n",
       "4               1.0      234.0             20221004.0    20100222.0       GOV   \n",
       "\n",
       "  Currency      ActivityGroup Region_two   Activity RiskCaptain  \\\n",
       "0      USD  FLOW LOCAL MARKET   AMERICAS  ARGENTINA   ARGENTINA   \n",
       "1      USD  FLOW LOCAL MARKET   AMERICAS  ARGENTINA   ARGENTINA   \n",
       "2      ARS  FLOW LOCAL MARKET   AMERICAS  ARGENTINA   ARGENTINA   \n",
       "3      USD  FLOW LOCAL MARKET   AMERICAS  ARGENTINA   ARGENTINA   \n",
       "4      ARS  FLOW LOCAL MARKET   AMERICAS  ARGENTINA   ARGENTINA   \n",
       "\n",
       "           Owner CompositeRating IndustrySector IndustrySubgroup MarketIssue  \\\n",
       "0  EMK ARGENTINA              NR     Government        Sovereign    Domestic   \n",
       "1  EMK ARGENTINA              NR     Government        Sovereign    Domestic   \n",
       "2  EMK ARGENTINA              NR     Government        Sovereign    Domestic   \n",
       "3  EMK ARGENTINA               B     Government        Sovereign    Domestic   \n",
       "4  EMK ARGENTINA              NR     Government        Sovereign    Domestic   \n",
       "\n",
       "   IssuedAmount CouponType                        Sector  \\\n",
       "0  1.246002e+09   STEP CPN  Asset Managers & Hedge Funds   \n",
       "1  4.901086e+09      FIXED  Asset Managers & Hedge Funds   \n",
       "2  1.501245e+10      FIXED  Asset Managers & Hedge Funds   \n",
       "3  7.340076e+09      FIXED  Asset Managers & Hedge Funds   \n",
       "4  3.058452e+09   FLOATING                  Asset Owners   \n",
       "\n",
       "                        Subsector                 Region_customer    Country  \n",
       "0       Independent Asset Manager                    Asia Pacific  HONG KONG  \n",
       "1  Asset Mgr owned by Bank/Insur.                        Americas     BRAZIL  \n",
       "2                      Hedge Fund                        Americas     BRAZIL  \n",
       "3                             NaN  Europe, Middle East and Africa    GERMANY  \n",
       "4                       Insurance  Europe, Middle East and Africa    GERMANY  "
      ]
     },
     "execution_count": 40,
     "metadata": {},
     "output_type": "execute_result"
    }
   ],
   "source": [
    "two.head()"
   ]
  },
  {
   "cell_type": "code",
   "execution_count": 42,
   "metadata": {
    "collapsed": false,
    "deletable": true,
    "editable": true
   },
   "outputs": [],
   "source": [
    "two.to_csv(\"./data/Aggregated.csv\",index=False)"
   ]
  },
  {
   "cell_type": "raw",
   "metadata": {},
   "source": [
    "BY WEEK\n",
    "Step to combine data:\n",
    "1) Left Join trade and isin ON IsinIdx \n",
    "2) Left Join (1) and customer ON CustomerIdx \n",
    "3) Left Join (2) and market ON IsinIdx # will not work as market shows all the historical pricing of the bond, might have to analyze each bond separately and create features based on historical pricing (e.g. volatility based on changes in price ( > 15% change) negative + positive) "
   ]
  },
  {
   "cell_type": "code",
   "execution_count": 43,
   "metadata": {
    "collapsed": true
   },
   "outputs": [],
   "source": [
    "from datetime import datetime, timedelta"
   ]
  },
  {
   "cell_type": "code",
   "execution_count": 44,
   "metadata": {
    "collapsed": false
   },
   "outputs": [],
   "source": [
    "trade['date'] = trade['TradeDateKey'].apply(lambda x: str(x)).apply(lambda x: x[:4] + '-' + x[4:6] + '-' + x[6:]).apply(lambda x: datetime.strptime(x, '%Y-%m-%d'))"
   ]
  },
  {
   "cell_type": "code",
   "execution_count": 45,
   "metadata": {
    "collapsed": true
   },
   "outputs": [],
   "source": [
    "trade['week'] = trade['date'].apply(lambda x: x - timedelta(days=x.weekday()))"
   ]
  },
  {
   "cell_type": "code",
   "execution_count": 52,
   "metadata": {
    "collapsed": false
   },
   "outputs": [],
   "source": [
    "grouped = trade.groupby(by=['week','CustomerIdx','IsinIdx','BuySell','TradeStatus'])['CustomerInterest'].mean().reset_index()"
   ]
  },
  {
   "cell_type": "code",
   "execution_count": 48,
   "metadata": {
    "collapsed": false
   },
   "outputs": [
    {
     "data": {
      "text/plain": [
       "6419052"
      ]
     },
     "execution_count": 48,
     "metadata": {},
     "output_type": "execute_result"
    }
   ],
   "source": [
    "len(grouped)"
   ]
  },
  {
   "cell_type": "code",
   "execution_count": 53,
   "metadata": {
    "collapsed": false
   },
   "outputs": [
    {
     "data": {
      "text/plain": [
       "6419052"
      ]
     },
     "execution_count": 53,
     "metadata": {},
     "output_type": "execute_result"
    }
   ],
   "source": [
    "#1\n",
    "oneW = grouped.join(isin.set_index('IsinIdx'), how='left')\n",
    "len(oneW)"
   ]
  },
  {
   "cell_type": "code",
   "execution_count": 54,
   "metadata": {
    "collapsed": false
   },
   "outputs": [
    {
     "data": {
      "text/plain": [
       "6419052"
      ]
     },
     "execution_count": 54,
     "metadata": {},
     "output_type": "execute_result"
    }
   ],
   "source": [
    "twoW = oneW.join(customer.set_index('CustomerIdx'), how='left', lsuffix='_two', rsuffix='_customer')\n",
    "len(twoW)"
   ]
  },
  {
   "cell_type": "code",
   "execution_count": 55,
   "metadata": {
    "collapsed": true
   },
   "outputs": [],
   "source": [
    "twoW.to_csv(\"./data/Aggregated_week.csv\",index=False)"
   ]
  },
  {
   "cell_type": "code",
   "execution_count": null,
   "metadata": {
    "collapsed": true
   },
   "outputs": [],
   "source": []
  }
 ],
 "metadata": {
  "kernelspec": {
   "display_name": "Python [conda env:python36]",
   "language": "python",
   "name": "conda-env-python36-py"
  },
  "language_info": {
   "codemirror_mode": {
    "name": "ipython",
    "version": 3
   },
   "file_extension": ".py",
   "mimetype": "text/x-python",
   "name": "python",
   "nbconvert_exporter": "python",
   "pygments_lexer": "ipython3",
   "version": "3.6.0"
  }
 },
 "nbformat": 4,
 "nbformat_minor": 2
}
