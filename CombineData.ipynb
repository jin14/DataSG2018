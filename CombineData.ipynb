{
 "cells": [
  {
   "cell_type": "code",
   "execution_count": 1,
   "metadata": {
    "collapsed": true
   },
   "outputs": [],
   "source": [
    "import pandas as pd\n",
    "#pd.options.display.max_columns = 99"
   ]
  },
  {
   "cell_type": "code",
   "execution_count": 7,
   "metadata": {
    "collapsed": true
   },
   "outputs": [],
   "source": [
    "customer = pd.read_csv('./data/Customer.csv')\n",
    "isin = pd.read_csv('./data/Isin.csv')\n",
    "market = pd.read_csv('./data/Market.csv')\n",
    "marketMacro = pd.read_csv('./data/MarketData_Macro.csv')\n",
    "trade = pd.read_csv('./data/Trade.csv')\n",
    "challenge = pd.read_csv('./data/Challenge_20180423.csv')\n",
    "All = [customer, isin, market, marketMacro, trade, challenge]"
   ]
  },
  {
   "cell_type": "code",
   "execution_count": 11,
   "metadata": {
    "collapsed": false
   },
   "outputs": [
    {
     "name": "stdout",
     "output_type": "stream",
     "text": [
      "Index(['CustomerIdx', 'Sector', 'Subsector', 'Region', 'Country'], dtype='object')\n",
      "(3471, 5)\n",
      "\n",
      "\n",
      "Index(['IsinIdx', 'TickerIdx', 'ActualMaturityDateKey', 'IssueDateKey',\n",
      "       'Seniority', 'Currency', 'ActivityGroup', 'Region', 'Activity',\n",
      "       'RiskCaptain', 'Owner', 'CompositeRating', 'IndustrySector',\n",
      "       'IndustrySubgroup', 'MarketIssue', 'IssuedAmount', 'CouponType'],\n",
      "      dtype='object')\n",
      "(27411, 17)\n",
      "\n",
      "\n",
      "Index(['IsinIdx', 'DateKey', 'Price', 'Yield', 'ZSpread'], dtype='object')\n",
      "(9867747, 5)\n",
      "\n",
      "\n",
      "Index(['DateKey', 'SSE', 'DAX', 'EUROSTOXX', 'VSTOXX', 'FTSE100', 'HSI',\n",
      "       'NIKKEI', 'DOWJONES_INDU', 'SP500',\n",
      "       ...\n",
      "       'Swap_TRY2Y', 'Swap_TRY5Y', 'Swap_USD10Y', 'Swap_USD2Y', 'Swap_USD30Y',\n",
      "       'Swap_USD5Y', 'Swap_ZAR10Y', 'Swap_ZAR2Y', 'Swap_ZAR30Y', 'Swap_ZAR5Y'],\n",
      "      dtype='object', length=112)\n",
      "(877, 112)\n",
      "\n",
      "\n",
      "Index(['TradeDateKey', 'CustomerIdx', 'IsinIdx', 'BuySell', 'NotionalEUR',\n",
      "       'Price', 'TradeStatus', 'CustomerInterest'],\n",
      "      dtype='object')\n",
      "(6762021, 8)\n",
      "\n",
      "\n",
      "Index(['PredictionIdx', 'DateKey', 'CustomerIdx', 'IsinIdx', 'BuySell',\n",
      "       'CustomerInterest'],\n",
      "      dtype='object')\n",
      "(484758, 6)\n",
      "\n",
      "\n"
     ]
    }
   ],
   "source": [
    "for item in All:\n",
    "    print (item.columns)\n",
    "    print (item.shape)\n",
    "    print (\"\\n\")"
   ]
  },
  {
   "cell_type": "raw",
   "metadata": {},
   "source": [
    "Step to combine data:\n",
    "1) Left Join trade and isin ON IsinIdx \n",
    "2) Left Join (1) and customer ON CustomerIdx \n",
    "3) Left Join (2) and market ON IsinIdx # will not work as market shows all the historical pricing of the bond, might have to analyze each bond separately and create features based on historical pricing (e.g. volatility based on changes in price ( > 15% change) negative + positive) "
   ]
  },
  {
   "cell_type": "code",
   "execution_count": 20,
   "metadata": {
    "collapsed": false
   },
   "outputs": [
    {
     "data": {
      "text/plain": [
       "6762021"
      ]
     },
     "execution_count": 20,
     "metadata": {},
     "output_type": "execute_result"
    }
   ],
   "source": [
    "#1\n",
    "one = trade.join(isin.set_index('IsinIdx'), how='left')\n",
    "len(one)"
   ]
  },
  {
   "cell_type": "code",
   "execution_count": 21,
   "metadata": {
    "collapsed": false
   },
   "outputs": [
    {
     "data": {
      "text/plain": [
       "6762021"
      ]
     },
     "execution_count": 21,
     "metadata": {},
     "output_type": "execute_result"
    }
   ],
   "source": [
    "#2\n",
    "two = one.join(customer.set_index('CustomerIdx'), how='left', lsuffix='_two', rsuffix='_customer')\n",
    "len(two)"
   ]
  },
  {
   "cell_type": "code",
   "execution_count": 65,
   "metadata": {
    "collapsed": false
   },
   "outputs": [],
   "source": [
    "pd.options.display.max_columns = 99"
   ]
  },
  {
   "cell_type": "code",
   "execution_count": 69,
   "metadata": {
    "collapsed": false
   },
   "outputs": [],
   "source": [
    "two.to_csv(\"./data/Aggregated.csv\",index=False)"
   ]
  },
  {
   "cell_type": "code",
   "execution_count": null,
   "metadata": {
    "collapsed": true
   },
   "outputs": [],
   "source": []
  }
 ],
 "metadata": {
  "kernelspec": {
   "display_name": "Python [conda env:python36]",
   "language": "python",
   "name": "conda-env-python36-py"
  },
  "language_info": {
   "codemirror_mode": {
    "name": "ipython",
    "version": 3
   },
   "file_extension": ".py",
   "mimetype": "text/x-python",
   "name": "python",
   "nbconvert_exporter": "python",
   "pygments_lexer": "ipython3",
   "version": "3.6.0"
  }
 },
 "nbformat": 4,
 "nbformat_minor": 2
}
